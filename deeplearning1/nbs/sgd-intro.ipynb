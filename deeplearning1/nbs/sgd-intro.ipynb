{
 "cells": [
  {
   "cell_type": "markdown",
   "metadata": {
    "toc": "true"
   },
   "source": [
    "# Table of Contents\n",
    " <p>"
   ]
  },
  {
   "cell_type": "code",
   "execution_count": 1,
   "metadata": {},
   "outputs": [
    {
     "data": {
      "text/plain": [
       "u'%.4f'"
      ]
     },
     "execution_count": 1,
     "metadata": {},
     "output_type": "execute_result"
    }
   ],
   "source": [
    "%matplotlib inline\n",
    "import math,sys,os,numpy as np\n",
    "from numpy.random import random\n",
    "from matplotlib import pyplot as plt, rcParams, animation, rc\n",
    "from __future__ import print_function, division\n",
    "from ipywidgets import interact, interactive, fixed\n",
    "from ipywidgets.widgets import *\n",
    "rc('animation', html='html5')\n",
    "rcParams['figure.figsize'] = 3, 3\n",
    "%precision 4\n",
    "np.set_printoptions(precision=4, linewidth=100)"
   ]
  },
  {
   "cell_type": "code",
   "execution_count": 15,
   "metadata": {
    "collapsed": true
   },
   "outputs": [],
   "source": [
    "def line(a,b,x): return a*x+b"
   ]
  },
  {
   "cell_type": "code",
   "execution_count": 3,
   "metadata": {
    "collapsed": true
   },
   "outputs": [],
   "source": [
    "a=3.\n",
    "b=8."
   ]
  },
  {
   "cell_type": "code",
   "execution_count": 4,
   "metadata": {
    "collapsed": true
   },
   "outputs": [],
   "source": [
    "n=30\n",
    "x = random(n)\n",
    "y = line(a,b,x)"
   ]
  },
  {
   "cell_type": "code",
   "execution_count": 5,
   "metadata": {},
   "outputs": [
    {
     "data": {
      "text/plain": [
       "array([ 0.9102,  0.1681,  0.5909,  0.4624,  0.1789,  0.5594,  0.9827,  0.8323,  0.1618,  0.8139,\n",
       "        0.8185,  0.6078,  0.7364,  0.8245,  0.7555,  0.4577,  0.6855,  0.1124,  0.6492,  0.9224,\n",
       "        0.9673,  0.5096,  0.7889,  0.4333,  0.2006,  0.9938,  0.0446,  0.7723,  0.9891,  0.4382])"
      ]
     },
     "execution_count": 5,
     "metadata": {},
     "output_type": "execute_result"
    }
   ],
   "source": [
    "x"
   ]
  },
  {
   "cell_type": "code",
   "execution_count": 6,
   "metadata": {},
   "outputs": [
    {
     "data": {
      "text/plain": [
       "array([ 10.7306,   8.5042,   9.7726,   9.3871,   8.5367,   9.6783,  10.948 ,  10.4969,   8.4854,\n",
       "        10.4418,  10.4554,   9.8234,  10.2091,  10.4735,  10.2666,   9.3732,  10.0566,   8.3371,\n",
       "         9.9475,  10.7672,  10.902 ,   9.5288,  10.3668,   9.2999,   8.6018,  10.9814,   8.1337,\n",
       "        10.317 ,  10.9674,   9.3145])"
      ]
     },
     "execution_count": 6,
     "metadata": {},
     "output_type": "execute_result"
    }
   ],
   "source": [
    "y"
   ]
  },
  {
   "cell_type": "code",
   "execution_count": 7,
   "metadata": {},
   "outputs": [
    {
     "data": {
      "text/plain": [
       "<matplotlib.collections.PathCollection at 0x7fc1cf994a90>"
      ]
     },
     "execution_count": 7,
     "metadata": {},
     "output_type": "execute_result"
    },
    {
     "data": {
      "image/png": "[encoded data removed]",
      "text/plain": [
       "<matplotlib.figure.Figure at 0x7fc1f44c87d0>"
      ]
     },
     "metadata": {},
     "output_type": "display_data"
    }
   ],
   "source": [
    "plt.scatter(x,y)"
   ]
  },
  {
   "cell_type": "code",
   "execution_count": 8,
   "metadata": {
    "collapsed": true
   },
   "outputs": [],
   "source": [
    "def sse(y,y_pred): return ((y-y_pred)**2).sum()\n",
    "def loss(y,a,b,x): return sse(y, line(a,b,x))\n",
    "def avg_loss(y,a,b,x): return np.sqrt(loss(y,a,b,x)/n)"
   ]
  },
  {
   "cell_type": "code",
   "execution_count": 20,
   "metadata": {},
   "outputs": [
    {
     "data": {
      "text/plain": [
       "302.6696"
      ]
     },
     "execution_count": 20,
     "metadata": {},
     "output_type": "execute_result"
    }
   ],
   "source": [
    "a_guess=100.\n",
    "b_guess=250.\n",
    "avg_loss(y, a_guess, b_guess, x)"
   ]
  },
  {
   "cell_type": "code",
   "execution_count": 21,
   "metadata": {
    "collapsed": true
   },
   "outputs": [],
   "source": [
    "lr=0.01\n",
    "# d[(y-(a*x+b))**2,b] = 2 (b + a x - y)      = 2 (y_pred - y)\n",
    "# d[(y-(a*x+b))**2,a] = 2 x (b + a x - y)    = x * dy/db"
   ]
  },
  {
   "cell_type": "code",
   "execution_count": 22,
   "metadata": {
    "collapsed": true
   },
   "outputs": [],
   "source": [
    "def upd():\n",
    "    global a_guess, b_guess\n",
    "    y_pred = line(a_guess, b_guess, x)\n",
    "    dydb = 2 * (y_pred - y)\n",
    "    dyda = x*dydb\n",
    "    a_guess -= lr*dyda.mean()\n",
    "    b_guess -= lr*dydb.mean()"
   ]
  },
  {
   "cell_type": "code",
   "execution_count": 16,
   "metadata": {},
   "outputs": [
    {
     "data": {
      "text/plain": [
       "<matplotlib.collections.PathCollection at 0x7fc1cf6cdfd0>"
      ]
     },
     "execution_count": 16,
     "metadata": {},
     "output_type": "execute_result"
    },
    {
     "data": {
      "text/html": [
       "<video width=\"500\" height=\"400\" controls autoplay loop>\n",
       "  <source type=\"video/mp4\" src=\"data:video/mp4;base64,AAAAHGZ0eXBNNFYgAAACAGlzb21pc28yYXZjMQAAAAhmcmVlAABOCm1kYXQAAAKvBgX//6vcRem9\n",
       "5tlIt5Ys2CDZI+7veDI2NCAtIGNvcmUgMTQ4IHIyNzk1IGFhYTlhYTggLSBILjI2NC9NUEVHLTQg\n",
       "QVZDIGNvZGVjIC0gQ29weWxlZnQgMjAwMy0yMDE3IC0gaHR0cDovL3d3dy52aWRlb2xhbi5vcmcv\n",
       "eDI2NC5odG1sIC0gb3B0aW9uczogY2FiYWM9MSByZWY9MyBkZWJsb2NrPTE6MDowIGFuYWx5c2U9\n",
       "MHgzOjB4MTEzIG1lPWhleCBzdWJtZT03IHBzeT0xIHBzeV9yZD0xLjAwOjAuMDAgbWl4ZWRfcmVm\n",
       "PTEgbWVfcmFuZ2U9MTYgY2hyb21hX21lPTEgdHJlbGxpcz0xIDh4OGRjdD0xIGNxbT0wIGRlYWR6\n",
       "b25lPTIxLDExIGZhc3RfcHNraXA9MSBjaHJvbWFfcXBfb2Zmc2V0PS0yIHRocmVhZHM9MTIgbG9v\n",
       "a2FoZWFkX3RocmVhZHM9MiBzbGljZWRfdGhyZWFkcz0wIG5yPTAgZGVjaW1hdGU9MSBpbnRlcmxh\n",
       "Y2VkPTAgYmx1cmF5X2NvbXBhdD0wIGNvbnN0cmFpbmVkX2ludHJhPTAgYmZyYW1lcz0zIGJfcHly\n",
       "YW1pZD0yIGJfYWRhcHQ9MSBiX2JpYXM9MCBkaXJlY3Q9MSB3ZWlnaHRiPTEgb3Blbl9nb3A9MCB3\n",
       "ZWlnaHRwPTIga2V5aW50PTI1MCBrZXlpbnRfbWluPTEwIHNjZW5lY3V0PTQwIGludHJhX3JlZnJl\n",
       "c2g9MCByY19sb29rYWhlYWQ9NDAgcmM9Y3JmIG1idHJlZT0xIGNyZj0yMy4wIHFjb21wPTAuNjAg\n",
       "cXBtaW49MCBxcG1heD02OSBxcHN0ZXA9NCBpcF9yYXRpbz0xLjQwIGFxPTE6MS4wMACAAAASJWWI\n",
       "hAA///73aJ8Cm1pDeoDklcUl20+B/6tncHyP6QMAAAMAAAMAJAL8x7+hB0M0IAAAUInP4LJXTUFR\n",
       "Bq1ViRE7nmVugr3qHwjjbq4yqtZnH2dD/PRH4qMF3383q0XiC6K7q89B8NNF+yB4lSsc8GA2Q9EM\n",
       "SZo46MPVl5rm6Gw5AAO/HUHKK3o5zQwrzbQY9giBIR5YQsfWEIwUkByx1bZm5nsE96LPnEyk1LMx\n",
       "rq9OvSAT/BGSPgoT+wGLZb4ro64ALMLLk7MV1zcRw+Flov4UdKLVvYGFLmKOhni7HCo1bWeFA+0m\n",
       "OL993IscK2cA4XyzQkjRz6rTtjSUud/QjyeGUovUKVTOTsIRBiqznwRue1nrNqvvD+N9xyfV+95i\n",
       "u00aRVxwv28zNCrXDFtml2MQmRtw77L6VLbXpmxVDYMW5rBODbvAAoBi9uCbZhtfxbr9EtsGrf4/\n",
       "OfAM1sYn7SSr1+PxZCCn4pisct+GQaBEsy9e5cXBFqJJqitHmJPZt+yG3VLmCA/ZM6ad307tbhCN\n",
       "efLuy/52hLajzndfbzJPdIA2rkq+kyP0z+9nrFP8hcZbV3tDptjMOSjob8EzpXMqawa/lIEqv3TY\n",
       "vitQ+TgcjINqvp+kEqugG/pWnS8DkXDuULp1635o8rFuXmXquwpags2+1oSWYvNpvAfrOmz7x1r3\n",
       "+s7PGDU0mjUHcOGSiLX8brVZZUS0SBL7izTi5DOsDGVt9GqBfcdFUZFuKMp2DLjGGZEUctcvbJzx\n",
       "rx+34Pb8QWK9WZi4EkbBLgLsnotyrrgle8sBKUXYaLW2OauQFKDMh19Cpfgxj6ryXaRb8oMx/SQi\n",
       "2B2cdm1ikIdElYBrxW3rF9JfZQjXiaGXvuER+zQ+NmcnWbTN2XKxwNlI9E1yMizLKMueXaiDCOoO\n",
       "MpS20HIVN+3D6+qYoweo4xWuh7MDbI2uBy6NLk2te3Yu/4KAapKg0qspAI0h6Kyh3rPGqJhqYsdU\n",
       "dzBsGaZ8GfBrW49R16vzVshKNTqYJf8/HUwjGlNDWEzfys1ONZzqATyoutwZ3ZHfrx7ogGJMha6/\n",
       "ZbKq5QmP8beCuLpS3IH3nW693DhkH7RvUsoypRw1Y1trpwvEvdMFGUfHX4XdI6Za9FqjTWCfZKQv\n",
       "6b/rO9y/0PoMoUA7AfOHhsSVbrkoVL9FWdMjK1xn/wqrgma5Bh9+pTElPzJMDWzulc+5OMxdxpIu\n",
       "ypr59g4UrSfqqlRhnFsjAA20/0nU7q/C9Rj5AoAAAGyZRh5OALp/euyHYv1TJueyWixaPmnt8i0q\n",
       "9xUFHnkonF3CLGnLSKLizjowLkXTayzXNakqETQUf53lUlGSiCWgkLElgsMOgE8boowq0CjlfiFC\n",
       "6oQVqEKpyOSRuWJ1Jn+TB85fkFr3YBQlonrlQZtmiyepP6ir5hLP6RGTvwJL6HxHWSmIIOxHv7KH\n",
       "5hZL/PYPxD7sb+xxyIwpAyVF1R2AYtSs0jSpnRXtQ9h8FmOXhRNxw0HYntT02Ymxx4+HhXJK8xvA\n",
       "92h7trsJQaXUtkHOfZdw7Nli0UUxh8OfgNXuCmLgIUxibzhoVvtswi03+SPkw8YpAVoK/WVzxeZJ\n",
       "oE2nX1eY2U9e2hefDJhkA1wRucDDeUVLmgQZBErGV6pRAGcJOSJoMZ9mOxLXompnF1IoI42mMpbv\n",
       "Rk5OTHhMh+sbJxxGKY3lmfDP8X0QoU42EePHj7GqHsMxcBzbZTm6+4yABPvVIWRAoWvugQ3KYLQ8\n",
       "hoYtX9lILmV6WUF8gtD1dWrB5OKlfXV3SG2BPfdiZrkg2UIt+vPWS0PfpFr4NTBG9YggHnzMkTaS\n",
       "u6i1DOIDRmEx1sflZZbzHhD4R3qTnCCaNlgRCBWSqSUWKReB2gOHVedhFIB95KTdlY07Bbt+P4qM\n",
       "h1orEUb1/mRbtKf680sjQnWfTvSs9hJmL89c2eINs1DjKPhNrFNUkZwVgBTpFPj9VQQ8NRsgJm6x\n",
       "+puLEkhFZEn48g9AS/yOn0Sg5t/jxExOgscC4Stu63nzvHlreOubrvvjq7jijEXlD9NK7X236JbJ\n",
       "+u5+7qgEBMueDNkLeFTZoclA8Jme3mY50F1EXI25a2Z3K3JqQ0ame3SFdo8KfJWITvuhutznNc45\n",
       "nws33V09Si7xrV6xKtyb5R/MrIq5Vuw7IR13rMLGRkAYyLMHT1IA8m9f4F7gDcEU8ykOJefp+voA\n",
       "Dsy7pHo69LY0Z3mHfc016j1C4NRSxpBWhgRR8nrTvMNKm3UPVWJ39GQQLTMEmcxaFd3a643cbkhD\n",
       "fCZpxE+vc+Q9f64cC9im4x9Rhr/fSulLqr3jPZORBWAkR8xX5bUCKQIg0Aw1siUAoXx24xha2OTK\n",
       "aSZjyymHAtkXLE/qsdrXCdVZaMO+cgAJYlXz5z5y399YWJRJVRBYTLH1d6aabonxTaJ21H0Iz8KB\n",
       "gR+jX8vApk5YSWlYaQ7O0MQKRlePEQHeFaH3SEVTCa/fzmWN9EzqQN0yYMc/1NZWLKc34jMvjko/\n",
       "p0qmbPVDJaJ0lv1P9ANpB2xSNSrJ+pDm9TXtBgwN0VkR5vs4+0vu4a2+N6UIHl/H+j9i2krUop8T\n",
       "2kK1IwLJhF9BmmrWMfqB4umnFJ0kKLw2PBd2jhWE2nkjCTU7uEEI+Vr6F6PNWfi8m4SWl2rBvp7z\n",
       "qiyEeTWVYZW5+wAaHP0/tAn9ajfuROjwsXbmiuNp4FQ17Y/FqLk51mQrWp5FUkiLS8RDaoSnfcY3\n",
       "gnmQrqYwT04HSB3m11zujS58UGZB14dm4AIW6HwE0WTYeI1c+0naibR5kd0MhEBpOLAxjkBkXjwp\n",
       "qA/lZfNXtO8nViZKbuMmXxvhTGgi6NWbfOirpyBcgpsvt5FBQLtLKcJehCUsjDDOwnetZKsoc9Dy\n",
       "CdGdCZGk4Kb3Po0B1Ews4pJmixNyfRj8+x6KHNBSAMGPfLx7WvQ8sEjfdF+/NoFJbB23LGwBnS26\n",
       "YupM9nG554e6krWwpx2+PFyBAVA0U4Zxtx79LgDWj+CC97jWSkjwKfs++HM1hz/L5QCtbmaUdatm\n",
       "299W5W+0MVEq+wCzxz+XxpOn6j1eoFTQqeL1xWKPfjhoMIM7SEAZl/TD3ghiV1XlGt4Ispw4UQp0\n",
       "bNmshchV4SywpB0muL7L8/mAuA9h90m050ICzJa+VX8qeZK0rMUkjXCOjpU0csH8D++zm8goKpRo\n",
       "hERoexRYdu77g2qReQzuDd6/w7MyJz0/i7a4zdC4nw8eoDTwkq/s0smasXf+Pj54V5+0kUxvYtsj\n",
       "a/gwAzrQq3BpoyZfgueiRJSL/vfBmh/NT9KN0z4vW8uI/IOikNqH0ZFDNi+7Ci7tBWSUtaKE/XQi\n",
       "Hk4i3FcYA9KvK6H4v3SZDS4vHnl3n7K2uDcZRZki31nr629X8nE65W5bv0SIKCzKxTkTC8bif7nC\n",
       "V7cDeV1/S+wwaEkeCTXEBCtBM03A/HaNoA859CjIQMIH6HLuq7b08JpOryh28ArDK6FOQGrOxmar\n",
       "jF6DoQtMyGEfgfza3PnxUp7aF/4H2Js+lAcsClZEn7pllX6gF67I2PwKXOpOcr2XPgQTunU4Kl2O\n",
       "YXTq9Dv8G+bgPAdpGq0aWLT9le0A/O9Rs/flN7VnQfgGYNm6D6w0s5AhjQh2IC+F/+Cs5XH+MefI\n",
       "i73+Eq2gT2iDLVhE+5GY7BF1TBKgsmnaozFRb4br6sBFkdNKwIjNeNiOduRI8OXo6orkYWyPeLf9\n",
       "shS41zMCjSzhcPyHkb+mHNgRe8LRKrRc+dQ02CBrYhUlQGmLFmxZ4BcX8f8zNSkW1ARSSQznb0Q4\n",
       "oLvZZJQGLIIMPbx/mFRv+oES+elacdrZuX2MQsZbxO9mmdexNfDc0SwTCRLkHom2HZWo1MfZeGYH\n",
       "jnDOIXMMr0DG705jWywK2Ql71FSt4tQwVrEGvFLoTa1F8VnLJIDFHEd2DiHkdQhNHqiyvilsPT03\n",
       "BaipnAEOqgBk+7H83LjAAD7SnKzXKKA0vVIf7EH9loImxJ2TJv7jMECOBPgqIEK7kbVrkJfi5Bal\n",
       "moc8iPPx3gJGzH53eNZX6Bt0RDoP2U0xWFR8tsk6ceIMGSGuOZuZwkS08DemPVD6Z71uWk9ZQ86g\n",
       "VJ7+MzGvFqrlg6dJEptlPppOutY0TdjXNxo9r5xEC+xAKWdk0cahbJAAh4IiXYJwaMMjWtJAxwvR\n",
       "9synmIZly9a6MvL4JOka3INvU4xF64b6ufR4hHA6wAAAAwDGPxXWptajX9xJNy8oRpC54Y3Zv3Wv\n",
       "wDZZD0OZN+bz0dqBYC3FSzu/n+g0+0V9Zl8Av8xA3+7Oqyag+o6pqk9QQuavEgXTx8lUawSZnurk\n",
       "auscjQP92Tg0YxkQ4jqCuntzYUPexl8NNorfD/ZHnEpVPbV5qdJD/mWv4y3AjfCtNUYz1Px07G6A\n",
       "Fnr2EEQ9IU2aSv6A8wkO7oIg9oEGeBzE/0udAoWDcGga8tkIb0xoTm2mQgxsVzs1FLSAxZudeVLX\n",
       "rqjT9HZ1Q0CeuibCWUq4ukdCpfsGKTYBwlCx/2EyTDw01sjB86iNlpal+7pvbcP90O0XV2vb9KK5\n",
       "hi0+RoYFuN0Tiql2aOUqFsWhXrRAx9iimIg61rYKD4/1798Fm8DfJXuGH7X/m7VcuXftb06P+WSs\n",
       "xWCxl5ECM0L6U3lTnizv0puT8+yCh+5nBg/XVQSljqgxsGRNzlnckgNf48Qn4NuPYmgwsAg2sdXS\n",
       "6Xum5wR++Ehr1yEiTzcI94EwQFEtynw/8sG5KNFCOOSaEHbTyRzjCPj0xk03ZgAtqqN7r7yKM0gZ\n",
       "SOFQqzcYxLL2OoANyeXukRdnYKPUyAOLK6sGXIUgfm8ssIFM22P1XFSBA4ouKYarINCuN4AM4tzf\n",
       "K+QyvaeExxb+Z69ZtFF67iyti74UiKUfQm2MmD14K4Z8dysax77aQW7lttNTaCugxHZ3OV2QWRlX\n",
       "Mb02h5LGxQzUnVfxbzrQ4fRXnfR3eOEvj7ADFX0XrPIO4O93rbQnMSzTdFEJQGYqRfkrueqwJ4mn\n",
       "wL3N52+5rbP65+jioaI6QLR57K2G5jf1y6V0Sxeb4aTfrfAgZRUxvJnFI/hWF94YlxtXqzBlLYH/\n",
       "BiKadst6HxY4pGHntxpS9Wzhq2q3at2TVPK8yde43LWXboCxlhfEavaN8Bewj5pM1z3nVUQ1veb7\n",
       "7CFQ/krk5RwofCbnVspfgbHf19NoX+AQ1FbjWR1//VUAWxh1L6rM0mR7u/Yryk0Po/Opq2B2KLum\n",
       "ygvdNjuSEJPzA7Jv0GMdJri03+QsxBYbU/rOl4FwM3YWWENzd6do1e8RDfTqQxbP3JMSyGRtSdyd\n",
       "R/4a1SP9KTe9QmFLFSmo9ZOoEA5B1zoznkvtjP5YCFRByxILI9C6cjxa1qlnja6eDdSG3g+BI0gP\n",
       "JSByIxb49NOGmpd1Eq7MyaoIRXkpXnzfL+v0kd++lLJm6NzTebsAAfzKw+Plz7kfe/nJiW5B25yo\n",
       "+oZlZ3NWA5wPdrDrU/YlNmifTR5+uTYK48uVFm0+K3ieFMeegU9ONOMTiPfQBJXhzQQl3rVcunfB\n",
       "ttZcpxE+zQcLop4UUTJe8++4O5Sjz2f9gB9S5INuMsefCZuros6MQL/tolyOLywkE/6h0lPPlIAz\n",
       "jq3Us0uu1YebkWDy8xUrxEMcCCEs8f3/pTj3fuJ+UJCJmwPh/rnDb9Ye3W9TLK6r/RKHfzKaHKaR\n",
       "mcbqsJWCPPRmEYJtMvCGhdWIsMSj/ScDpaVWFwOM0A2d3oeJ5O8eMwl2/pyGVfiRPADq5MMVcCrK\n",
       "JyNM+Z527CZnMKrbhMc3CIe+nS7O86/rClvXg6tIDouP+LOzsuCuw2lCNU1/uZTe+/DIXjQTS2os\n",
       "V1aNVVa//9gwEv4bzO/sCZItQUT/Edr0jerJdvRQQDENAqRf7sdt81sfcN+BW/2FVweEWpESXKSr\n",
       "dP/MLmiIaasZnQkkPKIw07oNPJj/6Iakd0zf3aiBto0v3sn53D8ED+3Pnb+viEipomUKrdQgWXcx\n",
       "L1eaDmShrUXfgcMuZ2Se957Bo4hjQq08gkVJyg5EzvyO7iAz6rEFSuM7DPBxxEUeXt06JPTV2bsR\n",
       "7GaYn6f5LM1GIPHduy7pG7yL2oIRngv5tbI53pcl3j2HIXA1QDcnEiNvReI/3iuzLsSY+bn1464d\n",
       "Y0AYs0lBCjk97085eH8fG72QJhcV8AAAFREAAALKQZohbEP//qmWAClCZegFHfZk9dF/ELj73Gt6\n",
       "hKyNnFlNkyVk/XBS0AMCnyqhI9vL0auPRSoipe+gq7uyYHEn3WNKohMckkXI98sjV0hc9kyrlKob\n",
       "szgoE20+A/PpyzLCNzlzvlm2zCRKDiX+xIkjAhfYO/X5/H57Yd8bJZwFGVokzeXqGBxqIkKkQGdl\n",
       "UnX/rayBqYRpPfomSCGC5PGDXtYyzhVWEHMBGWcAn96HTTHaMy+ofO/BZMGcp1t8LZlm1LEye9x2\n",
       "sZZ17AxQM4MG4DeRi3IHMpSA+CbGgpOx6K40FIlaRFNBhtAOJEUB+yUNhQd7UuwxWKHC9dR00cow\n",
       "BLyMDejRquBeMdWg1aZZ1LtYxIEqmBvlV9CKFW9ONjK4Lngcn7mc3AV1Nuay8cvteg58l29wsL9g\n",
       "i+WtJ5CbArR7vmlDieOPftIpT14K1tecgOZoG1ug8CPfynmZ2t5s136cuAhbr/TLXSu4KSEL0zXf\n",
       "8x7ETWNqpTxL8Ml9EyBtiQWcEVezHW+KMHVE3q8mjrgy0JG/4bLVfnLObsepV0s8/jqnljhtZPfa\n",
       "/XswuLUtzEvvqnAdeexypjo0RF5tLo5M/XXRF/3wYXojO9pkfiyhnicbqAnU57qV98ZYoCmF9XAK\n",
       "Tr3fE5JIzB+GirzyDyFpyz4cSC+2FiUQ+GTwCmKj8VnWsDLFkmw/GtdkTifGHXd4QfUI72WDi/+w\n",
       "r95iE/kXCyRTddROXswSertHe1BdwWVuq3Om5Z1H+ZJj3EPuYR3O7GOsWRe5ok6i3j4B2F5SMIdH\n",
       "VyHwLbZickq8bYrwcnHu3OIibRDl3kGpr7dA1vuIhowMEebghuig7sN/cHIjWUWGQEGtJgCqX9/S\n",
       "56bxRMeJESY7VAFqe/UU4AAAAwAEhAAAI9bNQGq3GyI+oe0LaeWgeTmAZY4jhwtqxBp5951t/0qU\n",
       "hYDAAAADqEGaQjwhkymEO//+qZYAABMeV/hGIuwAmr4aVve7VHNaN706ghXU0hPA3bGu8Wn9FJN0\n",
       "zuxZUkzxcDK4dXnbn6XtJoJKAXztpQlmmKBA/Dxje4EwIVzZcMZpbvXn1H+BHXR6TWT2SDdgIdkk\n",
       "8Ev/PbJJ6K7ZNYueBcOecciKZaQhygciLu1saXUSmZz5sFFgmgmHHpaMTOCDUAM99PJ0apDtvO0Y\n",
       "I3tw4IXSnyPAzdQzoNjtYaJZ7cDxXQowp0CdX7gSrN1dIwmz2SbOxYEUVmu4Vmz8gftCJV73XYgO\n",
       "RKgcNM7svQVRbUHl/vx8i4zl6kKcKnToeI8CbopCzJHstcu+vAvY2A9HVMIMVWw5zxagEeycfku4\n",
       "JLTeNXtPMH8td9SNAqGsBnhhNyAlf6cmHBe76tQ9nzP3VpQuGeeMIuLlKLwlArZv7HPcPDmq1GlH\n",
       "8u4SuJ/ZQsX/s2dzvQP1jzD94/FQMH5KgaHnNN7mS6RbUonlGptVc0vjBBuzBV8PFzwqfavrIO6p\n",
       "61kXkV3p+ED4L/wlYR95CntEjbfE/euUsLwaJQ1TfOAHhDiPw8sfSOb5y2iH7XcIRN+sWNNmNNVc\n",
       "3zBJVQ6HSZ960w84r8kLXcbCrhNFPqTEO2c49RQqSEvoI3IgX2RLM56vR8xpge5VGIacfT26v1iT\n",
       "4U3YesYrVXjkgJax6WRp+LqUXNjBCLsBlW2SeLENTeLnJi7FTzb+2UpD8wqJhY9rMW3cCWtSRQi8\n",
       "GYMNM8z7bEfsB2GTSKW/6EicQnkz1g2674S73y5kjXGltntIfpX0+COOXKHFj6VAkcBFPW74IBmb\n",
       "3otnCdwoa+buHYzKKgCS4lPkunt/XHy/8eMn6NxMv8pSIE4xsiJbKmS4syCuDaFGEwjFQ0Ab9Ize\n",
       "rEwJeR9vvAwto1x+09JGrivZSXRvuITiJiW2OfXFi6yYbnrCFlRWuRwPCHvjwQbZkze06HtBRky8\n",
       "JqokTbzoAPyKTx/TWVDWB73ugMf+WtlkXwOWnEDN7zuAwt1lM1rxKcuCD0knA5wSnrjxZZ9fadhV\n",
       "NedkUXCCvRUKAaWvIvy2KchSwFk+5FJGZUpJJs08EmeciVVbO3SfJXydzzDdYBVcNld76NksJ8Z9\n",
       "zy+P7LDHglbNrw4Og8I4m89+JiXT54KqArajBdCXrDwfK9Ky1MJahtSOBHaWJ2LXljxVrXpngkxn\n",
       "/93YzHD6bjjpzgiYxxxMTALjRgAAAwAALs5MsABxwQAABRNBmmNJ4Q8mUwIb//6nhAAAueqAGEVc\n",
       "WC/bdgP93QPga9Yvz3mcr4+OKtFj5Evpdt7Rklr4ch19HkfoNsXh5u2WPZ1hMFbQVqI81aOeRvKr\n",
       "8T19JUY5oxGRo353gIkOur6h9PBTr0b+O0/yiUpKg0YdwriDhiprxwn4U4oKMu1FufhP5DnuAyHo\n",
       "yFVTM6vfkVZE4x8LSXe+3VjaORQgWlrvKCZr1mzPChUVUAWyfhWk8o+dPio0KUvjeC0tks7lgv8X\n",
       "jEUDWJmSL+IV8c26IYqA89wjNKBB6RjIWZ7hPl/nXzwPoOD8mOUqkpR9mTJSPEWv8ALelU+qNtm4\n",
       "SnHUlA2AWDQi0SK0kNt86oyo/3Z8uvh9/ZyGVePuLktqCazY++pe59mQaBJrQ3HJ8gQuUrrMshpU\n",
       "sl4xn3DJTD8vgJb424zzlgMTPe2tdroJOaWaqj7zbl7IASQAAisqqZsGmneOIlWdBSB5nQRM6EJl\n",
       "m/5kK5MB4iOCpyH4ATSmlApT3U2C8R2BXmPP8dLvwde5F29QqnQJAcrPaLvFn5DZGl+jYotAQck8\n",
       "gAuJGCBXJna4mHpxnd32FB1xTR9IkzJ+Xv+s3jHI4p0PYe09jf7K4fgsxJ4Ecsicx37p26Kr9IxJ\n",
       "jmDs6JktiUtYiu2GTh6OLGQtuUS9ty+8d/rfuYQtaJtb3dsT/kcxY0lxBx6lssSgrzy6gkaaTGlX\n",
       "IRZ4LlbVbTN+nubDK6+056U+iK9VewCc0LWtrzfvw9Dx+eYq0Os74SXkY3AW/7bRUX7faMZgC2gb\n",
       "QwgUClf4I/0t69HZmf/biVwdyp8wgKy7hrFT7unfo6lxg4f2of9D/UjLBFDyOl70HEJm/Ao/BgzL\n",
       "gHTualdn879DTxyPfzadn2tZ4KFFBEShmzYZ0UvGqVkc/cUKHXOTHkcpHu+w/Ad2Hl1XV14wGnXP\n",
       "cvHdCUb4eclqEFTMzoTSETJBr/x8d4Q0oZrpoyWdN4hhbYSZE+SVIT9tDN/t8TwwRCRfoMR8YF84\n",
       "s+0qV4SlbGdumELsia3qqmcmodBPe7rngggkUhGYw6qQ5zq2BzS72ae6Lger+aEiLNAg/qonOV8x\n",
       "Kb+KouWC/d1Zcoa7NL55yX7sNPzjRtlIhnBYkkB8+0aWuwAtqAkGatPCROxGJVCUw4pT2rrs+JEZ\n",
       "gveGFfgDOgmPReGYqpTCTtE+77K6bmQl+oaBJ5z1RKb0NbFZaGejL4860go/jbZinEaJltvt+Dun\n",
       "KaAhyjcDw5cDQ6n05CFBZ0152/l4/6E+qQ6d6qQBnyt2bEx9Xc/1H3qQI+EvjoXSvhN+Ll1LWt+J\n",
       "XkKMPnLaCSvPwRe3p9NLFWR6ul+pLNV1cnpzMxd2x7EAdc0R6m5Y++RKilWc9LzG/QApelgm3R3N\n",
       "sIZ6jtXDOns6MhyWoT3wuiJRPcG+HGg9rYNNOYC+QX1bafNrcTW8LK2cqKcLmZ88WdkGwrtLVSbF\n",
       "WXG0jXvtDjFdo9AvW4HCU5WFBz+fWIvCDURVYv+3TBS7R5fjjZ5BIJiKqxhoey238jVEBJVKB2Ds\n",
       "SqU2TpeLiyROFs4wLj30XG3sodz4OOx9IwNARKGRDGMEHpyk84+YOeyUfZCxkFEErCjYgo/heKub\n",
       "KNK+Z3ZAjbfZPg4jEviULU0kpmOPeBSr7uhLkuj7MnitRTK3gqouyRQWMQvH47zfZep9DgSmFFIx\n",
       "AQEABQm8FAaxhfimrYeywSRqE4AAsoAAAAMNQZqESeEPJlMCCH/+qlUAAGq2l/COYEABOttkqRut\n",
       "gPOxyHrBdqKWClL+L54KkWhdhtzY+1gFXXy0oGp7CMq0boBCXhAp8bHG3AXbTvyp01wls/nkeGD5\n",
       "WgHXYA6yp9F2lLDwfYQf5+ZWasTE+jA1o95iCPC/5k/7a+8KVu6H35eql1qLVt9djrlGHaiMrwYe\n",
       "LlFzM6gZODXqXZMD5RoaoPE92o/ijFyZPEXWdcUf9Db8eAN7ZOsBdeomRYn3cvn6AHmd0BmJsTpI\n",
       "Xfc2QgPP+25gJMvkOeK8YUX18WzrxGVnKif9t1122EAJxFQ2FoA9CkN+fKk7r6Aj9EIIuksv+Y4+\n",
       "ql4kMFlUUJUcEwJVMBsJIevUW4k9DVYHXw7ZyX3UEX9zhBoxA/hf7eddQ+sMyZ62NsW0snSX+zOH\n",
       "eZX3ujznBXsGiJqDDMWk5YJPJKTea4GWXqX4LLlWMlUU69FKqNNSO/rUc4uddJUxVUzhznKvd1gS\n",
       "op/1O+VUX06Ft4zSzRhbjM+hBt9ouQwUxrRsA6PW9MZ+b8wGI/c0IS/Yb5E0XV/EostFu/6k1DTJ\n",
       "DIzP5l0taW5jTxs26OeqPfa0zmt4Sr3EWlc7DVXyWYZYgI859X6+v2bk4a9/w1sxX0c+eylubok/\n",
       "w6LRGyk0EwN2/CNbte3J2biHwKgmU7T/Xdll8vpHAkHSTEDBa7jm5d4dsUKt2FAV7ehLjdhVfEmF\n",
       "7yVtbJBy85kWcx4H2rlkLtnS8WyiERzuni/E7ZmUlurnmhruaeNOU5mD8dKarz3eYFB/PkKmDKyl\n",
       "+1T/UOqKXysIbYWuDdNAJsrZV1Rax0NYvT4aKXCs9i0iPUPd5Vve/ng5HAyKAlJ5//kmgSrdpn2V\n",
       "bCLFjz0NdrdOUuvFJZ6BfB8pPQMbNDK708rxA6eq+5+edAF5lTabPyeG9CTiYlHueHR5gHlqDHAK\n",
       "XUc5950F7UkX7hi72T+0mOWYWLhFtinqkbxlhKOdfLJ7SQGcNuj09x4QUCZ2jKMOXGP5Oh5j/+IV\n",
       "wjFgAAAH5/CFTQAAAiJBmqVJ4Q8mUwIIf/6qVQAA9B4KBvR/YmS05HDw5/COhWAPxR14JIWX9fSd\n",
       "LeYP8k+qrZCcuT7s5AuYxQYTCZbbq5fxd3yp9LsmIBFbOyZJ2UBXISkifWhVRuab5ZuYEeokqEdX\n",
       "9ysPjtQ/VcIIoIMjnMvHk2wxxKeF05IpVrTWhY2ih6M2A9Lq8xR9yJg+ez+AXmOudmHKGPMKTs75\n",
       "NnaqkaHtOr3UL6T/8efclQ/ClMW5Xp3GjK9AJL0vVmH9sZm+Ls+NtbCubEj437Yh5OCY9J6+vC6E\n",
       "U17XDXRk0ZSDOpVTCkb2ZE8TVZrNi5m9VPbQl0hctIjSqaP+hpN9Bou5iSFvMQph2vse8n/OFgJN\n",
       "2vdUgXEaCoUycnJv8R4JAtitmogPIUaQO2fW4uZ7ECFLy+Nd9TAtyHJ/Si/4+SROfgd5rx6Q4azf\n",
       "uWJMPUwwhEscozeWFXrxgrTVTQXuGFmx9nbu4QwCu/K4uix4usPwuuBZMD1xDgYcF3/iH+abRLvR\n",
       "bG2y6Ylrb7rYBzi7C9ZuA9v7LG778oqYGSDDh+vT0DW8jON7nNlkqdRXUtYFmXT8UvXQ6U/O47Ve\n",
       "tbuimmT3pRdismLph0ZdnjNEfp2ynm9d9AnIIeMxrugH6DzpDIqFipt7DhL6P67mOamC8A2fp3L6\n",
       "DccNVa9Lno34QI88PVICHPzaMazQ+u/bUp8gEmIP/UzzPnSy1BKYqB4ACoPCFbEAAAICQZrGSeEP\n",
       "JlMCCH/+qlUAARA+bUGhhgI2EuRwDrt8W6AAfktxNu4DjdyEWEaLYOZ0kiW87XZ2xWk9+pYnb2WL\n",
       "iUuJW3AR5loMaVg7j9sZp0JMigiDpgHQoZ3kYl0KzzREtFiud9f9+WzOt12yutF1XtXOBywrnOXv\n",
       "Pqfp/6K+f6eIRAqqWFh6Mn+QKeHdih28fov+iSaakgTVkjsj9+dqIrO0b6s8+xpASlbEfxRpYZMA\n",
       "+mkHWoSODqA2prCz77pEcDerkWph4dXLGPsHD1CLE7i9mHWcS2coefLNuGDWcZP1nZDfaN6JQui6\n",
       "rbeNnjp9W3WZtvkH47A8Z4Son1mWMT1Rj4s9iP/wm1qRwlQkFmfEbPdLWqCkVwqJ2PtTfwt0X1WW\n",
       "It+KrSvyeQiQe5FmtXwV3mLzOu8vMPS4iG/RiX8ShAvIlrf4QBwGpgQlVztN7aJ78fRjtFifDLqj\n",
       "KFN3UASoxbGYxRKm0oOxi+Z0DLdZzRD7vWiITfmMNz2zIhivzx3CfKU+rKuV6RjM2bheyGwIW7Oc\n",
       "oHQLEQe8Cbd52FGrM+k2+k50LCH+2PUxONX+NTjm31xu58NE8YCKSA1BxuZRwuBukInlkLhwdEf4\n",
       "bp8BxVPZ22xHjyeby/RKQqw1xC4xNA6goMErqTLb6vaf+AOvjF+4eGSqBwAF1Nfi6bJiwQAAAdhB\n",
       "mudJ4Q8mUwII//61KoABIG6lgBzL0yZzqKhx4UWEqoUVNhfvhUu1EwH8x1g5Xe4oZ7Jw8Iqg+iAi\n",
       "gHeg8tO2AHHiPJIHyqdQeAHYp7VYRghm6PkTq73ZsOVSHBIUW9SfF8WBD9vZV4RT7kBCmo9lncf8\n",
       "RnY1YJSbtLONUfUVo1yDBo8hN46wnFpdzbLCiJJmebpr8gPjXwKXlTNUJegK1aWLwpZoKwcxs+iv\n",
       "dODUo7XremSlUjyyUPpdccOTc8b3WVHOl/hwWvlb4n6QRKiZGfX8oRMvT3gEWQ/gBVv6WYCccgit\n",
       "+UUCJ7W6qB41ta87e7d/yPtz20VKjzvcc+pkLXsV0t2lIfzf7JAXoy33Vps+7qIUFnrrdf2gFwFt\n",
       "TDqSN3MZufSenxL/WF+tG6eJAYb9xHIfkONPFhcRZ3dChR8IxhkF3AIvQl3ip+TnJxfwGk+XnBCg\n",
       "Y4OL9aY/bywVlVfoTJjVtL20h2bRP6VKIg9lPC1560/d29lJrkGaHK6bZQ8mH1569vYOLdmAJRaS\n",
       "ceSujOzGGN7sW03h9ZoQ1kLdyWm0RZsGTjaeIYHnfOTEJhIj9YF0jDzNMCbDHIoq3snjaJgU4E4d\n",
       "mubBaBVHE7Wrbx5vraKnAAAE20GbC0nhDyZTAgj//rUqgAKUUjkAG0pEQXbI5aTI/NXOUaiFQv4Z\n",
       "I31TeMDrX+5ik9qtPbWElmlR2MqIpLxlRIT76RwnlhuvNUDeoNnvo6Mo1tYTWZqyPbqy109W5R48\n",
       "X//jwWrvAaLqUM1Xu0AdWld3GDmDf1wutEN9R4jEIynO91CjinIynU4xlPecmiXKlCzomwFLgdTB\n",
       "2/61/vIQb+dG+UboSAim6WCysl4GpNKr3+a5vANHG5WQP/2viWJDh4SgItplyxTXnQvY3xG5/IbX\n",
       "ayM8QCnOdCAHmUH6X7aq3T2FmLOZEwR803eGW6sKsKuspOeOrjfDdBQhdXwUNLS9M/OsbSJioAHu\n",
       "lq15Du1rhxURCbNAkQ+hSj+QPPevcWC0vWglKLrfNbs3htxZEsoR1R2C/iF/NKYq6boOetZbenAq\n",
       "mBv9oiXqZ++XVJx7CYP61GKxROy6prkdTXj1NuDm9k/BpgtKW0Hg95JR2H8kdeGvw3ZrRWhZKJln\n",
       "9PX1M4G0j8RcakrrY4L6d3mhusvGO5+xPv8noKfVB5e7CgAJXNKSQ27fi5aR0amSswYLIoYSQGfc\n",
       "dWgGvz+RdBp9QLWBGQCHJIqo7AD0p1fEtoQWXtvn+V4iqdODEueueFp0LulQAc53iMDX7ZhGTU+u\n",
       "pylFnia1to03bA5ika2iJ8bIXR3AXlxhYsv5g9WRySMKXi3jiGq/X4n2KlB/pT7+EV9yDpzQfQc6\n",
       "AkXMKlznuBnHt7XiD0lYaf0m2JauiSXP9sISBKWKYqimbT45qMNEgQXkhbZwtHH6cWdidlLWlbFu\n",
       "/G5hdp0wRxdBemRB8A/qoiqwjNCJJw/E5Ni2/M8jx/b1nf+v4riNJsSG2aP/cx/S65wM1HMCLNjg\n",
       "rxxlyASlFUfuEtEv8gRUIdX9oWXJhinwqz7v+y4/2SauVAOiNXB7PsXFdPbJKJETiY50jm/xdTu8\n",
       "+i71L5nwdYgWlFlS5qkneEmW1YXrGAAF6GKtGGdYPGq0g1Npfc9PR2vYeH9hx0TCjsjk6VhTAv+m\n",
       "c4N5efGqq/Tun/r775NumnpIiCLQEzTEg12B/yk517WgzWbtWEx503Kyxk6OfmHpPoge6/2Pdn6D\n",
       "S1JXxjiMFgIEbAqno0yoCQNLGxdj/E9xwwZKyK/6h6wQOwXVjHpw7/ggQV3ZkzGybJ5/nCKmdaBM\n",
       "7J7y19icrbViso5O175a//ymZuFAH+dABZtCfS8UkAOmRSyCbwTm/nSDzY2/AFKnHt21LZG21bgG\n",
       "ckr21vx2lofAU7qyWrLUFAKO2pVYsEjTWmiZB79H079bBc9aHbIIUONyfwAR0T0FL7oClPHjC3Oq\n",
       "RrtuirhD/Hk1iW+ApWZBCInXxZ3yzdXUBlWoIpfocaToQ/JiTJutrI29QGBroACt/yn7wEu78806\n",
       "LPDRzLW2VBOw5nXjlXQyVq5qlnMkjwe0/kfDra77qoF0hw7SHkiiOr9idxtMOW5Ssm/BGXIj2X63\n",
       "BSUweA0ANlPvmTzHR98SxveOTs17fHsEGFKxkv7Icb4DWFfq9M77HiLWQXlZC2Ci96LDi1XFYjx6\n",
       "IufYRzJ07V5VqmuxI0I+x9nt4zyYsD9z7tLWu9affGchpyCFqwJONH1EPAPaxWZ8c+TLgu4GdRkq\n",
       "80AACIXwh1wAAAIEQZ8pRRE8O/8AENgA0SkAZmt5j4XRcaykgA2lBq4Cp4CNisZZfADS3NkKZdND\n",
       "4mEpSpKYYlI/pWsw1DuOqFoJv6YfpF4IOzvDRD3tdaZ7reONcu7MrboxaiIszFsxNzRiEcypPI45\n",
       "enYtC74DS1Vm4fBjqa3DbXQzmcrME1zH+YEO6fXmfdtQVRwppPsAwF84AH4nR68y/wcpfZHmbwZ2\n",
       "zBEhCH0ICP0xKQr+X1tovlgjyS67tf4D17Q6mrD92htg2vQ4ay29BTXxQEkxxGtmp9/Yl3Ga97no\n",
       "dDMg2ONJzsgSjBeuX7wdo+zc2epszdym+lro8zl+gOWPtHeXcIRKj7Yg1hPZ7ah3HBbMyP1O3R0p\n",
       "SX914lwUjAMlRubzX3E+nYv6DA1vTdxIUkGOjrFyJxB74ZjLf/kfHgv0Y5N1OUwoBOZE44ueBJEg\n",
       "1AtYJ56VY+vSepxQw9R4PO8c0aDFQ3jv9w1Zuo+bGkNmJxQxbyWqNHBN/NWvHDfObe99tvY37XMA\n",
       "kNinJ0BL5E4rh+CtS5DJ3goa+B0EFXaDnftVV2lxC3tS9RZ2s4oHRXtd8Lzh3OAxGbCTNQHDmQTZ\n",
       "ZvzmMlHw0IfstKlZy2C04X0V1NAEB1Jufdfs6vqIY406xweV5C0C/5vvqnId/R757qP4TBuMCawL\n",
       "+nXa+hj0spDymE6TtqMCAAAAxQGfSHRDfwANghNANwAhT3Nz1uR/BPaszuoaLcdBbPVU1NvL4ChY\n",
       "KlfHQw+e/+SV9FjQgwgfhcoJX7bq6+wijblh1ZUsdXTXZsKAx3OiOQo9LCg/yTzSV/fjzvBjKTow\n",
       "kIIJvQiE96ZWYlvYf9rkjhXP9A5Y1Lmj1SGBCMD3LBu6M24rLJ9vlS7I1IALliCHTkRbSuTH5rym\n",
       "KgRxSbYekrpvmYk41c8XlKnIF3PO9YeZtRXV+FjRYN71bByACEpTjmj1JoN7AAABXQGfSmpDfwAO\n",
       "KT7948xUDqlwAhBDppqodQhkJtpMw3OVsKYzLTS3iKmsJniuAyr+KHz4DWpb9QxSt4JDrVgT9cBP\n",
       "FGp5dtAiUmfQ4p7toExbCKni3xILQe6f5LZn6LQ9pWM4eFLvQC6wUZ2h5IzzGs0uEWcdb+ODfwWV\n",
       "l0/uTutRdjm/MR7HmJLc0R1NvRGlXjDXn8GIPNRx1+NFLilRzvkJtcO6l6UFLrMyVWxQV9eBXGHp\n",
       "zRJTdZYtkI8Qg0nugXGpXmSlFFhCnQZc9Syb2RBRehQccerW7JzB7KhUqTV9sw+ewZKJZJniXvVF\n",
       "vFAfz4GE7e2GN1tNagLfLzScUizCSI5RHabmMncO1BP27xywjjv9+IiBcBYkUE30kbklzJ+PECKr\n",
       "ZF+rEHtcDhV71besQ4kFPSnPd3JQ4trSf2aOA4SHxfUAErVatRACbd+xPrjCQstz0bmEVbckK2AA\n",
       "AAOxQZtPSahBaJlMCCP//rUqgAKmUOoAK1cMUjSBufmSxbq7d5tQui9O/ov2xOIZX4drvtehnIKo\n",
       "XhqIRb22wbiNe9oerM7IFtWErqVZmRzdb9FupMwf50h6zHZKrpDpnAfrddTNhZZoxel10/XlhsY6\n",
       "3r8syviyHeOUkYbMF1EkS+efRmLA0blcjcdt4kWrlwVlMGctREqIZbuku9/wpFvqA3tkpme1gRHe\n",
       "isTKCPNuVNfNIRdQ+H327zxDwsh9KkCSN5Nl5dv/h9dSS12KIMoKzNVDGJKI+z89Ah8Gg/fR/oDr\n",
       "pn8e6DsodqCVjBx9LGNZeIxV+Jv4Hc/uerV+z2pAmcZ5ZN5lggg7ahSomVokBty8dFeZ0U70Gm2m\n",
       "+vO8DJtQxO6bbc2d8hx9ngZNf2L4k4xoYPb44fC9qwxFkqh2QjE/TiLp/SJiJ+xH1fmwbur+b7B6\n",
       "SF4eKqeh/x05qNNQTnbwGHufnb2T8NK8YszTc2RHRIQJH8Lw/W96EuQih4UcAqkQ7QUJHjSyObV4\n",
       "s9zQh4QgI3PhxwZblpPxK8qQsylBkX8H76pC83b29AEA2ACwc2+oRqdPviSdGJy3FcaARHWROkxn\n",
       "Hv4B2Bsfno25rzu7F7dMdsvJh+RLuShoqsCNQEp87wgSp/1Fwj5mbc5EDVbzu513+AOZMEGRtH1o\n",
       "9bYDDMaBmhTmPH5UOBbO/XFQBKwdlrXfWMvXOCeuh8aks53Yl95PJeBue/K1TFrIi2gsJi/gRZB5\n",
       "ZsuQDABWpgG4HEc9rDxB880wEtXZA6jzxVBWozKTEiJjApTZYKmHnpHrXot34JsQJQIFGdWO6Nop\n",
       "xHPpSJDiSjH+syHdPuyndQSe7+T5WrIGqmyJZYX6lj/GmT1nDt1LtGxB7fNwddgtI27B2sKzq2sc\n",
       "0x194/dHZmW2sJEpXCkm6jJZjjvWlKQDKj3uwO3TCXEV8Z6bjrcZfQ5Cdxqic77qw3T4puUALLvo\n",
       "JZE7zWKs3snudkxXHr74xCPsiMIakYj+n/KX2EwBcnpCz9mGp+vkhESDaEMtkb3fWRUde47tauz/\n",
       "z47hNt3CDg247sMETe6sD9INqKZ2oBETMKk8Qy4m183Vj00OYye8IerryMqVjDZ/EgEV71LCl5lx\n",
       "LBTaoKV39FxymdaYmkKJpT0VN9LpoWoWtb3BnJUiCQHCZZH+c7TSq/Gkbmyarpc01IlsUCNLUFWV\n",
       "kEnD+b8PxzBd+idHUdIBU0JWCZCze1FrGbCipWZ8acPrrqNmAAACMUGfbUURLDv/ABDYANEvAkln\n",
       "aw+sOaTMMAIU+Ephk8keGDCn+9Gi5qzfUHFSZC1BeYFLhYGlGqc1tmE3id3cBYiE57mDj4dbedc/\n",
       "JRvXDIh6nEpk/RXHP2GjXzeR33rqBi0s2ugX+ZwXyM4PMW9/XaH0xAe4IayG4vIWtSy2NPbMx4r2\n",
       "dzom3K4xl0beT+OxO3ZnrMLQqj3FGrVJtRPn9/UbrHFEfkN1ky6IsumUxjj5Vp8xMahkIt96cv3f\n",
       "Ej2iTC3jEUq08xQsgGUcLj21sJUO1hCCxrIUXI8/0SymtTVDCzi6aM3mxLXhp9mhJD7Woae+uGZA\n",
       "Bu6N5iak1ak7DB2gpvMTGo1xsPG++owhVSWho7UopgjumtJwMeQVJc+fHBQx+TCTWOX6qxGv6LRc\n",
       "wjQ/YqSFEDgDWFYE4vSkFHwYris+/xCrpL+CF025Hsv5eqzkdU/3WGj7Y+0P1oJBY5G1/+FfGU7q\n",
       "5Stnm/BlsMUQJsffiUCvLwgDTtJdDrwpxhavyccwzcO5Qo74IUmG2uGICoVJ56PoIYsbg+egNUAC\n",
       "rsIqH0lNj/CPse5EggrXkDzh5/ge8VnneEvtKlqNl6qyg3ppXZund2uSzsYp9dS8FNnI2iqpBHK0\n",
       "TfxqESJtggBT3XZKchcnLv0byLmGI+yqf5/kQLOl3g595bgJbWeQlgiUyfP8B0BDv2E6d4y1Lc+f\n",
       "ijuJ0U+WzwbMbpGJ2t7CyZgkXV8MjZmyC+wIyUMQ8QAAAbEBn4x0Q38AD92nVgbkUbrPR92ImMAI\n",
       "Rt6U81xUVkBKUwDq6V18PgpWxEVdA5vchIva+6PoQkej23Vmgf/4vuYtRjAteiH0TTXkWn08/GXh\n",
       "oYoguZFENKZBVROQiFak/1GbfKHKsIeEvMQse9giKVrhRJJ5x40b8ugoHVuy6xUk+mUFMVEgea6H\n",
       "1kHEJQ0X8iHBz/dzwQa4nL4ek1PZA7IUgfL6Vy2sZyaLkUYiR+96BRiCXk8bR4APuuT2AAN6UgmT\n",
       "PtBqtCDs4AeiPpmzU+qYxZFmnEFvOARFkQlGLN1Rw9YCU5aDsDlNXuD7JyvAHuhAbXsjXpD+M45x\n",
       "+qMfB3fHJfXrvY5rOSNWbKsgWnZgC6EfigW/ml+JYYh0SdfTpfznmDQ3wxZ6eVd1wTtMlfLB0svb\n",
       "r4Y7Lm9GcJUrcy0JWkfB9Kft24vAlqucAGoxItWv7Qbdh0ij9+bhbMkwop6g0U73aZLAllsLFf0/\n",
       "byVsEsy05luPUW0fEgkqVesXhQbgG8iMjzwHuMX3Zjqe1IUwVGpFFNkvuig+EDmzLtTsE5ohcDA+\n",
       "lJ4FkzjNGSJ6AAXdAAABFAGfjmpDfwAP4G3RRuJG/D6AudQ/wP/f/ABtJ245zTVlCtcCVhy4o25Q\n",
       "0ecwgxKVuN3uCYCcXsRyqjqFHSXbB24MltkhiwhSCv/jwOc4NaNJvs1rTK5gF0oYOCNQPc4s+fqT\n",
       "qzhQHFHlJcyPoH2sa+YCb7xSFy8OsSVhh/npVramduDiT4VkmoWFZBMK8cj5uvS3rsnlXbmYtbi9\n",
       "IJbIsp1hWMB0nmZDnf0WUSsknerdy/xEym1x4CCOE/CQD2uuw6suq649cWX0m4A5wsVHtNf75PgP\n",
       "v/J4bkSQNzenUwxTAxNWgYEd94wWu9d64/QPuy4yuE/F/KYPqV6rSUY2wkcmo9Irn4JPJur/rAma\n",
       "nX8PU4hJwQAAA8dBm5NJqEFsmUwII//+tSqABZNi/e55CABbCSsn5AVsDWOMUx2mEZbcgEiNOxUh\n",
       "ajaOd81hFhL+2TLGzkgdIQHnKk6grXPhUKj14XLZkU3rnC9FYuz8litzbmA2DsUZ2VvZMUx4grdi\n",
       "GJI3WBpGdBJ3uUTjq6m90WkNHSLSb73hgZNuy6zsCgCFKMvanT8F0FTW6ufaXn2TROv61Xbr6Mjl\n",
       "IIk/8Gzo4XwyfacWSu1jBDFBGVCqJIQ8IoPdSF5i1/ShxMzMNrf981ck4PfTS+rArb8AGiPTjYt7\n",
       "jAnRDcYDOr0u8DKZD2aB29TTmoNLqzs6so6BzaA5exg22Q1XwugK/ZOlXcjyAkf66U0STBADcQqu\n",
       "QcRLmJL9eEg15uuqt2khBq0947mEWZ2/d4UBx5U6a+gBt16j7DWM1ZOZZBA6By0rVgMEd8a/9fFz\n",
       "vkDzHsZQ3xgUiUdck976NSYfaL7Er2w5uXWVYBkNEOFUm4NcRxghAiOqyG9nafSfm4MlYHX3C3HF\n",
       "5zofjzLGTnCN6FK2itjttprAlJd41XqXGQrUacdRp+RCtDLaC5RmkLN8QFZok2G6UXIoWT6CiGkF\n",
       "aT+EKHcAnWHYOkDYbo+p5cXrfzryHh2rECwyJrrrKFWW9evUqzqIN3h5Ywll/XthE4XGnr8owk0V\n",
       "bjq1vmSKu5OUfkuUgnCZ9xeqR6Unj9DPyieKzP/TYv+GbB5xMLEGq0zqXSV6nUiXccTrybOAS5im\n",
       "rZAfwScS8aHoeB+Vf0xg1dJ3ZVfgbKkljOsH6Urg0miy+47l6XVg6Iytf2ygcsckWe/N4h6LpY5j\n",
       "N5xZOSk6TqqUoEWy5/2TQRPV7xMmb1CtrIloQtQtqsTqF093TWPrIdbZyFPInOdLSNasjX9p2L0k\n",
       "KabkuiaYJ6QFqUNp8JvuKDCd1A65LSP7fujWTE1OFnUYWGKM+zTW68tvsaz2aWLN18g39m0QJ7dP\n",
       "mOFDJDa3+MHXGMYR1Wqv0HakqQ54ryHzr9rr8CiTj8knqbfcAnT4jdKurmk9odnVuQmdQJp/JbHf\n",
       "6RIBrSsT6uty+MSzabTiI5IP8Gy3jMdeIoVlCStBUKjSrVWLTXDcalsyoeH6rNOWvPE886ZBo2ML\n",
       "cIHiJcWkdF5bE+PXKuRLvcRmqI3IdZoS2mcqcWFePy4ofSfQq79kK7pVFF1YuJ1m1CTxQF9a2OHj\n",
       "7utbrLa9uBQkIesYzViAih0/hP5/6Va/ygfpHQCyxx5tX0Uc/u2QbcYsTdlT9jJQVDJRND1iVw7U\n",
       "fSafefbe0UOAAAABXEGfsUUVLDv/ABW7sc92gA/hBK0chivIkwO3x6u8MgE9T/Zas4gGVxBaTPez\n",
       "EAJJ/C4Kz5oSQz/aivW025wuVNX/RXuMrAyxZi3x0BurB+XpiLZXk8tm7d80boJpAZSigC1MKrEc\n",
       "gzse+i2LLkIvtIYtrUIws5C1i+wUDHn82dt4ZGa1VuRUmrLR1umrxoD9NBQNJHdNQ4slyCJI017D\n",
       "FgzNwaN3ZUYgGt2wh74UNkQLkr3wQVpGCfJ0Jy04QOVZHh/FBCGuVFTZR96cA+DzduWE7sMUuXZO\n",
       "q+QcrOar2yKX75LSz8fw194QGD05I1I2TGc1Kwqb7ysUbStXUaS3RQSGY5vfNlkpPxOD7sdpBQQt\n",
       "GLXJsj2OIO6yjR559ygleuUmtXrlJnBJnl9QL55LCqCBc8aTWFvDslJ5+H+qdyaHeLwC3JoGxGge\n",
       "Q9uzrD8GPIUXMVnKqARsSq1cwAAAAPQBn9B0Q38AHm+5ABtQVl9snnn8ttu0cP5vIvQNoUAHveAc\n",
       "EKTaotfP9FggnB/aJu8TW4w7hLuk8r1F6Q1xPjVZZ7mDwDrHSmYwPgejo3CPHznSRM4Qy1ML/92E\n",
       "DpC9HKE1+VBO5CFb3cfngW7wuCjo/TroXmeNX2E4gfPTfTsVkGq03L44/Wv/GpK+ja9W55B1w831\n",
       "63llEiE4sBMM51jqwaxmIHi25mhwjijpP4edbWdE+PK5i+TsdNAWGypCj8rwTkE6y8IwrOuyPggA\n",
       "6XRaFQ3FHzKTvYJrf2NQvTwlMLYZZrxy47DHP8eTh2XGFjb6gEPBAAAA2QGf0mpDfwAeVUUoUfGN\n",
       "f+mR/o0agBAn8vCproHemZYjZb7MDzg9FyDSbNtZZRGV24g3wGoscXitUZsKK8xNKixzE75O8h+J\n",
       "b+2P0GZcO9lFPDpEQhiLhif0wQkG2YLCU1kYFwTOfVk6Ji7hDx1EBmk9NGlB4OkIMRuHWtTl/JqN\n",
       "Cb+99SJL8NKJY+Iz0rJVChLCTNpzOqHzl6cXTDkRg/GOrN7c/jA7fEjJH/gVGIdK88u6LBbLC+zF\n",
       "6Ud/6dGkv1zuvWE1nPIK+YEMhrV5YEgjQv66kAkdvzAAAAMKQZvXSahBbJlMCCP//rUqgAWTb7rV\n",
       "JhRADjG9xolAmx3Py/6IjeyJpFMLUd7KORmBkgVCn34elKcrtPQneb1t/ZLXH29bvtvtSI/Abr5U\n",
       "wZ8Bo+feck3BkBQ/kwf3zPe//HXmn3H82C9HraVoofitCOHHzwgLoRCVxn8iTYbGCAJhhIkMVAUt\n",
       "ZHCR6NeoFKElTanNWZrXbq5Z1AQWrqnwJtmt9+ErWJNXADAhVmVpQCiYb4SVuTG+madWu3eovX6v\n",
       "cbknpRhFgSqOKOxCTnLH1PNzM7HVv5REXRHs3s74ngYA3PSDWjyCNqIIZFHp5BhYIctO1/5gDJFi\n",
       "rL7ABly5VK/GpJGB8R68vFKpVRxo5ZydZstsjfIPlgJnhJd8w1hqrznFdqHmEnAeXpFNv2xwIwTP\n",
       "6tLjB6kZlTFgEO+InrB6TvLQ0LMv39Vg+X9ZvKN1DdyHQm8SA6Rfm3K/47z8R6V+bv/gmtH6eE6S\n",
       "PAzd6MV1GZw7FZn4XozoIaCb7B17AUVDI4w3jMzksUAnLUFbaWl4ddQEH3zfi442bOWUk9AiqTDK\n",
       "wfro7Y8feT8XFiLwFU/FJ+H9Pq9xRgeFCcI61/6bBJG1WvVi+c/eRaK4rIDq4ObAAhZ7JcmhpGOF\n",
       "3B6PvC6DNxTLTVJdlpgfJmvC4jM3q539pzLX1mAc1nooC3vgO1ATHjaFUEMObV0bCcePqZaxfnUn\n",
       "7WbBf4tY74c9bmFpvxir//5GxRTo03b8nA8iqQDD1bXICKQKYXbjYc5SQzR8ZamLmiYpLl9GsuUC\n",
       "L+LxJ0bgvSR1CW9z9/v2kY0oeLQ5lBR2FwGtt6FNlKDW+LDc+4SI901KAVyeKTQIRvaxkL0HdLZu\n",
       "EfSuQmq+gzUMh00kSD9x3xoYbBp88wbROa9xCQkL+GvPBSQE3U4wIpP3Rfx/56QxI77/qmEohWWd\n",
       "2lhFxd7dSZ6fc2Fl3RGpiBd8em349+Iz4V6/7NyGLVf/dRphormEz1PwAqBJhl4Q5KOlQc5CE9wj\n",
       "NQLDJmnYo2DO3piHV5Ez2QAAANtBn/VFFSw7/wAVmidQmwAmpohfaLJsO0h0Lxzhd3tu//dIm6bA\n",
       "8t2jDmoiJnOOXTjsa6D0jvMFC0NUEj8mXwQqPYLCM76LzZJvKJzRlXe5wvSRvqdJNFVF8bQiE4WY\n",
       "LKSR9MvfdifeBfaq8FWAF2+Tv9H9eqnlt8YdO01dC2ELNMrLAc3HWtV0D1jdj0OR/Q6qdN4NcYVV\n",
       "bG6XBd35AjWM00hh/ME1j3nWCFV95JlDOWsio7ZUfdyCYrWGJbYIesHTDr6x0292SzdE1hIXoCsr\n",
       "L84B5N/AE1BnQK8AAACBAZ4UdEN/AB4qi/NIpyPDIuG6WftcACEk4GjGNujQVHVzupy22Yc/fBVc\n",
       "zH1Fl5e4UPCkkzLhdRCL8tQi074UyAFjml3z9bZkACb79DdTDzmyYsdf7JZD5oEE6o2uIde1rQ82\n",
       "btM01nJ99yIocccnfFxBcAimVMEFiGSizZ04ALSAAAAAOQGeFmpDfwAYPu5wpo4JLqgrAnocuW+S\n",
       "VWfzJACENLG2l0PhxN04qeLuL3AN+wvhTIA+3YFHRAArYQAAAdpBmhtJqEFsmUwII//+tSqABZdo\n",
       "VCABa9PvmTdL7L7hJZvz+2H11m61kxrImWTbfDydkEC2YqmUaji/N0ZTLNv9q0vUnUNws2XJDBLb\n",
       "O4PExqnq5gwAIE2KrpfpTSv389QjaABsiIIaKaoF2mNVu2/zIomHamUqxiZR0oEGnogWDlS5jR8k\n",
       "bCNGiJfRmL6gRvjf5m+zgWy4in7poYwFI62ilvR6qFyWM18O49bDRN9FZdUnw5yN4fVARYZy+roD\n",
       "K6Kh5hJrODTda5ju4/2mjngTxKtFJCLaJmV312PoRCgjfwgltXA8UbydrxCFur90S7uEgSKKSCFM\n",
       "lG6MUe0fsptOJ3I2JNM/tth2XZ7P1vs1fAX9YJr+dWbMII7NcEugMKc6RnyDHcJF9t1HH5rE9LEC\n",
       "dLmrnspV8Zms+mMb0wlZTm/H5zFSsHtM2/zhPLBGvbuvrnb6tjIIbve7rANmIGZ/20QUu5G2ZGb0\n",
       "AmS5K6tmoJYUFDeje9WXj2RxBXVpUyquYYSS9WjP9Wk/55JM9kzV8TrJTp43L13pamHjTxzq7Y5O\n",
       "nf9bqtuMv3fY0Rpybl09M9ZYf5gziIRg88krqykuRlHqvvMkwuKtGMca/yfP8N7/gIuk31FRIYEA\n",
       "AAB1QZ45RRUsO/8AENgAyA4DUyGyX5td7ACaumUzdAqXuZO7xFaLcHlHWR46th9Yopni/voYoSgf\n",
       "KoRfwp2Iav/n0HihiATFmlJhXGeDoza9k+C8a1a1sEdCMxk1ubAihsQC/ijrL4sIHlMi8KKxT9wJ\n",
       "8ADGACygAAAAKAGeWHRDfwAYfrBAh6D3fne6GocHCyrGam3FPw7doWBrz8q9PgAAh4EAAAAqAZ5a\n",
       "akN/ABiC7GQYbQ8QrD1TR3al1cQvbwrXhxXJxED1Ijv2Pf5AADKgAAABYkGaX0moQWyZTAgh//6q\n",
       "VQACuHokgAFarDq/ij/l9hlbM+REYa3QtxO/N3ES1+Hj9v6+1afsGYL9QTADmtXYAU7nusJ7t4vz\n",
       "p8cejPaRxSvPEfcSp474H8jPAlPNPrOHWHtCFj4IbBdyX9Ok5EQ2RwiUVKfjjNc5leDgwXP9z/Ev\n",
       "F7Zw3G6NihJMUO3lZZvfTVqouIYji+QHFaEAB6/jOguaA3eZYSsa/vTVYPFg6OYP3Dsdgmzy91rF\n",
       "NjISlTHcTWQO7/rpkGNc0SAKMALLG7RCuQUutpa1ncMblwW1yMKtD7ZxO2DG9R2aaKhZiPp7YfH3\n",
       "5vhfFSAPsq3xHaKlXEFEeQ8HQmcnZtYmOB1Zr43KsA4UoFaAzpEeHVll1OCLk35GRKiuFN3AF2C4\n",
       "fM1P6tnuLYInMn2y9RiJxaKRiAFUpmo7cfc8a2kDwU8lOLglhCnDGnth430yPUGzNKFQa2eKaQAA\n",
       "AERBnn1FFSw7/wARClRLOM+uzkGRpVPZ3nI0HIGlpxPT6IOwAqXOVAH21hXD+FZF/uNAg7l4sMvI\n",
       "Q0WN+tEgAvgFCD9toQAAAB8Bnpx0Q38AGH6wFbbRvhQRIYFXyZfRQpwE0VVkgAPSAAAAHQGenmpD\n",
       "fwAYguxHtaFnUzffsjH801h6Tc/0ABywAAABA0Gag0moQWyZTAgh//6qVQALKyPmueDumAE1IdEU\n",
       "eXtWtWEgMYQ3iDkXMTNXoqa60d2/49ksTWmewK+Lp6EWSJyRM5dnIfURQnrhIhBeKz5gMPxGTKjV\n",
       "1jUaPVTptrK257WVTtO6oMjqbGQnBiQJBKo4yk1u0+6g/53AJM2YF1+1pxErhatVBeIYdhOcipfK\n",
       "ckreWJbsihc4m54Yuk7CwpFFYEArmOZxAvUZHi/ddmi6/oyhX/2SEf+YCJJDf2hkzYrqVv/6qCjS\n",
       "4QHH3tmbxWNvn7z7lUS/tTuVgnIIddgKCEM2y/K/hi4me7H46d44dcb/yB9DcaiRdxwcY98NsEYa\n",
       "YKEAAAAyQZ6hRRUsO/8AEQpUZefeuww78MFVOe8THnYI0bERjW9fgdx7zX9Rw4eZXJPABGQA9IAA\n",
       "AAAdAZ7AdEN/ABh+sBW20b4SWfvRVkMi9hYEyaAAC7kAAAAhAZ7CakN/ABiC7GdeBKG6kY2hOPaT\n",
       "46imIJYHAQX5oAGLAAAAZ0Gax0moQWyZTAhv//6nhAAnzFsAoQrQAhApknn7XV2Kcn5+xp+084fs\n",
       "VUbnuFV+GSscZa+E5rgSznl7MDbw8vgpjVcQ2d3alaJO1IVk/sm6U6b6LbdJLc7CR0gfdQa8fHzw\n",
       "53b3IUEAAAArQZ7lRRUsO/8AEQpUY0aMaZmum3X3qIGzfynsQoKLShikmkfGiNAAoQAoYQAAAB4B\n",
       "nwR0Q38AGH6wFbbRvhKlNRXc/KeBX8uQKkEABB0AAAAfAZ8GakN/ABiC7Ee1sOMwQJJ8chpzh6o5\n",
       "aJFX4ADAgQAABNdtb292AAAAbG12aGQAAAAAAAAAAAAAAAAAAAPoAAAPoAABAAABAAAAAAAAAAAA\n",
       "AAAAAQAAAAAAAAAAAAAAAAAAAAEAAAAAAAAAAAAAAAAAAEAAAAAAAAAAAAAAAAAAAAAAAAAAAAAA\n",
       "AAAAAAAAAAACAAAEAXRyYWsAAABcdGtoZAAAAAMAAAAAAAAAAAAAAAEAAAAAAAAPoAAAAAAAAAAA\n",
       "AAAAAAAAAAAAAQAAAAAAAAAAAAAAAAAAAAEAAAAAAAAAAAAAAAAAAEAAAAAB9AAAAZAAAAAAACRl\n",
       "ZHRzAAAAHGVsc3QAAAAAAAAAAQAAD6AAAAgAAAEAAAAAA3ltZGlhAAAAIG1kaGQAAAAAAAAAAAAA\n",
       "AAAAACgAAACgAFXEAAAAAAAtaGRscgAAAAAAAAAAdmlkZQAAAAAAAAAAAAAAAFZpZGVvSGFuZGxl\n",
       "cgAAAAMkbWluZgAAABR2bWhkAAAAAQAAAAAAAAAAAAAAJGRpbmYAAAAcZHJlZgAAAAAAAAABAAAA\n",
       "DHVybCAAAAABAAAC5HN0YmwAAAC0c3RzZAAAAAAAAAABAAAApGF2YzEAAAAAAAAAAQAAAAAAAAAA\n",
       "AAAAAAAAAAAB9AGQAEgAAABIAAAAAAAAAAEAAAAAAAAAAAAAAAAAAAAAAAAAAAAAAAAAAAAAAAAA\n",
       "AAAY//8AAAAyYXZjQwFkABb/4QAZZ2QAFqzZQIAz5+EAAAMAAQAAAwAUDxYtlgEABmjr48siwAAA\n",
       "ABx1dWlka2hA8l8kT8W6OaUbzwMj8wAAAAAAAAAYc3R0cwAAAAAAAAABAAAAKAAABAAAAAAUc3Rz\n",
       "cwAAAAAAAAABAAAAAQAAARhjdHRzAAAAAAAAACEAAAAIAAAIAAAAAAEAABQAAAAAAQAACAAAAAAB\n",
       "AAAAAAAAAAEAAAQAAAAAAQAAFAAAAAABAAAIAAAAAAEAAAAAAAAAAQAABAAAAAABAAAUAAAAAAEA\n",
       "AAgAAAAAAQAAAAAAAAABAAAEAAAAAAEAABQAAAAAAQAACAAAAAABAAAAAAAAAAEAAAQAAAAAAQAA\n",
       "FAAAAAABAAAIAAAAAAEAAAAAAAAAAQAABAAAAAABAAAUAAAAAAEAAAgAAAAAAQAAAAAAAAABAAAE\n",
       "AAAAAAEAABQAAAAAAQAACAAAAAABAAAAAAAAAAEAAAQAAAAAAQAAFAAAAAABAAAIAAAAAAEAAAAA\n",
       "AAAAAQAABAAAAAAcc3RzYwAAAAAAAAABAAAAAQAAACgAAAABAAAAtHN0c3oAAAAAAAAAAAAAACgA\n",
       "ABTcAAACzgAAA6wAAAUXAAADEQAAAiYAAAIGAAAB3AAABN8AAAIIAAAAyQAAAWEAAAO1AAACNQAA\n",
       "AbUAAAEYAAADywAAAWAAAAD4AAAA3QAAAw4AAADfAAAAhQAAAD0AAAHeAAAAeQAAACwAAAAuAAAB\n",
       "ZgAAAEgAAAAjAAAAIQAAAQcAAAA2AAAAIQAAACUAAABrAAAALwAAACIAAAAjAAAAFHN0Y28AAAAA\n",
       "AAAAAQAAACwAAABidWR0YQAAAFptZXRhAAAAAAAAACFoZGxyAAAAAAAAAABtZGlyYXBwbAAAAAAA\n",
       "AAAAAAAAAC1pbHN0AAAAJal0b28AAAAdZGF0YQAAAAEAAAAATGF2ZjU3LjcxLjEwMA==\n",
       "\">\n",
       "  Your browser does not support the video tag.\n",
       "</video>"
      ],
      "text/plain": [
       "<matplotlib.animation.FuncAnimation at 0x7fc1cf699590>"
      ]
     },
     "execution_count": 16,
     "metadata": {},
     "output_type": "execute_result"
    }
   ],
   "source": [
    "fig = plt.figure(dpi=100, figsize=(5, 4))\n",
    "plt.scatter(x,y)\n",
    "lineplot, = plt.plot(x,line(a_guess,b_guess,x))\n",
    "plt.close()\n",
    "\n",
    "def animate(i):\n",
    "    lineplot.set_ydata(line(a_guess,b_guess,x))\n",
    "    for i in range(10): upd()\n",
    "    return lineplot,\n",
    "\n",
    "ani = animation.FuncAnimation(fig, animate, np.arange(0, 40), interval=100)\n",
    "ani"
   ]
  },
  {
   "cell_type": "code",
   "execution_count": null,
   "metadata": {
    "collapsed": true
   },
   "outputs": [],
   "source": []
  }
 ],
 "metadata": {
  "kernelspec": {
   "display_name": "Python 2",
   "language": "python",
   "name": "python2"
  },
  "nav_menu": {},
  "toc": {
   "navigate_menu": true,
   "number_sections": true,
   "sideBar": true,
   "threshold": 6,
   "toc_cell": true,
   "toc_section_display": "block",
   "toc_window_display": false
  },
  "widgets": {
   "state": {},
   "version": "1.1.2"
  }
 },
 "nbformat": 4,
 "nbformat_minor": 1
}
