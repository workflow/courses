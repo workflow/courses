{
 "cells": [
  {
   "cell_type": "markdown",
   "metadata": {},
   "source": [
    "# Dogs vs Cats Redux from Scratch"
   ]
  },
  {
   "cell_type": "markdown",
   "metadata": {},
   "source": [
    "## Imports, Constants and Settings"
   ]
  },
  {
   "cell_type": "code",
   "execution_count": 1,
   "metadata": {},
   "outputs": [
    {
     "name": "stderr",
     "output_type": "stream",
     "text": [
      "Using Theano backend.\n"
     ]
    }
   ],
   "source": [
    "import os,sys\n",
    "from shutil import copyfile\n",
    "from PIL import Image\n",
    "\n",
    "utils_path = os.path.abspath(os.path.join('./utils'))\n",
    "if utils_path not in sys.path:\n",
    "    sys.path.append(utils_path)\n",
    "from utils import *"
   ]
  },
  {
   "cell_type": "code",
   "execution_count": 2,
   "metadata": {},
   "outputs": [],
   "source": [
    "CURRENT_DIR = os.getcwd()\n",
    "LESSON_HOME_DIR = CURRENT_DIR\n",
    "DATA_HOME_DIR = CURRENT_DIR + '/data/redux'\n",
    "TEST_PATH = DATA_HOME_DIR + '/test/' #We use all the test data\n",
    "RESULTS_PATH = DATA_HOME_DIR + '/results/'\n",
    "\n",
    "\n",
    "PATH = DATA_HOME_DIR + '/sample/'\n",
    "\n",
    "TRAIN_PATH = PATH + '/train/'\n",
    "VALIDATION_PATH = PATH + '/validation/'"
   ]
  },
  {
   "cell_type": "code",
   "execution_count": 3,
   "metadata": {
    "collapsed": true
   },
   "outputs": [],
   "source": [
    "#Instantiate plotting tool\n",
    "#In Jupyter notebooks, you will need to run this command before doing any plotting\n",
    "%matplotlib inline"
   ]
  },
  {
   "cell_type": "markdown",
   "metadata": {},
   "source": [
    "## Helper Functions"
   ]
  },
  {
   "cell_type": "code",
   "execution_count": 11,
   "metadata": {},
   "outputs": [],
   "source": [
    "def setup_standard_dir_structure():\n",
    "    %cd $DATA_HOME_DIR\n",
    "    %mkdir validation\n",
    "    %mkdir results\n",
    "    # Moving all test images to a class directory of 'unknown', to more easily work with batches\n",
    "    %mkdir test/unknown\n",
    "    %mkdir -p sample/train\n",
    "    %mkdir -p sample/test\n",
    "    %mkdir -p sample/validation\n",
    "    %mkdir -p sample/results\n",
    "\n",
    "# TODO: Make directory-agnostic\n",
    "def count_images_in_training_set():\n",
    "    %cd $DATA_HOME_DIR/train\n",
    "    path, dirs, files = os.walk('.').next()\n",
    "    return len(files)\n",
    "\n",
    "# TODO: Make directory-agnostic\n",
    "# TODO: Factor out common stuff\n",
    "def move_training_images_to_validation_set(percent):\n",
    "    total_in_validation_set = int(total_images_in_training_set * (percent / 100.0))\n",
    "\n",
    "    print('Moving {total} from training set to validation set.').format(total=str(total_in_validation_set))\n",
    "\n",
    "    %cd $DATA_HOME_DIR/train\n",
    "    all_training_jpegs = glob('*.jpg')\n",
    "    shuffled_training_jpegs = np.random.permutation(all_training_jpegs)\n",
    "    for i in range(total_in_validation_set):\n",
    "        os.rename(shuffled_training_jpegs[i], DATA_HOME_DIR + '/validation/' + shuffled_training_jpegs[i])\n",
    "\n",
    "# TODO: Make directory-agnostic\n",
    "# TODO: Factor out common stuff\n",
    "def copy_training_images_to_sample(percent):\n",
    "    total_in_sample_training_set = int(total_images_in_training_set * (percent / 100.0))\n",
    "\n",
    "    print('Copying {total} from training set to sample training set.').format(total=str(total_in_sample_training_set))\n",
    "\n",
    "    all_training_jpegs = glob('*.jpg')\n",
    "    shuffled_training_jpegs = np.random.permutation(all_training_jpegs)\n",
    "    for i in range(total_in_sample_training_set):\n",
    "        copyfile(shuffled_training_jpegs[i], DATA_HOME_DIR + '/sample/train/' + shuffled_training_jpegs[i])\n",
    "        \n",
    "# TODO: Make directory-agnostic\n",
    "# TODO: Factor out common stuff\n",
    "def copy_validation_images_to_sample(percent):\n",
    "    %cd $DATA_HOME_DIR/validation\n",
    "    total_in_sample_validation_set = int(total_images_in_training_set * (percent / 100.0))\n",
    "\n",
    "    print('Copying {total} from validation set to sample validation set.').format(total=str(total_in_sample_validation_set))\n",
    "\n",
    "    all_training_jpegs = glob('*.jpg')\n",
    "    shuffled_training_jpegs = np.random.permutation(all_training_jpegs)\n",
    "    for i in range(total_in_sample_validation_set):\n",
    "         copyfile(shuffled_training_jpegs[i], DATA_HOME_DIR + '/sample/validation/' + shuffled_training_jpegs[i])\n",
    " \n",
    "# TODO: Make directory-agnostic\n",
    "# TODO: Factor out common stuff\n",
    "def copy_test_images_to_sample(percent):\n",
    "    %cd $DATA_HOME_DIR/test\n",
    "    total_in_sample_test_set = int(total_images_in_training_set * (percent / 100.0))\n",
    "\n",
    "    print('Copying {total} from test set to sample test set.').format(total=str(total_in_sample_test_set))\n",
    "\n",
    "    all_test_jpegs = glob('*.jpg')\n",
    "    shuffled_test_jpegs = np.random.permutation(all_test_jpegs)\n",
    "    for i in range(total_in_sample_test_set):\n",
    "         copyfile(shuffled_test_jpegs[i], DATA_HOME_DIR + '/sample/test/' + shuffled_test_jpegs[i])"
   ]
  },
  {
   "cell_type": "markdown",
   "metadata": {},
   "source": [
    "## Downloading Kaggle Data"
   ]
  },
  {
   "cell_type": "markdown",
   "metadata": {},
   "source": [
    "Go ahead and run the following:\n",
    "\n",
    "```\n",
    "kg config -u farlion -p -c dogs-vs-cats-redux-kernels-edition\n",
    "```\n"
   ]
  },
  {
   "cell_type": "code",
   "execution_count": 7,
   "metadata": {},
   "outputs": [
    {
     "name": "stdout",
     "output_type": "stream",
     "text": [
      "downloading https://www.kaggle.com/c/dogs-vs-cats-redux-kernels-edition/download/test.zip\n",
      "\n",
      "test.zip 100% |######################################| Time: 0:04:24   1.0 MiB/s\n",
      "downloading https://www.kaggle.com/c/dogs-vs-cats-redux-kernels-edition/download/train.zip\n",
      "\n",
      "train.zip 100% |#####################################| Time: 0:08:48   1.0 MiB/s\n",
      "downloading https://www.kaggle.com/c/dogs-vs-cats-redux-kernels-edition/download/sample_submission.csv\n",
      "\n",
      "sample_submission.csv already downloaded !\n"
     ]
    }
   ],
   "source": [
    "!kg download"
   ]
  },
  {
   "cell_type": "markdown",
   "metadata": {},
   "source": [
    "Now we're placing them into the following structure\n",
    "\n",
    "```\n",
    "utils/\n",
    "    vgg16.py\n",
    "    utils.py\n",
    "lesson1/\n",
    "    redux.ipynb\n",
    "    data/\n",
    "        redux/\n",
    "            train/\n",
    "                cat.437.jpg\n",
    "                dog.9924.jpg\n",
    "                cat.1029.jpg\n",
    "                dog.4374.jpg\n",
    "            test/\n",
    "                231.jpg\n",
    "                325.jpg\n",
    "                1235.jpg\n",
    "                9923.jpg\n",
    "```"
   ]
  },
  {
   "cell_type": "code",
   "execution_count": 8,
   "metadata": {
    "collapsed": true
   },
   "outputs": [],
   "source": [
    "!unzip -q test.zip\n",
    "!unzip -q train.zip"
   ]
  },
  {
   "cell_type": "code",
   "execution_count": 9,
   "metadata": {
    "collapsed": true
   },
   "outputs": [],
   "source": [
    "#!rm test.zip train.zip"
   ]
  },
  {
   "cell_type": "code",
   "execution_count": 10,
   "metadata": {
    "collapsed": true
   },
   "outputs": [],
   "source": [
    "!mkdir -p data/redux\n",
    "!mv test train data/redux/"
   ]
  },
  {
   "cell_type": "markdown",
   "metadata": {
    "heading_collapsed": true
   },
   "source": [
    "## Action Plan\n",
    "1. Create Validation and Sample sets\n",
    "2. Rearrange image files into their respective directories \n",
    "3. Finetune and Train model\n",
    "4. Generate predictions\n",
    "5. Validate predictions\n",
    "6. Submit predictions to Kaggle"
   ]
  },
  {
   "cell_type": "markdown",
   "metadata": {},
   "source": [
    "## Create Validation and Sample sets"
   ]
  },
  {
   "cell_type": "code",
   "execution_count": null,
   "metadata": {},
   "outputs": [],
   "source": [
    "setup_standard_dir_structure()"
   ]
  },
  {
   "cell_type": "code",
   "execution_count": null,
   "metadata": {},
   "outputs": [],
   "source": [
    "print('We have {total} images in total in our training set.').format(total=str(count_images_in_training_set()))"
   ]
  },
  {
   "cell_type": "code",
   "execution_count": null,
   "metadata": {
    "scrolled": true
   },
   "outputs": [],
   "source": [
    "move_training_images_to_validation_set(percent=10)"
   ]
  },
  {
   "cell_type": "code",
   "execution_count": null,
   "metadata": {},
   "outputs": [],
   "source": [
    "copy_training_images_to_sample(percent=1)"
   ]
  },
  {
   "cell_type": "code",
   "execution_count": null,
   "metadata": {},
   "outputs": [],
   "source": [
    "copy_validation_images_to_sample(percent=0.25)"
   ]
  },
  {
   "cell_type": "code",
   "execution_count": null,
   "metadata": {},
   "outputs": [],
   "source": [
    "copy_test_images_to_sample(percent=10)"
   ]
  },
  {
   "cell_type": "markdown",
   "metadata": {
    "heading_collapsed": true
   },
   "source": [
    "## Split up image files into class directories"
   ]
  },
  {
   "cell_type": "code",
   "execution_count": null,
   "metadata": {
    "hidden": true
   },
   "outputs": [],
   "source": [
    "%cd $DATA_HOME_DIR/sample/train\n",
    "%mkdir cats\n",
    "%mkdir dogs\n",
    "%mv cat.*.jpg cats/\n",
    "%mv dog.*.jpg dogs/\n",
    "\n",
    "%cd $DATA_HOME_DIR/sample/validation\n",
    "%mkdir cats\n",
    "%mkdir dogs\n",
    "%mv cat.*.jpg cats/\n",
    "%mv dog.*.jpg dogs/\n",
    "\n",
    "%cd $DATA_HOME_DIR/validation\n",
    "%mkdir cats\n",
    "%mkdir dogs\n",
    "%mv cat.*.jpg cats/\n",
    "%mv dog.*.jpg dogs/\n",
    "\n",
    "%cd $DATA_HOME_DIR/train\n",
    "%mkdir cats\n",
    "%mkdir dogs\n",
    "%mv cat.*.jpg cats/\n",
    "%mv dog.*.jpg dogs/"
   ]
  },
  {
   "cell_type": "markdown",
   "metadata": {
    "heading_collapsed": true
   },
   "source": [
    "## Finetune and Train Model"
   ]
  },
  {
   "cell_type": "code",
   "execution_count": null,
   "metadata": {
    "hidden": true
   },
   "outputs": [],
   "source": [
    "%cd $DATA_HOME_DIR\n",
    "\n",
    "vgg = Vgg16()"
   ]
  },
  {
   "cell_type": "code",
   "execution_count": null,
   "metadata": {
    "collapsed": true,
    "hidden": true
   },
   "outputs": [],
   "source": [
    "BATCH_SIZE = 64\n",
    "EPOCHS = 3\n",
    "LEARNING_RATE = 0.01"
   ]
  },
  {
   "cell_type": "code",
   "execution_count": null,
   "metadata": {
    "hidden": true
   },
   "outputs": [],
   "source": [
    "train_batches = vgg.get_batches(TRAIN_PATH, batch_size=BATCH_SIZE)\n",
    "validation_batches = vgg.get_batches(VALIDATION_PATH, batch_size=BATCH_SIZE)\n",
    "\n",
    "vgg.finetune(train_batches)"
   ]
  },
  {
   "cell_type": "code",
   "execution_count": null,
   "metadata": {
    "hidden": true
   },
   "outputs": [],
   "source": [
    "#Not sure if we set this for all fits\n",
    "vgg.model.optimizer.lr = LEARNING_RATE"
   ]
  },
  {
   "cell_type": "code",
   "execution_count": null,
   "metadata": {
    "hidden": true
   },
   "outputs": [],
   "source": [
    "#For each epoch we test our model against the validation set\n",
    "latest_weights_filename = None\n",
    "for epoch in range(EPOCHS):\n",
    "    print('Running epoch {}').format(epoch)\n",
    "    vgg.fit(train_batches, validation_batches, nb_epoch=1)\n",
    "    latest_weights_filename = 'ft{}d.h5'.format(epoch)\n",
    "    vgg.model.save_weights(RESULTS_PATH + latest_weights_filename)\n",
    "print('Completed {} fit operations').format(EPOCHS)"
   ]
  },
  {
   "cell_type": "markdown",
   "metadata": {
    "heading_collapsed": true
   },
   "source": [
    "## Generate Predictions"
   ]
  },
  {
   "cell_type": "code",
   "execution_count": null,
   "metadata": {
    "hidden": true
   },
   "outputs": [],
   "source": [
    "#For every image, vgg.test() generates two probabilities \n",
    "#based on how we've ordered the cats/dogs directories.\n",
    "#It looks like column one is cats and column two is dogs\n",
    "prediction_batches, predictions = vgg.test(TEST_PATH, batch_size=BATCH_SIZE)"
   ]
  },
  {
   "cell_type": "code",
   "execution_count": null,
   "metadata": {
    "collapsed": true,
    "hidden": true
   },
   "outputs": [],
   "source": [
    "print(predictions[:5])\n",
    "\n",
    "prediction_filenames = prediction_batches.filenames\n",
    "print(prediction_filenames[:5])"
   ]
  },
  {
   "cell_type": "code",
   "execution_count": null,
   "metadata": {
    "collapsed": true,
    "hidden": true
   },
   "outputs": [],
   "source": [
    "# You can verify the column ordering by viewing some images\n",
    "Image.open(test_path + filenames[2])"
   ]
  },
  {
   "cell_type": "code",
   "execution_count": null,
   "metadata": {
    "collapsed": true,
    "hidden": true
   },
   "outputs": [],
   "source": [
    "#Save our test results arrays so we can use them again later\n",
    "save_array(results_path + 'predictions.dat', preds)\n",
    "save_array(results_path + 'prediction_filenames.dat', filenames)"
   ]
  },
  {
   "cell_type": "markdown",
   "metadata": {
    "heading_collapsed": true
   },
   "source": [
    "## Validate Predictions"
   ]
  },
  {
   "cell_type": "markdown",
   "metadata": {
    "hidden": true
   },
   "source": [
    "Keras' *fit()* function conveniently shows us the value of the loss function, and the accuracy, after every epoch (\"*epoch*\" refers to one full run through all training examples). The most important metrics for us to look at are for the validation set, since we want to check for over-fitting. \n",
    "\n",
    "- **Tip**: with our first model we should try to overfit before we start worrying about how to reduce over-fitting - there's no point even thinking about regularization, data augmentation, etc if you're still under-fitting! (We'll be looking at these techniques shortly).\n",
    "\n",
    "As well as looking at the overall metrics, it's also a good idea to look at examples of each of:\n",
    "1. A few correct labels at random\n",
    "2. A few incorrect labels at random\n",
    "3. The most correct labels of each class (ie those with highest probability that are correct)\n",
    "4. The most incorrect labels of each class (ie those with highest probability that are incorrect)\n",
    "5. The most uncertain labels (ie those with probability closest to 0.5)."
   ]
  },
  {
   "cell_type": "markdown",
   "metadata": {
    "hidden": true
   },
   "source": [
    "Let's see what we can learn from these examples. (In general, this is a particularly useful technique for debugging problems in the model. However, since this model is so simple, there may not be too much to learn at this stage.)\n",
    "\n",
    "Calculate predictions on validation set, so we can find correct and incorrect examples:"
   ]
  },
  {
   "cell_type": "code",
   "execution_count": null,
   "metadata": {
    "collapsed": true,
    "hidden": true
   },
   "outputs": [],
   "source": [
    "vgg.model.load_weights(RESULTS_PATHHLTS_PATHULTS_PATH+latest_weights_filename)"
   ]
  },
  {
   "cell_type": "code",
   "execution_count": null,
   "metadata": {
    "collapsed": true,
    "hidden": true
   },
   "outputs": [],
   "source": [
    "validation_batches, validation_probabilities = vgg.test(VALIDATION_PATH, batch_size=BATCH_SIZE)\n",
    "validation_filenames = validation_batches.filenames\n",
    "expected_labels = validation_batches.classes # 0 or 1\n",
    "\n",
    "#Round our predictions to 0/1 to generate labels\n",
    "our_predictions = validation_probabilities[:,0]\n",
    "our_labels = np.round(1-our_predictions)"
   ]
  },
  {
   "cell_type": "markdown",
   "metadata": {},
   "source": [
    "## Submit Predictions to Kaggle"
   ]
  }
 ],
 "metadata": {
  "kernelspec": {
   "display_name": "Python 2",
   "language": "python",
   "name": "python2"
  },
  "language_info": {
   "codemirror_mode": {
    "name": "ipython",
    "version": 2
   },
   "file_extension": ".py",
   "mimetype": "text/x-python",
   "name": "python",
   "nbconvert_exporter": "python",
   "pygments_lexer": "ipython2",
   "version": "2.7.13"
  }
 },
 "nbformat": 4,
 "nbformat_minor": 2
}
