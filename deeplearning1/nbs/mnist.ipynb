{
 "cells": [
  {
   "cell_type": "code",
   "execution_count": 1,
   "metadata": {},
   "outputs": [
    {
     "name": "stderr",
     "output_type": "stream",
     "text": [
      "WARNING (theano.sandbox.cuda): The cuda backend is deprecated and will be removed in the next release (v0.10).  Please switch to the gpuarray backend. You can get more information about how to switch at this URL:\n",
      " https://github.com/Theano/Theano/wiki/Converting-to-the-new-gpu-back-end%28gpuarray%29\n",
      "\n",
      "ERROR (theano.sandbox.cuda): nvcc compiler not found on $PATH. Check your nvcc installation and try again.\n",
      "WARNING (theano.sandbox.cuda): The cuda backend is deprecated and will be removed in the next release (v0.10).  Please switch to the gpuarray backend. You can get more information about how to switch at this URL:\n",
      " https://github.com/Theano/Theano/wiki/Converting-to-the-new-gpu-back-end%28gpuarray%29\n",
      "\n",
      "ERROR (theano.sandbox.cuda): nvcc compiler not found on $PATH. Check your nvcc installation and try again.\n"
     ]
    }
   ],
   "source": [
    "from theano.sandbox import cuda\n",
    "cuda.use('cpu')"
   ]
  },
  {
   "cell_type": "code",
   "execution_count": 2,
   "metadata": {},
   "outputs": [
    {
     "name": "stderr",
     "output_type": "stream",
     "text": [
      "Using Theano backend.\n"
     ]
    }
   ],
   "source": [
    "%matplotlib inline\n",
    "import utils; reload(utils)\n",
    "from utils import *\n",
    "from __future__ import division, print_function"
   ]
  },
  {
   "cell_type": "markdown",
   "metadata": {},
   "source": [
    "## Setup"
   ]
  },
  {
   "cell_type": "code",
   "execution_count": 3,
   "metadata": {
    "collapsed": true
   },
   "outputs": [],
   "source": [
    "batch_size=64"
   ]
  },
  {
   "cell_type": "code",
   "execution_count": 4,
   "metadata": {},
   "outputs": [
    {
     "data": {
      "text/plain": [
       "((60000, 28, 28), (60000,), (10000, 28, 28), (10000,))"
      ]
     },
     "execution_count": 4,
     "metadata": {},
     "output_type": "execute_result"
    }
   ],
   "source": [
    "from keras.datasets import mnist\n",
    "(X_train, y_train), (X_test, y_test) = mnist.load_data()\n",
    "(X_train.shape, y_train.shape, X_test.shape, y_test.shape)"
   ]
  },
  {
   "cell_type": "code",
   "execution_count": 5,
   "metadata": {
    "collapsed": true
   },
   "outputs": [],
   "source": [
    "X_test = np.expand_dims(X_test,1)\n",
    "X_train = np.expand_dims(X_train,1)"
   ]
  },
  {
   "cell_type": "code",
   "execution_count": 6,
   "metadata": {},
   "outputs": [
    {
     "data": {
      "text/plain": [
       "(60000, 1, 28, 28)"
      ]
     },
     "execution_count": 6,
     "metadata": {},
     "output_type": "execute_result"
    }
   ],
   "source": [
    "X_train.shape"
   ]
  },
  {
   "cell_type": "code",
   "execution_count": 7,
   "metadata": {},
   "outputs": [
    {
     "data": {
      "text/plain": [
       "(60000,)"
      ]
     },
     "execution_count": 7,
     "metadata": {},
     "output_type": "execute_result"
    }
   ],
   "source": [
    "y_train.shape"
   ]
  },
  {
   "cell_type": "code",
   "execution_count": 8,
   "metadata": {},
   "outputs": [
    {
     "data": {
      "text/plain": [
       "array([5, 0, 4, ..., 5, 6, 8], dtype=uint8)"
      ]
     },
     "execution_count": 8,
     "metadata": {},
     "output_type": "execute_result"
    }
   ],
   "source": [
    "y_train"
   ]
  },
  {
   "cell_type": "code",
   "execution_count": 9,
   "metadata": {},
   "outputs": [
    {
     "data": {
      "text/plain": [
       "array([5, 0, 4, 1, 9], dtype=uint8)"
      ]
     },
     "execution_count": 9,
     "metadata": {},
     "output_type": "execute_result"
    }
   ],
   "source": [
    "y_train[:5]"
   ]
  },
  {
   "cell_type": "code",
   "execution_count": 10,
   "metadata": {
    "collapsed": true
   },
   "outputs": [],
   "source": [
    "y_train = onehot(y_train)\n",
    "y_test = onehot(y_test)"
   ]
  },
  {
   "cell_type": "code",
   "execution_count": 11,
   "metadata": {},
   "outputs": [
    {
     "data": {
      "text/plain": [
       "array([[ 0.,  0.,  0.,  0.,  0.,  1.,  0.,  0.,  0.,  0.],\n",
       "       [ 1.,  0.,  0.,  0.,  0.,  0.,  0.,  0.,  0.,  0.],\n",
       "       [ 0.,  0.,  0.,  0.,  1.,  0.,  0.,  0.,  0.,  0.],\n",
       "       [ 0.,  1.,  0.,  0.,  0.,  0.,  0.,  0.,  0.,  0.],\n",
       "       [ 0.,  0.,  0.,  0.,  0.,  0.,  0.,  0.,  0.,  1.]])"
      ]
     },
     "execution_count": 11,
     "metadata": {},
     "output_type": "execute_result"
    }
   ],
   "source": [
    "y_train[:5]"
   ]
  },
  {
   "cell_type": "code",
   "execution_count": 12,
   "metadata": {
    "collapsed": true
   },
   "outputs": [],
   "source": [
    "mean_px = X_train.mean().astype(np.float32)\n",
    "std_px = X_train.std().astype(np.float32)"
   ]
  },
  {
   "cell_type": "code",
   "execution_count": 13,
   "metadata": {
    "collapsed": true
   },
   "outputs": [],
   "source": [
    "def norm_input(x): return (x-mean_px)/std_px"
   ]
  },
  {
   "cell_type": "markdown",
   "metadata": {},
   "source": [
    "## Linear model"
   ]
  },
  {
   "cell_type": "code",
   "execution_count": 14,
   "metadata": {
    "collapsed": true
   },
   "outputs": [],
   "source": [
    "def get_lin_model():\n",
    "    model = Sequential([\n",
    "        Lambda(norm_input, input_shape=(1,28,28)),\n",
    "        Flatten(),\n",
    "        Dense(10, activation='softmax')\n",
    "        ])\n",
    "    model.compile(Adam(), loss='categorical_crossentropy', metrics=['accuracy'])\n",
    "    return model"
   ]
  },
  {
   "cell_type": "code",
   "execution_count": 15,
   "metadata": {},
   "outputs": [
    {
     "name": "stderr",
     "output_type": "stream",
     "text": [
      "/home/farlion/anaconda2/lib/python2.7/site-packages/keras/layers/core.py:622: UserWarning: `output_shape` argument not specified for layer lambda_1 and cannot be automatically inferred with the Theano backend. Defaulting to output shape `(None, 1, 28, 28)` (same as input shape). If the expected output shape is different, specify it via the `output_shape` argument.\n",
      "  .format(self.name, input_shape))\n"
     ]
    }
   ],
   "source": [
    "lm = get_lin_model()"
   ]
  },
  {
   "cell_type": "code",
   "execution_count": 16,
   "metadata": {
    "collapsed": true
   },
   "outputs": [],
   "source": [
    "gen = image.ImageDataGenerator()\n",
    "batches = gen.flow(X_train, y_train, batch_size=64)\n",
    "test_batches = gen.flow(X_test, y_test, batch_size=64)"
   ]
  },
  {
   "cell_type": "code",
   "execution_count": 17,
   "metadata": {},
   "outputs": [
    {
     "data": {
      "text/plain": [
       "<keras.preprocessing.image.NumpyArrayIterator at 0x7fa758b00890>"
      ]
     },
     "execution_count": 17,
     "metadata": {},
     "output_type": "execute_result"
    }
   ],
   "source": [
    "batches"
   ]
  },
  {
   "cell_type": "code",
   "execution_count": 18,
   "metadata": {},
   "outputs": [
    {
     "name": "stdout",
     "output_type": "stream",
     "text": [
      "Epoch 1/1\n",
      "64/64 [==============================] - 0s - loss: 2.6166 - acc: 0.1406 - val_loss: 2.4392 - val_acc: 0.2500\n"
     ]
    },
    {
     "data": {
      "text/plain": [
       "<keras.callbacks.History at 0x7fa74cda3d50>"
      ]
     },
     "execution_count": 18,
     "metadata": {},
     "output_type": "execute_result"
    }
   ],
   "source": [
    "lm.fit_generator(batches, batches.batch_size, nb_epoch=1, \n",
    "                    validation_data=test_batches, nb_val_samples=test_batches.batch_size)"
   ]
  },
  {
   "cell_type": "code",
   "execution_count": 19,
   "metadata": {
    "collapsed": true
   },
   "outputs": [],
   "source": [
    "lm.optimizer.lr=0.1"
   ]
  },
  {
   "cell_type": "code",
   "execution_count": 21,
   "metadata": {},
   "outputs": [
    {
     "name": "stdout",
     "output_type": "stream",
     "text": [
      "Epoch 1/1\n",
      "64/64 [==============================] - 0s - loss: 2.6284 - acc: 0.1875 - val_loss: 2.2685 - val_acc: 0.2812\n"
     ]
    },
    {
     "data": {
      "text/plain": [
       "<keras.callbacks.History at 0x7fa7469ebc10>"
      ]
     },
     "execution_count": 21,
     "metadata": {},
     "output_type": "execute_result"
    }
   ],
   "source": [
    "lm.fit_generator(batches, batches.batch_size, nb_epoch=1, \n",
    "                    validation_data=test_batches, nb_val_samples=test_batches.batch_size)"
   ]
  },
  {
   "cell_type": "code",
   "execution_count": 22,
   "metadata": {
    "collapsed": true
   },
   "outputs": [],
   "source": [
    "lm.optimizer.lr=0.01"
   ]
  },
  {
   "cell_type": "code",
   "execution_count": 23,
   "metadata": {
    "scrolled": true
   },
   "outputs": [
    {
     "name": "stdout",
     "output_type": "stream",
     "text": [
      "Epoch 1/4\n",
      "64/64 [==============================] - 0s - loss: 2.2611 - acc: 0.1719 - val_loss: 2.2491 - val_acc: 0.2812\n",
      "Epoch 2/4\n",
      "64/64 [==============================] - 0s - loss: 2.4246 - acc: 0.2500 - val_loss: 2.1031 - val_acc: 0.2656\n",
      "Epoch 3/4\n",
      "64/64 [==============================] - 0s - loss: 1.9307 - acc: 0.3438 - val_loss: 1.8618 - val_acc: 0.3281\n",
      "Epoch 4/4\n",
      "64/64 [==============================] - 0s - loss: 1.7970 - acc: 0.3750 - val_loss: 1.6259 - val_acc: 0.4844\n"
     ]
    },
    {
     "data": {
      "text/plain": [
       "<keras.callbacks.History at 0x7fa746744b50>"
      ]
     },
     "execution_count": 23,
     "metadata": {},
     "output_type": "execute_result"
    }
   ],
   "source": [
    "lm.fit_generator(batches, batches.batch_size, nb_epoch=4, \n",
    "                    validation_data=test_batches, nb_val_samples=test_batches.batch_size)"
   ]
  },
  {
   "cell_type": "markdown",
   "metadata": {},
   "source": [
    "## Single dense layer"
   ]
  },
  {
   "cell_type": "code",
   "execution_count": 24,
   "metadata": {
    "collapsed": true
   },
   "outputs": [],
   "source": [
    "def get_fc_model():\n",
    "    model = Sequential([\n",
    "        Lambda(norm_input, input_shape=(1,28,28)),\n",
    "        Flatten(),\n",
    "        Dense(512, activation='softmax'),\n",
    "        Dense(10, activation='softmax')\n",
    "        ])\n",
    "    model.compile(Adam(), loss='categorical_crossentropy', metrics=['accuracy'])\n",
    "    return model"
   ]
  },
  {
   "cell_type": "code",
   "execution_count": 25,
   "metadata": {},
   "outputs": [
    {
     "name": "stderr",
     "output_type": "stream",
     "text": [
      "/home/farlion/anaconda2/lib/python2.7/site-packages/keras/layers/core.py:622: UserWarning: `output_shape` argument not specified for layer lambda_2 and cannot be automatically inferred with the Theano backend. Defaulting to output shape `(None, 1, 28, 28)` (same as input shape). If the expected output shape is different, specify it via the `output_shape` argument.\n",
      "  .format(self.name, input_shape))\n"
     ]
    }
   ],
   "source": [
    "fc = get_fc_model()"
   ]
  },
  {
   "cell_type": "code",
   "execution_count": 26,
   "metadata": {},
   "outputs": [
    {
     "name": "stdout",
     "output_type": "stream",
     "text": [
      "Epoch 1/1\n",
      "64/64 [==============================] - 0s - loss: 2.3014 - acc: 0.1094 - val_loss: 2.2992 - val_acc: 0.2812\n"
     ]
    },
    {
     "data": {
      "text/plain": [
       "<keras.callbacks.History at 0x7fa7410e4490>"
      ]
     },
     "execution_count": 26,
     "metadata": {},
     "output_type": "execute_result"
    }
   ],
   "source": [
    "fc.fit_generator(batches, batches.batch_size, nb_epoch=1, \n",
    "                    validation_data=test_batches, nb_val_samples=test_batches.batch_size)"
   ]
  },
  {
   "cell_type": "code",
   "execution_count": 27,
   "metadata": {
    "collapsed": true
   },
   "outputs": [],
   "source": [
    "fc.optimizer.lr=0.1"
   ]
  },
  {
   "cell_type": "code",
   "execution_count": 28,
   "metadata": {},
   "outputs": [
    {
     "name": "stdout",
     "output_type": "stream",
     "text": [
      "Epoch 1/4\n",
      "64/64 [==============================] - 0s - loss: 2.2993 - acc: 0.2188 - val_loss: 2.2938 - val_acc: 0.4062\n",
      "Epoch 2/4\n",
      "64/64 [==============================] - 0s - loss: 2.2965 - acc: 0.4062 - val_loss: 2.2948 - val_acc: 0.3125\n",
      "Epoch 3/4\n",
      "64/64 [==============================] - 0s - loss: 2.2917 - acc: 0.4062 - val_loss: 2.2896 - val_acc: 0.4219\n",
      "Epoch 4/4\n",
      "64/64 [==============================] - 0s - loss: 2.2913 - acc: 0.4531 - val_loss: 2.2828 - val_acc: 0.5781\n"
     ]
    },
    {
     "data": {
      "text/plain": [
       "<keras.callbacks.History at 0x7fa740fb9cd0>"
      ]
     },
     "execution_count": 28,
     "metadata": {},
     "output_type": "execute_result"
    }
   ],
   "source": [
    "fc.fit_generator(batches, batches.batch_size, nb_epoch=4, \n",
    "                    validation_data=test_batches, nb_val_samples=test_batches.batch_size)"
   ]
  },
  {
   "cell_type": "code",
   "execution_count": 29,
   "metadata": {
    "collapsed": true
   },
   "outputs": [],
   "source": [
    "fc.optimizer.lr=0.01"
   ]
  },
  {
   "cell_type": "code",
   "execution_count": 30,
   "metadata": {
    "scrolled": true
   },
   "outputs": [
    {
     "name": "stdout",
     "output_type": "stream",
     "text": [
      "Epoch 1/4\n",
      "64/64 [==============================] - 0s - loss: 2.2854 - acc: 0.5312 - val_loss: 2.2864 - val_acc: 0.4062\n",
      "Epoch 2/4\n",
      "64/64 [==============================] - 0s - loss: 2.2825 - acc: 0.6250 - val_loss: 2.2796 - val_acc: 0.5781\n",
      "Epoch 3/4\n",
      "64/64 [==============================] - 0s - loss: 2.2789 - acc: 0.6562 - val_loss: 2.2758 - val_acc: 0.5938\n",
      "Epoch 4/4\n",
      "64/64 [==============================] - 0s - loss: 2.2767 - acc: 0.5156 - val_loss: 2.2688 - val_acc: 0.6875\n"
     ]
    },
    {
     "data": {
      "text/plain": [
       "<keras.callbacks.History at 0x7fa740fb9c90>"
      ]
     },
     "execution_count": 30,
     "metadata": {},
     "output_type": "execute_result"
    }
   ],
   "source": [
    "fc.fit_generator(batches, batches.batch_size, nb_epoch=4, \n",
    "                    validation_data=test_batches, nb_val_samples=test_batches.batch_size)"
   ]
  },
  {
   "cell_type": "markdown",
   "metadata": {},
   "source": [
    "## Basic 'VGG-style' CNN"
   ]
  },
  {
   "cell_type": "code",
   "execution_count": 31,
   "metadata": {
    "collapsed": true
   },
   "outputs": [],
   "source": [
    "def get_model():\n",
    "    model = Sequential([\n",
    "        Lambda(norm_input, input_shape=(1,28,28)),\n",
    "        Convolution2D(32,3,3, activation='relu'),\n",
    "        Convolution2D(32,3,3, activation='relu'),\n",
    "        MaxPooling2D(),\n",
    "        Convolution2D(64,3,3, activation='relu'),\n",
    "        Convolution2D(64,3,3, activation='relu'),\n",
    "        MaxPooling2D(),\n",
    "        Flatten(),\n",
    "        Dense(512, activation='relu'),\n",
    "        Dense(10, activation='softmax')\n",
    "        ])\n",
    "    model.compile(Adam(), loss='categorical_crossentropy', metrics=['accuracy'])\n",
    "    return model"
   ]
  },
  {
   "cell_type": "code",
   "execution_count": 32,
   "metadata": {},
   "outputs": [
    {
     "name": "stderr",
     "output_type": "stream",
     "text": [
      "/home/farlion/anaconda2/lib/python2.7/site-packages/keras/layers/core.py:622: UserWarning: `output_shape` argument not specified for layer lambda_3 and cannot be automatically inferred with the Theano backend. Defaulting to output shape `(None, 1, 28, 28)` (same as input shape). If the expected output shape is different, specify it via the `output_shape` argument.\n",
      "  .format(self.name, input_shape))\n"
     ]
    }
   ],
   "source": [
    "model = get_model()"
   ]
  },
  {
   "cell_type": "code",
   "execution_count": 36,
   "metadata": {},
   "outputs": [
    {
     "name": "stdout",
     "output_type": "stream",
     "text": [
      "Epoch 1/1\n",
      "64/64 [==============================] - 0s - loss: 2.3912 - acc: 0.0938 - val_loss: 2.1568 - val_acc: 0.0625\n"
     ]
    },
    {
     "data": {
      "text/plain": [
       "<keras.callbacks.History at 0x7fa73837cfd0>"
      ]
     },
     "execution_count": 36,
     "metadata": {},
     "output_type": "execute_result"
    }
   ],
   "source": [
    "model.fit_generator(batches, batches.batch_size, nb_epoch=1, \n",
    "                    validation_data=test_batches, nb_val_samples=test_batches.batch_size)"
   ]
  },
  {
   "cell_type": "code",
   "execution_count": 37,
   "metadata": {
    "collapsed": true
   },
   "outputs": [],
   "source": [
    "model.optimizer.lr=0.1"
   ]
  },
  {
   "cell_type": "code",
   "execution_count": 38,
   "metadata": {},
   "outputs": [
    {
     "name": "stdout",
     "output_type": "stream",
     "text": [
      "Epoch 1/1\n",
      "64/64 [==============================] - 0s - loss: 2.1503 - acc: 0.0625 - val_loss: 2.0527 - val_acc: 0.4375\n"
     ]
    },
    {
     "data": {
      "text/plain": [
       "<keras.callbacks.History at 0x7fa73837ced0>"
      ]
     },
     "execution_count": 38,
     "metadata": {},
     "output_type": "execute_result"
    }
   ],
   "source": [
    "model.fit_generator(batches, batches.batch_size, nb_epoch=1, \n",
    "                    validation_data=test_batches, nb_val_samples=test_batches.batch_size)"
   ]
  },
  {
   "cell_type": "code",
   "execution_count": 39,
   "metadata": {
    "collapsed": true
   },
   "outputs": [],
   "source": [
    "model.optimizer.lr=0.01"
   ]
  },
  {
   "cell_type": "code",
   "execution_count": 40,
   "metadata": {},
   "outputs": [
    {
     "name": "stdout",
     "output_type": "stream",
     "text": [
      "Epoch 1/8\n",
      "64/64 [==============================] - 0s - loss: 2.0724 - acc: 0.4844 - val_loss: 1.9557 - val_acc: 0.5625\n",
      "Epoch 2/8\n",
      "64/64 [==============================] - 0s - loss: 1.9639 - acc: 0.5625 - val_loss: 1.8232 - val_acc: 0.6719\n",
      "Epoch 3/8\n",
      "64/64 [==============================] - 0s - loss: 1.8576 - acc: 0.5625 - val_loss: 1.6029 - val_acc: 0.6562\n",
      "Epoch 4/8\n",
      "64/64 [==============================] - 0s - loss: 1.7152 - acc: 0.5469 - val_loss: 1.3334 - val_acc: 0.7344\n",
      "Epoch 5/8\n",
      "64/64 [==============================] - 0s - loss: 1.4250 - acc: 0.6562 - val_loss: 1.2745 - val_acc: 0.5938\n",
      "Epoch 6/8\n",
      "64/64 [==============================] - 0s - loss: 1.1268 - acc: 0.7500 - val_loss: 0.8266 - val_acc: 0.7344\n",
      "Epoch 7/8\n",
      "64/64 [==============================] - 0s - loss: 0.9042 - acc: 0.7500 - val_loss: 0.7526 - val_acc: 0.7031\n",
      "Epoch 8/8\n",
      "64/64 [==============================] - 0s - loss: 0.6594 - acc: 0.7969 - val_loss: 0.7550 - val_acc: 0.8125\n"
     ]
    },
    {
     "data": {
      "text/plain": [
       "<keras.callbacks.History at 0x7fa740f26210>"
      ]
     },
     "execution_count": 40,
     "metadata": {},
     "output_type": "execute_result"
    }
   ],
   "source": [
    "model.fit_generator(batches, batches.batch_size, nb_epoch=8, \n",
    "                    validation_data=test_batches, nb_val_samples=test_batches.batch_size)"
   ]
  },
  {
   "cell_type": "markdown",
   "metadata": {},
   "source": [
    "## Data augmentation"
   ]
  },
  {
   "cell_type": "code",
   "execution_count": 41,
   "metadata": {},
   "outputs": [
    {
     "name": "stderr",
     "output_type": "stream",
     "text": [
      "/home/farlion/anaconda2/lib/python2.7/site-packages/keras/layers/core.py:622: UserWarning: `output_shape` argument not specified for layer lambda_4 and cannot be automatically inferred with the Theano backend. Defaulting to output shape `(None, 1, 28, 28)` (same as input shape). If the expected output shape is different, specify it via the `output_shape` argument.\n",
      "  .format(self.name, input_shape))\n"
     ]
    }
   ],
   "source": [
    "model = get_model()"
   ]
  },
  {
   "cell_type": "code",
   "execution_count": 42,
   "metadata": {
    "collapsed": true
   },
   "outputs": [],
   "source": [
    "gen = image.ImageDataGenerator(rotation_range=8, width_shift_range=0.08, shear_range=0.3,\n",
    "                               height_shift_range=0.08, zoom_range=0.08)\n",
    "batches = gen.flow(X_train, y_train, batch_size=64)\n",
    "test_batches = gen.flow(X_test, y_test, batch_size=64)"
   ]
  },
  {
   "cell_type": "code",
   "execution_count": 43,
   "metadata": {},
   "outputs": [
    {
     "name": "stdout",
     "output_type": "stream",
     "text": [
      "Epoch 1/1\n",
      "64/64 [==============================] - 0s - loss: 2.2844 - acc: 0.1719 - val_loss: 2.2706 - val_acc: 0.1250\n"
     ]
    },
    {
     "data": {
      "text/plain": [
       "<keras.callbacks.History at 0x7fa71d634d90>"
      ]
     },
     "execution_count": 43,
     "metadata": {},
     "output_type": "execute_result"
    }
   ],
   "source": [
    "model.fit_generator(batches, batches.batch_size, nb_epoch=1, \n",
    "                    validation_data=test_batches, nb_val_samples=test_batches.batch_size)"
   ]
  },
  {
   "cell_type": "code",
   "execution_count": 44,
   "metadata": {
    "collapsed": true
   },
   "outputs": [],
   "source": [
    "model.optimizer.lr=0.1"
   ]
  },
  {
   "cell_type": "code",
   "execution_count": 45,
   "metadata": {},
   "outputs": [
    {
     "name": "stdout",
     "output_type": "stream",
     "text": [
      "Epoch 1/4\n",
      "64/64 [==============================] - 0s - loss: 2.3890 - acc: 0.0625 - val_loss: 2.2465 - val_acc: 0.1250\n",
      "Epoch 2/4\n",
      "64/64 [==============================] - 0s - loss: 2.2220 - acc: 0.1875 - val_loss: 2.2297 - val_acc: 0.2188\n",
      "Epoch 3/4\n",
      "64/64 [==============================] - 0s - loss: 2.2266 - acc: 0.1875 - val_loss: 2.2206 - val_acc: 0.3438\n",
      "Epoch 4/4\n",
      "64/64 [==============================] - 0s - loss: 2.2224 - acc: 0.2656 - val_loss: 2.0846 - val_acc: 0.2656\n"
     ]
    },
    {
     "data": {
      "text/plain": [
       "<keras.callbacks.History at 0x7fa71cf8ce10>"
      ]
     },
     "execution_count": 45,
     "metadata": {},
     "output_type": "execute_result"
    }
   ],
   "source": [
    "model.fit_generator(batches, batches.batch_size, nb_epoch=4, \n",
    "                    validation_data=test_batches, nb_val_samples=test_batches.batch_size)"
   ]
  },
  {
   "cell_type": "code",
   "execution_count": 46,
   "metadata": {
    "collapsed": true
   },
   "outputs": [],
   "source": [
    "model.optimizer.lr=0.01"
   ]
  },
  {
   "cell_type": "code",
   "execution_count": 47,
   "metadata": {},
   "outputs": [
    {
     "name": "stdout",
     "output_type": "stream",
     "text": [
      "Epoch 1/8\n",
      "64/64 [==============================] - 0s - loss: 2.0885 - acc: 0.3906 - val_loss: 2.1107 - val_acc: 0.2969\n",
      "Epoch 2/8\n",
      "64/64 [==============================] - 0s - loss: 2.0717 - acc: 0.2812 - val_loss: 2.0208 - val_acc: 0.3750\n",
      "Epoch 3/8\n",
      "64/64 [==============================] - 0s - loss: 2.0189 - acc: 0.3438 - val_loss: 1.8689 - val_acc: 0.3750\n",
      "Epoch 4/8\n",
      "64/64 [==============================] - 0s - loss: 1.9620 - acc: 0.3750 - val_loss: 1.8290 - val_acc: 0.4531\n",
      "Epoch 5/8\n",
      "64/64 [==============================] - 0s - loss: 1.7699 - acc: 0.4531 - val_loss: 1.4932 - val_acc: 0.5938\n",
      "Epoch 6/8\n",
      "64/64 [==============================] - 0s - loss: 1.5090 - acc: 0.5781 - val_loss: 1.2357 - val_acc: 0.6875\n",
      "Epoch 7/8\n",
      "64/64 [==============================] - 0s - loss: 1.5193 - acc: 0.4844 - val_loss: 1.0790 - val_acc: 0.7031\n",
      "Epoch 8/8\n",
      "64/64 [==============================] - 0s - loss: 1.1831 - acc: 0.6406 - val_loss: 1.1941 - val_acc: 0.6250\n"
     ]
    },
    {
     "data": {
      "text/plain": [
       "<keras.callbacks.History at 0x7fa71cf8cf90>"
      ]
     },
     "execution_count": 47,
     "metadata": {},
     "output_type": "execute_result"
    }
   ],
   "source": [
    "model.fit_generator(batches, batches.batch_size, nb_epoch=8, \n",
    "                    validation_data=test_batches, nb_val_samples=test_batches.batch_size)"
   ]
  },
  {
   "cell_type": "code",
   "execution_count": 48,
   "metadata": {
    "collapsed": true
   },
   "outputs": [],
   "source": [
    "model.optimizer.lr=0.001"
   ]
  },
  {
   "cell_type": "code",
   "execution_count": 49,
   "metadata": {},
   "outputs": [
    {
     "name": "stdout",
     "output_type": "stream",
     "text": [
      "Epoch 1/14\n",
      "64/64 [==============================] - 0s - loss: 1.2289 - acc: 0.6719 - val_loss: 1.3109 - val_acc: 0.5469\n",
      "Epoch 2/14\n",
      "64/64 [==============================] - 0s - loss: 1.3426 - acc: 0.5156 - val_loss: 1.1596 - val_acc: 0.6250\n",
      "Epoch 3/14\n",
      "64/64 [==============================] - 0s - loss: 1.1644 - acc: 0.5938 - val_loss: 1.2596 - val_acc: 0.6250\n",
      "Epoch 4/14\n",
      "64/64 [==============================] - 0s - loss: 1.1526 - acc: 0.6094 - val_loss: 0.9436 - val_acc: 0.7031\n",
      "Epoch 5/14\n",
      "64/64 [==============================] - 0s - loss: 0.8659 - acc: 0.6406 - val_loss: 1.3352 - val_acc: 0.5000\n",
      "Epoch 6/14\n",
      "64/64 [==============================] - 0s - loss: 1.2300 - acc: 0.6094 - val_loss: 1.0783 - val_acc: 0.6562\n",
      "Epoch 7/14\n",
      "64/64 [==============================] - 0s - loss: 1.0158 - acc: 0.7188 - val_loss: 1.0174 - val_acc: 0.6875\n",
      "Epoch 8/14\n",
      "64/64 [==============================] - 0s - loss: 0.7928 - acc: 0.7188 - val_loss: 0.6207 - val_acc: 0.7969\n",
      "Epoch 9/14\n",
      "64/64 [==============================] - 0s - loss: 0.7071 - acc: 0.7656 - val_loss: 1.0096 - val_acc: 0.6094\n",
      "Epoch 10/14\n",
      "64/64 [==============================] - 0s - loss: 0.7458 - acc: 0.7344 - val_loss: 0.7470 - val_acc: 0.7500\n",
      "Epoch 11/14\n",
      "64/64 [==============================] - 0s - loss: 0.8746 - acc: 0.7344 - val_loss: 0.8493 - val_acc: 0.6562\n",
      "Epoch 12/14\n",
      "64/64 [==============================] - 0s - loss: 0.7571 - acc: 0.7656 - val_loss: 0.9854 - val_acc: 0.7812\n",
      "Epoch 13/14\n",
      "64/64 [==============================] - 0s - loss: 0.9256 - acc: 0.7188 - val_loss: 0.6963 - val_acc: 0.8125\n",
      "Epoch 14/14\n",
      "64/64 [==============================] - 0s - loss: 0.7284 - acc: 0.7344 - val_loss: 0.6729 - val_acc: 0.8281\n"
     ]
    },
    {
     "data": {
      "text/plain": [
       "<keras.callbacks.History at 0x7fa71cf8cf50>"
      ]
     },
     "execution_count": 49,
     "metadata": {},
     "output_type": "execute_result"
    }
   ],
   "source": [
    "model.fit_generator(batches, batches.batch_size, nb_epoch=14, \n",
    "                    validation_data=test_batches, nb_val_samples=test_batches.batch_size)"
   ]
  },
  {
   "cell_type": "code",
   "execution_count": 50,
   "metadata": {
    "collapsed": true
   },
   "outputs": [],
   "source": [
    "model.optimizer.lr=0.0001"
   ]
  },
  {
   "cell_type": "code",
   "execution_count": 51,
   "metadata": {},
   "outputs": [
    {
     "name": "stdout",
     "output_type": "stream",
     "text": [
      "Epoch 1/10\n",
      "64/64 [==============================] - 0s - loss: 0.5952 - acc: 0.8281 - val_loss: 0.7342 - val_acc: 0.7656\n",
      "Epoch 2/10\n",
      "64/64 [==============================] - 0s - loss: 0.6981 - acc: 0.8438 - val_loss: 0.8610 - val_acc: 0.7344\n",
      "Epoch 3/10\n",
      "64/64 [==============================] - 0s - loss: 0.6482 - acc: 0.7344 - val_loss: 0.4779 - val_acc: 0.8594\n",
      "Epoch 4/10\n",
      "64/64 [==============================] - 0s - loss: 0.7330 - acc: 0.7812 - val_loss: 0.5778 - val_acc: 0.7812\n",
      "Epoch 5/10\n",
      "64/64 [==============================] - 0s - loss: 1.1774 - acc: 0.6562 - val_loss: 0.5890 - val_acc: 0.7969\n",
      "Epoch 6/10\n",
      "64/64 [==============================] - 0s - loss: 0.9252 - acc: 0.7812 - val_loss: 0.5086 - val_acc: 0.8438\n",
      "Epoch 7/10\n",
      "64/64 [==============================] - 0s - loss: 0.5169 - acc: 0.7812 - val_loss: 0.8148 - val_acc: 0.7812\n",
      "Epoch 8/10\n",
      "64/64 [==============================] - 0s - loss: 0.8732 - acc: 0.7969 - val_loss: 0.4501 - val_acc: 0.8906\n",
      "Epoch 9/10\n",
      "64/64 [==============================] - 0s - loss: 0.5992 - acc: 0.8125 - val_loss: 0.7356 - val_acc: 0.7656\n",
      "Epoch 10/10\n",
      "64/64 [==============================] - 0s - loss: 0.6453 - acc: 0.7812 - val_loss: 0.6774 - val_acc: 0.7500\n"
     ]
    },
    {
     "data": {
      "text/plain": [
       "<keras.callbacks.History at 0x7fa71cf8cfd0>"
      ]
     },
     "execution_count": 51,
     "metadata": {},
     "output_type": "execute_result"
    }
   ],
   "source": [
    "model.fit_generator(batches, batches.batch_size, nb_epoch=10, \n",
    "                    validation_data=test_batches, nb_val_samples=test_batches.batch_size)"
   ]
  },
  {
   "cell_type": "markdown",
   "metadata": {},
   "source": [
    "## Batchnorm + data augmentation"
   ]
  },
  {
   "cell_type": "code",
   "execution_count": 52,
   "metadata": {
    "collapsed": true
   },
   "outputs": [],
   "source": [
    "def get_model_bn():\n",
    "    model = Sequential([\n",
    "        Lambda(norm_input, input_shape=(1,28,28)),\n",
    "        Convolution2D(32,3,3, activation='relu'),\n",
    "        BatchNormalization(axis=1),\n",
    "        Convolution2D(32,3,3, activation='relu'),\n",
    "        MaxPooling2D(),\n",
    "        BatchNormalization(axis=1),\n",
    "        Convolution2D(64,3,3, activation='relu'),\n",
    "        BatchNormalization(axis=1),\n",
    "        Convolution2D(64,3,3, activation='relu'),\n",
    "        MaxPooling2D(),\n",
    "        Flatten(),\n",
    "        BatchNormalization(),\n",
    "        Dense(512, activation='relu'),\n",
    "        BatchNormalization(),\n",
    "        Dense(10, activation='softmax')\n",
    "        ])\n",
    "    model.compile(Adam(), loss='categorical_crossentropy', metrics=['accuracy'])\n",
    "    return model"
   ]
  },
  {
   "cell_type": "code",
   "execution_count": 53,
   "metadata": {},
   "outputs": [
    {
     "name": "stderr",
     "output_type": "stream",
     "text": [
      "/home/farlion/anaconda2/lib/python2.7/site-packages/keras/layers/core.py:622: UserWarning: `output_shape` argument not specified for layer lambda_5 and cannot be automatically inferred with the Theano backend. Defaulting to output shape `(None, 1, 28, 28)` (same as input shape). If the expected output shape is different, specify it via the `output_shape` argument.\n",
      "  .format(self.name, input_shape))\n"
     ]
    }
   ],
   "source": [
    "model = get_model_bn()"
   ]
  },
  {
   "cell_type": "code",
   "execution_count": 54,
   "metadata": {
    "scrolled": true
   },
   "outputs": [
    {
     "name": "stdout",
     "output_type": "stream",
     "text": [
      "Epoch 1/1\n",
      "64/64 [==============================] - 0s - loss: 3.0337 - acc: 0.1562 - val_loss: 2.2785 - val_acc: 0.1719\n"
     ]
    },
    {
     "data": {
      "text/plain": [
       "<keras.callbacks.History at 0x7fa70f866a10>"
      ]
     },
     "execution_count": 54,
     "metadata": {},
     "output_type": "execute_result"
    }
   ],
   "source": [
    "model.fit_generator(batches, batches.batch_size, nb_epoch=1, \n",
    "                    validation_data=test_batches, nb_val_samples=test_batches.batch_size)"
   ]
  },
  {
   "cell_type": "code",
   "execution_count": 55,
   "metadata": {
    "collapsed": true
   },
   "outputs": [],
   "source": [
    "model.optimizer.lr=0.1"
   ]
  },
  {
   "cell_type": "code",
   "execution_count": 56,
   "metadata": {},
   "outputs": [
    {
     "name": "stdout",
     "output_type": "stream",
     "text": [
      "Epoch 1/4\n",
      "64/64 [==============================] - 0s - loss: 2.1923 - acc: 0.2500 - val_loss: 2.2678 - val_acc: 0.2031\n",
      "Epoch 2/4\n",
      "64/64 [==============================] - 0s - loss: 1.4511 - acc: 0.5156 - val_loss: 2.2615 - val_acc: 0.1719\n",
      "Epoch 3/4\n",
      "64/64 [==============================] - 0s - loss: 1.3782 - acc: 0.5625 - val_loss: 2.2125 - val_acc: 0.4219\n",
      "Epoch 4/4\n",
      "64/64 [==============================] - 0s - loss: 1.2865 - acc: 0.5625 - val_loss: 2.1974 - val_acc: 0.4844\n"
     ]
    },
    {
     "data": {
      "text/plain": [
       "<keras.callbacks.History at 0x7fa70ebbd3d0>"
      ]
     },
     "execution_count": 56,
     "metadata": {},
     "output_type": "execute_result"
    }
   ],
   "source": [
    "model.fit_generator(batches, batches.batch_size, nb_epoch=4, \n",
    "                    validation_data=test_batches, nb_val_samples=test_batches.batch_size)"
   ]
  },
  {
   "cell_type": "code",
   "execution_count": 57,
   "metadata": {
    "collapsed": true
   },
   "outputs": [],
   "source": [
    "model.optimizer.lr=0.01"
   ]
  },
  {
   "cell_type": "code",
   "execution_count": 58,
   "metadata": {},
   "outputs": [
    {
     "name": "stdout",
     "output_type": "stream",
     "text": [
      "Epoch 1/12\n",
      "64/64 [==============================] - 0s - loss: 1.5898 - acc: 0.5938 - val_loss: 2.1826 - val_acc: 0.5469\n",
      "Epoch 2/12\n",
      "64/64 [==============================] - 0s - loss: 1.0248 - acc: 0.7188 - val_loss: 2.1596 - val_acc: 0.5469\n",
      "Epoch 3/12\n",
      "64/64 [==============================] - 0s - loss: 0.8667 - acc: 0.7188 - val_loss: 2.1394 - val_acc: 0.5938\n",
      "Epoch 4/12\n",
      "64/64 [==============================] - 0s - loss: 1.1608 - acc: 0.6719 - val_loss: 2.1286 - val_acc: 0.5469\n",
      "Epoch 5/12\n",
      "64/64 [==============================] - 0s - loss: 1.0471 - acc: 0.5938 - val_loss: 2.1138 - val_acc: 0.5000\n",
      "Epoch 6/12\n",
      "64/64 [==============================] - 0s - loss: 0.9476 - acc: 0.7031 - val_loss: 2.1135 - val_acc: 0.4375\n",
      "Epoch 7/12\n",
      "64/64 [==============================] - 0s - loss: 0.6269 - acc: 0.8281 - val_loss: 2.1604 - val_acc: 0.3281\n",
      "Epoch 8/12\n",
      "64/64 [==============================] - 0s - loss: 0.9026 - acc: 0.7500 - val_loss: 2.1022 - val_acc: 0.3438\n",
      "Epoch 9/12\n",
      "64/64 [==============================] - 0s - loss: 1.0108 - acc: 0.6875 - val_loss: 2.0008 - val_acc: 0.4531\n",
      "Epoch 10/12\n",
      "64/64 [==============================] - 0s - loss: 0.9884 - acc: 0.6562 - val_loss: 2.0424 - val_acc: 0.2969\n",
      "Epoch 11/12\n",
      "64/64 [==============================] - 0s - loss: 0.6282 - acc: 0.8125 - val_loss: 2.0757 - val_acc: 0.2344\n",
      "Epoch 12/12\n",
      "64/64 [==============================] - 0s - loss: 0.9719 - acc: 0.7188 - val_loss: 2.1616 - val_acc: 0.1094\n"
     ]
    },
    {
     "data": {
      "text/plain": [
       "<keras.callbacks.History at 0x7fa70ebbd110>"
      ]
     },
     "execution_count": 58,
     "metadata": {},
     "output_type": "execute_result"
    }
   ],
   "source": [
    "model.fit_generator(batches, batches.batch_size, nb_epoch=12, \n",
    "                    validation_data=test_batches, nb_val_samples=test_batches.batch_size)"
   ]
  },
  {
   "cell_type": "code",
   "execution_count": 59,
   "metadata": {
    "collapsed": true
   },
   "outputs": [],
   "source": [
    "model.optimizer.lr=0.001"
   ]
  },
  {
   "cell_type": "code",
   "execution_count": 60,
   "metadata": {},
   "outputs": [
    {
     "name": "stdout",
     "output_type": "stream",
     "text": [
      "Epoch 1/12\n",
      "64/64 [==============================] - 0s - loss: 0.7213 - acc: 0.7500 - val_loss: 2.1187 - val_acc: 0.1406\n",
      "Epoch 2/12\n",
      "64/64 [==============================] - 0s - loss: 0.7099 - acc: 0.7812 - val_loss: 2.1266 - val_acc: 0.1406\n",
      "Epoch 3/12\n",
      "64/64 [==============================] - 0s - loss: 0.6063 - acc: 0.8438 - val_loss: 2.2760 - val_acc: 0.0469\n",
      "Epoch 4/12\n",
      "64/64 [==============================] - 0s - loss: 0.6367 - acc: 0.7656 - val_loss: 2.1614 - val_acc: 0.1406\n",
      "Epoch 5/12\n",
      "64/64 [==============================] - 0s - loss: 0.6733 - acc: 0.7812 - val_loss: 2.0990 - val_acc: 0.1250\n",
      "Epoch 6/12\n",
      "64/64 [==============================] - 0s - loss: 0.6695 - acc: 0.8438 - val_loss: 2.1295 - val_acc: 0.1719\n",
      "Epoch 7/12\n",
      "64/64 [==============================] - 0s - loss: 0.6608 - acc: 0.7500 - val_loss: 2.2319 - val_acc: 0.1250\n",
      "Epoch 8/12\n",
      "64/64 [==============================] - 0s - loss: 0.4448 - acc: 0.8125 - val_loss: 2.3699 - val_acc: 0.1250\n",
      "Epoch 9/12\n",
      "64/64 [==============================] - 0s - loss: 0.5833 - acc: 0.8125 - val_loss: 2.4408 - val_acc: 0.0625\n",
      "Epoch 10/12\n",
      "64/64 [==============================] - 0s - loss: 0.6522 - acc: 0.8125 - val_loss: 2.2952 - val_acc: 0.1406\n",
      "Epoch 11/12\n",
      "64/64 [==============================] - 0s - loss: 0.5826 - acc: 0.8438 - val_loss: 2.5501 - val_acc: 0.0938\n",
      "Epoch 12/12\n",
      "64/64 [==============================] - 0s - loss: 0.6100 - acc: 0.8125 - val_loss: 2.6059 - val_acc: 0.0938\n"
     ]
    },
    {
     "data": {
      "text/plain": [
       "<keras.callbacks.History at 0x7fa70ebbd390>"
      ]
     },
     "execution_count": 60,
     "metadata": {},
     "output_type": "execute_result"
    }
   ],
   "source": [
    "model.fit_generator(batches, batches.batch_size, nb_epoch=12, \n",
    "                    validation_data=test_batches, nb_val_samples=test_batches.batch_size)"
   ]
  },
  {
   "cell_type": "markdown",
   "metadata": {},
   "source": [
    "## Batchnorm + dropout + data augmentation"
   ]
  },
  {
   "cell_type": "code",
   "execution_count": 61,
   "metadata": {
    "collapsed": true
   },
   "outputs": [],
   "source": [
    "def get_model_bn_do():\n",
    "    model = Sequential([\n",
    "        Lambda(norm_input, input_shape=(1,28,28)),\n",
    "        Convolution2D(32,3,3, activation='relu'),\n",
    "        BatchNormalization(axis=1),\n",
    "        Convolution2D(32,3,3, activation='relu'),\n",
    "        MaxPooling2D(),\n",
    "        BatchNormalization(axis=1),\n",
    "        Convolution2D(64,3,3, activation='relu'),\n",
    "        BatchNormalization(axis=1),\n",
    "        Convolution2D(64,3,3, activation='relu'),\n",
    "        MaxPooling2D(),\n",
    "        Flatten(),\n",
    "        BatchNormalization(),\n",
    "        Dense(512, activation='relu'),\n",
    "        BatchNormalization(),\n",
    "        Dropout(0.5),\n",
    "        Dense(10, activation='softmax')\n",
    "        ])\n",
    "    model.compile(Adam(), loss='categorical_crossentropy', metrics=['accuracy'])\n",
    "    return model"
   ]
  },
  {
   "cell_type": "code",
   "execution_count": 62,
   "metadata": {},
   "outputs": [
    {
     "name": "stderr",
     "output_type": "stream",
     "text": [
      "/home/farlion/anaconda2/lib/python2.7/site-packages/keras/layers/core.py:622: UserWarning: `output_shape` argument not specified for layer lambda_6 and cannot be automatically inferred with the Theano backend. Defaulting to output shape `(None, 1, 28, 28)` (same as input shape). If the expected output shape is different, specify it via the `output_shape` argument.\n",
      "  .format(self.name, input_shape))\n"
     ]
    }
   ],
   "source": [
    "model = get_model_bn_do()"
   ]
  },
  {
   "cell_type": "code",
   "execution_count": 63,
   "metadata": {
    "scrolled": true
   },
   "outputs": [
    {
     "name": "stdout",
     "output_type": "stream",
     "text": [
      "Epoch 1/1\n",
      "64/64 [==============================] - 0s - loss: 3.8087 - acc: 0.1094 - val_loss: 2.3007 - val_acc: 0.0938\n"
     ]
    },
    {
     "data": {
      "text/plain": [
       "<keras.callbacks.History at 0x7fa70a3e2b50>"
      ]
     },
     "execution_count": 63,
     "metadata": {},
     "output_type": "execute_result"
    }
   ],
   "source": [
    "model.fit_generator(batches, batches.batch_size, nb_epoch=1, \n",
    "                    validation_data=test_batches, nb_val_samples=test_batches.batch_size)"
   ]
  },
  {
   "cell_type": "code",
   "execution_count": 64,
   "metadata": {
    "collapsed": true
   },
   "outputs": [],
   "source": [
    "model.optimizer.lr=0.1"
   ]
  },
  {
   "cell_type": "code",
   "execution_count": 65,
   "metadata": {
    "scrolled": false
   },
   "outputs": [
    {
     "name": "stdout",
     "output_type": "stream",
     "text": [
      "Epoch 1/4\n",
      "64/64 [==============================] - 0s - loss: 3.2554 - acc: 0.1406 - val_loss: 2.2979 - val_acc: 0.1406\n",
      "Epoch 2/4\n",
      "64/64 [==============================] - 0s - loss: 2.3838 - acc: 0.3438 - val_loss: 2.2873 - val_acc: 0.1094\n",
      "Epoch 3/4\n",
      "64/64 [==============================] - 0s - loss: 2.7289 - acc: 0.2656 - val_loss: 2.2710 - val_acc: 0.1562\n",
      "Epoch 4/4\n",
      "64/64 [==============================] - 0s - loss: 2.1468 - acc: 0.4219 - val_loss: 2.2336 - val_acc: 0.2969\n"
     ]
    },
    {
     "data": {
      "text/plain": [
       "<keras.callbacks.History at 0x7fa709b5e510>"
      ]
     },
     "execution_count": 65,
     "metadata": {},
     "output_type": "execute_result"
    }
   ],
   "source": [
    "model.fit_generator(batches, batches.batch_size, nb_epoch=4, \n",
    "                    validation_data=test_batches, nb_val_samples=test_batches.batch_size)"
   ]
  },
  {
   "cell_type": "code",
   "execution_count": 66,
   "metadata": {
    "collapsed": true
   },
   "outputs": [],
   "source": [
    "model.optimizer.lr=0.01"
   ]
  },
  {
   "cell_type": "code",
   "execution_count": 67,
   "metadata": {
    "scrolled": true
   },
   "outputs": [
    {
     "name": "stdout",
     "output_type": "stream",
     "text": [
      "Epoch 1/12\n",
      "64/64 [==============================] - 0s - loss: 2.1458 - acc: 0.4219 - val_loss: 2.2252 - val_acc: 0.3125\n",
      "Epoch 2/12\n",
      "64/64 [==============================] - 0s - loss: 1.3473 - acc: 0.5781 - val_loss: 2.1898 - val_acc: 0.4844\n",
      "Epoch 3/12\n",
      "64/64 [==============================] - 0s - loss: 1.6321 - acc: 0.5156 - val_loss: 2.1968 - val_acc: 0.4531\n",
      "Epoch 4/12\n",
      "64/64 [==============================] - 0s - loss: 1.5997 - acc: 0.5312 - val_loss: 2.1828 - val_acc: 0.4531\n",
      "Epoch 5/12\n",
      "64/64 [==============================] - 0s - loss: 1.4159 - acc: 0.5781 - val_loss: 2.1551 - val_acc: 0.4219\n",
      "Epoch 6/12\n",
      "64/64 [==============================] - 0s - loss: 1.0849 - acc: 0.6406 - val_loss: 2.1225 - val_acc: 0.5625\n",
      "Epoch 7/12\n",
      "64/64 [==============================] - 0s - loss: 0.8848 - acc: 0.7188 - val_loss: 2.1349 - val_acc: 0.5312\n",
      "Epoch 8/12\n",
      "64/64 [==============================] - 0s - loss: 1.1334 - acc: 0.6562 - val_loss: 2.0976 - val_acc: 0.5156\n",
      "Epoch 9/12\n",
      "64/64 [==============================] - 0s - loss: 1.0790 - acc: 0.6875 - val_loss: 2.0657 - val_acc: 0.6094\n",
      "Epoch 10/12\n",
      "64/64 [==============================] - 0s - loss: 1.1973 - acc: 0.6094 - val_loss: 2.0635 - val_acc: 0.5312\n",
      "Epoch 11/12\n",
      "64/64 [==============================] - 0s - loss: 1.2610 - acc: 0.6719 - val_loss: 2.0785 - val_acc: 0.4219\n",
      "Epoch 12/12\n",
      "64/64 [==============================] - 0s - loss: 0.9723 - acc: 0.7344 - val_loss: 2.0150 - val_acc: 0.5156\n"
     ]
    },
    {
     "data": {
      "text/plain": [
       "<keras.callbacks.History at 0x7fa709b5e4d0>"
      ]
     },
     "execution_count": 67,
     "metadata": {},
     "output_type": "execute_result"
    }
   ],
   "source": [
    "model.fit_generator(batches, batches.batch_size, nb_epoch=12, \n",
    "                    validation_data=test_batches, nb_val_samples=test_batches.batch_size)"
   ]
  },
  {
   "cell_type": "code",
   "execution_count": 68,
   "metadata": {
    "collapsed": true
   },
   "outputs": [],
   "source": [
    "model.optimizer.lr=0.001"
   ]
  },
  {
   "cell_type": "code",
   "execution_count": 69,
   "metadata": {
    "scrolled": true
   },
   "outputs": [
    {
     "name": "stdout",
     "output_type": "stream",
     "text": [
      "Epoch 1/1\n",
      "64/64 [==============================] - 0s - loss: 0.9446 - acc: 0.6719 - val_loss: 2.0939 - val_acc: 0.3281\n"
     ]
    },
    {
     "data": {
      "text/plain": [
       "<keras.callbacks.History at 0x7fa709b5e5d0>"
      ]
     },
     "execution_count": 69,
     "metadata": {},
     "output_type": "execute_result"
    }
   ],
   "source": [
    "model.fit_generator(batches, batches.batch_size, nb_epoch=1, \n",
    "                    validation_data=test_batches, nb_val_samples=test_batches.batch_size)"
   ]
  },
  {
   "cell_type": "markdown",
   "metadata": {},
   "source": [
    "## Ensembling"
   ]
  },
  {
   "cell_type": "code",
   "execution_count": 70,
   "metadata": {
    "collapsed": true
   },
   "outputs": [],
   "source": [
    "def fit_model():\n",
    "    model = get_model_bn_do()\n",
    "    model.fit_generator(batches, batches.batch_size, nb_epoch=1, verbose=0,\n",
    "                        validation_data=test_batches, nb_val_samples=test_batches.batch_size)\n",
    "    model.optimizer.lr=0.1\n",
    "    model.fit_generator(batches, batches.batch_size, nb_epoch=4, verbose=0,\n",
    "                        validation_data=test_batches, nb_val_samples=test_batches.batch_size)\n",
    "    model.optimizer.lr=0.01\n",
    "    model.fit_generator(batches, batches.batch_size, nb_epoch=12, verbose=0,\n",
    "                        validation_data=test_batches, nb_val_samples=test_batches.batch_size)\n",
    "    model.optimizer.lr=0.001\n",
    "    model.fit_generator(batches, batches.batch_size, nb_epoch=18, verbose=0,\n",
    "                        validation_data=test_batches, nb_val_samples=test_batches.batch_size)\n",
    "    return model"
   ]
  },
  {
   "cell_type": "code",
   "execution_count": 71,
   "metadata": {},
   "outputs": [
    {
     "name": "stderr",
     "output_type": "stream",
     "text": [
      "/home/farlion/anaconda2/lib/python2.7/site-packages/keras/layers/core.py:622: UserWarning: `output_shape` argument not specified for layer lambda_7 and cannot be automatically inferred with the Theano backend. Defaulting to output shape `(None, 1, 28, 28)` (same as input shape). If the expected output shape is different, specify it via the `output_shape` argument.\n",
      "  .format(self.name, input_shape))\n",
      "/home/farlion/anaconda2/lib/python2.7/site-packages/keras/layers/core.py:622: UserWarning: `output_shape` argument not specified for layer lambda_8 and cannot be automatically inferred with the Theano backend. Defaulting to output shape `(None, 1, 28, 28)` (same as input shape). If the expected output shape is different, specify it via the `output_shape` argument.\n",
      "  .format(self.name, input_shape))\n",
      "/home/farlion/anaconda2/lib/python2.7/site-packages/keras/layers/core.py:622: UserWarning: `output_shape` argument not specified for layer lambda_9 and cannot be automatically inferred with the Theano backend. Defaulting to output shape `(None, 1, 28, 28)` (same as input shape). If the expected output shape is different, specify it via the `output_shape` argument.\n",
      "  .format(self.name, input_shape))\n",
      "/home/farlion/anaconda2/lib/python2.7/site-packages/keras/layers/core.py:622: UserWarning: `output_shape` argument not specified for layer lambda_10 and cannot be automatically inferred with the Theano backend. Defaulting to output shape `(None, 1, 28, 28)` (same as input shape). If the expected output shape is different, specify it via the `output_shape` argument.\n",
      "  .format(self.name, input_shape))\n",
      "/home/farlion/anaconda2/lib/python2.7/site-packages/keras/layers/core.py:622: UserWarning: `output_shape` argument not specified for layer lambda_11 and cannot be automatically inferred with the Theano backend. Defaulting to output shape `(None, 1, 28, 28)` (same as input shape). If the expected output shape is different, specify it via the `output_shape` argument.\n",
      "  .format(self.name, input_shape))\n",
      "/home/farlion/anaconda2/lib/python2.7/site-packages/keras/layers/core.py:622: UserWarning: `output_shape` argument not specified for layer lambda_12 and cannot be automatically inferred with the Theano backend. Defaulting to output shape `(None, 1, 28, 28)` (same as input shape). If the expected output shape is different, specify it via the `output_shape` argument.\n",
      "  .format(self.name, input_shape))\n"
     ]
    }
   ],
   "source": [
    "models = [fit_model() for i in range(6)]"
   ]
  },
  {
   "cell_type": "code",
   "execution_count": 72,
   "metadata": {
    "collapsed": true
   },
   "outputs": [],
   "source": [
    "path = \"data/mnist/\"\n",
    "model_path = path + 'models/'"
   ]
  },
  {
   "cell_type": "code",
   "execution_count": 74,
   "metadata": {},
   "outputs": [],
   "source": [
    "for i,m in enumerate(models):\n",
    "    m.save_weights(model_path+'cnn-mnist23-'+str(i)+'.pkl')"
   ]
  },
  {
   "cell_type": "code",
   "execution_count": 75,
   "metadata": {},
   "outputs": [
    {
     "name": "stdout",
     "output_type": "stream",
     "text": [
      " 9984/10000 [============================>.] - ETA: 0s"
     ]
    }
   ],
   "source": [
    "evals = np.array([m.evaluate(X_test, y_test, batch_size=256) for m in models])"
   ]
  },
  {
   "cell_type": "code",
   "execution_count": 76,
   "metadata": {},
   "outputs": [
    {
     "data": {
      "text/plain": [
       "array([ 2.2022,  0.1613])"
      ]
     },
     "execution_count": 76,
     "metadata": {},
     "output_type": "execute_result"
    }
   ],
   "source": [
    "evals.mean(axis=0)"
   ]
  },
  {
   "cell_type": "code",
   "execution_count": 77,
   "metadata": {
    "collapsed": true
   },
   "outputs": [],
   "source": [
    "all_preds = np.stack([m.predict(X_test, batch_size=256) for m in models])"
   ]
  },
  {
   "cell_type": "code",
   "execution_count": 78,
   "metadata": {},
   "outputs": [
    {
     "data": {
      "text/plain": [
       "(6, 10000, 10)"
      ]
     },
     "execution_count": 78,
     "metadata": {},
     "output_type": "execute_result"
    }
   ],
   "source": [
    "all_preds.shape"
   ]
  },
  {
   "cell_type": "code",
   "execution_count": 79,
   "metadata": {
    "collapsed": true
   },
   "outputs": [],
   "source": [
    "avg_preds = all_preds.mean(axis=0)"
   ]
  },
  {
   "cell_type": "code",
   "execution_count": 80,
   "metadata": {
    "scrolled": true
   },
   "outputs": [
    {
     "data": {
      "text/plain": [
       "array(0.11580000072717667, dtype=float32)"
      ]
     },
     "execution_count": 80,
     "metadata": {},
     "output_type": "execute_result"
    }
   ],
   "source": [
    "keras.metrics.categorical_accuracy(y_test, avg_preds).eval()"
   ]
  },
  {
   "cell_type": "code",
   "execution_count": null,
   "metadata": {
    "collapsed": true
   },
   "outputs": [],
   "source": []
  }
 ],
 "metadata": {
  "kernelspec": {
   "display_name": "Python 2",
   "language": "python",
   "name": "python2"
  },
  "nav_menu": {},
  "toc": {
   "navigate_menu": true,
   "number_sections": true,
   "sideBar": true,
   "threshold": 6,
   "toc_cell": false,
   "toc_section_display": "block",
   "toc_window_display": false
  },
  "widgets": {
   "state": {},
   "version": "1.1.2"
  }
 },
 "nbformat": 4,
 "nbformat_minor": 1
}
