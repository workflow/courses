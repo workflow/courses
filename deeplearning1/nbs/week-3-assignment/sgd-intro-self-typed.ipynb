{
 "cells": [
  {
   "cell_type": "code",
   "execution_count": 1,
   "metadata": {},
   "outputs": [
    {
     "data": {
      "text/plain": [
       "u'%.4f'"
      ]
     },
     "execution_count": 1,
     "metadata": {},
     "output_type": "execute_result"
    }
   ],
   "source": [
    "%matplotlib inline\n",
    "import math, sys, os\n",
    "import numpy as np\n",
    "from numpy.random import random\n",
    "from matplotlib import pyplot as plt, rcParams, animation, rc\n",
    "from __future__ import print_function, division\n",
    "from ipywidgets import interact, interactive, fixed\n",
    "from ipywidgets.widgets import *\n",
    "rc('animation', html='html5')\n",
    "rcParams['figure.figsize'] = 3, 3\n",
    "%precision 4\n",
    "np.set_printoptions(precision = 4, linewidth = 100)"
   ]
  },
  {
   "cell_type": "code",
   "execution_count": 2,
   "metadata": {
    "collapsed": true
   },
   "outputs": [],
   "source": [
    "def line(a, b, x):\n",
    "    return a * x + b"
   ]
  },
  {
   "cell_type": "code",
   "execution_count": 3,
   "metadata": {
    "collapsed": true
   },
   "outputs": [],
   "source": [
    "a = 3.\n",
    "b = 8."
   ]
  },
  {
   "cell_type": "code",
   "execution_count": 4,
   "metadata": {
    "collapsed": true
   },
   "outputs": [],
   "source": [
    "n = 30\n",
    "x = random(n)\n",
    "y = line(a, b, x)"
   ]
  },
  {
   "cell_type": "code",
   "execution_count": 5,
   "metadata": {},
   "outputs": [
    {
     "data": {
      "text/plain": [
       "array([ 0.556 ,  0.5147,  0.7325,  0.5962,  0.7084,  0.5725,  0.7063,  0.8044,  0.3835,  0.7583,\n",
       "        0.9699,  0.9542,  0.1943,  0.6902,  0.1977,  0.3795,  0.1453,  0.1019,  0.7226,  0.5138,\n",
       "        0.6545,  0.5496,  0.9649,  0.2723,  0.8774,  0.4553,  0.0167,  0.7351,  0.7271,  0.8314])"
      ]
     },
     "execution_count": 5,
     "metadata": {},
     "output_type": "execute_result"
    }
   ],
   "source": [
    "x"
   ]
  },
  {
   "cell_type": "code",
   "execution_count": 6,
   "metadata": {},
   "outputs": [
    {
     "data": {
      "text/plain": [
       "array([  9.668 ,   9.544 ,  10.1975,   9.7887,  10.1252,   9.7175,  10.1188,  10.4132,   9.1506,\n",
       "        10.275 ,  10.9097,  10.8627,   8.5829,  10.0706,   8.5931,   9.1386,   8.4358,   8.3056,\n",
       "        10.1677,   9.5414,   9.9634,   9.6488,  10.8946,   8.817 ,  10.6323,   9.3659,   8.0501,\n",
       "        10.2054,  10.1814,  10.4943])"
      ]
     },
     "execution_count": 6,
     "metadata": {},
     "output_type": "execute_result"
    }
   ],
   "source": [
    "y"
   ]
  },
  {
   "cell_type": "code",
   "execution_count": 7,
   "metadata": {},
   "outputs": [
    {
     "data": {
      "text/plain": [
       "<matplotlib.collections.PathCollection at 0x7ff3531b4a90>"
      ]
     },
     "execution_count": 7,
     "metadata": {},
     "output_type": "execute_result"
    },
    {
     "data": {
      "image/png": "[encoded data removed]",
      "text/plain": [
       "<matplotlib.figure.Figure at 0x7ff3784c09d0>"
      ]
     },
     "metadata": {},
     "output_type": "display_data"
    }
   ],
   "source": [
    "plt.scatter(x, y)"
   ]
  },
  {
   "cell_type": "code",
   "execution_count": 8,
   "metadata": {
    "collapsed": true
   },
   "outputs": [],
   "source": [
    "def sse(y, predicted_y):\n",
    "    return ((y - predicted_y) ** 2).sum()\n",
    "def loss(y, a, b, x):\n",
    "    return sse(y, line(a, b, x))\n",
    "def avg_loss(y, a, b, x):\n",
    "    return np.sqrt(loss(y, a, b, x) / n)"
   ]
  },
  {
   "cell_type": "code",
   "execution_count": 9,
   "metadata": {},
   "outputs": [
    {
     "data": {
      "text/plain": [
       "9.3632"
      ]
     },
     "execution_count": 9,
     "metadata": {},
     "output_type": "execute_result"
    }
   ],
   "source": [
    "a_guess = -1.\n",
    "b_guess = 1.\n",
    "avg_loss(y, a_guess, b_guess, x)"
   ]
  },
  {
   "cell_type": "code",
   "execution_count": 10,
   "metadata": {
    "collapsed": true
   },
   "outputs": [],
   "source": [
    "lr = 0.01"
   ]
  },
  {
   "cell_type": "code",
   "execution_count": 11,
   "metadata": {
    "collapsed": true
   },
   "outputs": [],
   "source": [
    "def take_an_sgd_step():\n",
    "    global a_guess, b_guess\n",
    "    predicted_y = line(a_guess, b_guess, x)\n",
    "    dydb = 2 * (predicted_y - y)\n",
    "    dyda = x * dydb\n",
    "    a_guess -= lr * dyda.mean()\n",
    "    b_guess -= lr * dydb.mean()"
   ]
  },
  {
   "cell_type": "code",
   "execution_count": 12,
   "metadata": {},
   "outputs": [
    {
     "data": {
      "text/html": [
       "<video width=\"500\" height=\"400\" controls autoplay loop>\n",
       "  <source type=\"video/mp4\" src=\"data:video/mp4;base64,AAAAHGZ0eXBNNFYgAAACAGlzb21pc28yYXZjMQAAAAhmcmVlAABPtm1kYXQAAAKvBgX//6vcRem9\n",
       "5tlIt5Ys2CDZI+7veDI2NCAtIGNvcmUgMTQ4IHIyNzk1IGFhYTlhYTggLSBILjI2NC9NUEVHLTQg\n",
       "QVZDIGNvZGVjIC0gQ29weWxlZnQgMjAwMy0yMDE3IC0gaHR0cDovL3d3dy52aWRlb2xhbi5vcmcv\n",
       "eDI2NC5odG1sIC0gb3B0aW9uczogY2FiYWM9MSByZWY9MyBkZWJsb2NrPTE6MDowIGFuYWx5c2U9\n",
       "MHgzOjB4MTEzIG1lPWhleCBzdWJtZT03IHBzeT0xIHBzeV9yZD0xLjAwOjAuMDAgbWl4ZWRfcmVm\n",
       "PTEgbWVfcmFuZ2U9MTYgY2hyb21hX21lPTEgdHJlbGxpcz0xIDh4OGRjdD0xIGNxbT0wIGRlYWR6\n",
       "b25lPTIxLDExIGZhc3RfcHNraXA9MSBjaHJvbWFfcXBfb2Zmc2V0PS0yIHRocmVhZHM9MTIgbG9v\n",
       "a2FoZWFkX3RocmVhZHM9MiBzbGljZWRfdGhyZWFkcz0wIG5yPTAgZGVjaW1hdGU9MSBpbnRlcmxh\n",
       "Y2VkPTAgYmx1cmF5X2NvbXBhdD0wIGNvbnN0cmFpbmVkX2ludHJhPTAgYmZyYW1lcz0zIGJfcHly\n",
       "YW1pZD0yIGJfYWRhcHQ9MSBiX2JpYXM9MCBkaXJlY3Q9MSB3ZWlnaHRiPTEgb3Blbl9nb3A9MCB3\n",
       "ZWlnaHRwPTIga2V5aW50PTI1MCBrZXlpbnRfbWluPTEwIHNjZW5lY3V0PTQwIGludHJhX3JlZnJl\n",
       "c2g9MCByY19sb29rYWhlYWQ9NDAgcmM9Y3JmIG1idHJlZT0xIGNyZj0yMy4wIHFjb21wPTAuNjAg\n",
       "cXBtaW49MCBxcG1heD02OSBxcHN0ZXA9NCBpcF9yYXRpbz0xLjQwIGFxPTE6MS4wMACAAAASDGWI\n",
       "hAA///73aJ8Cm1pDeoDklcUl20+B/6tncHyP6QMAAAMAAAMAJAL8x7+hB0M0IAAAUInP4LJXTUFR\n",
       "Bq1ViRE7nmVugr3qHwjjbq4yqtZnH2dD/PRH4qMF3383q0XiC6K7q89B8NNF+yB4lSsc8GA2Q9EM\n",
       "SZo46MPVl5rm6Gw5AAO/HUBT59RlPvSCmrB00vFqSmzxX6QfG2nvg5ij/i6M3WMUPhsG5Gzxpx0v\n",
       "a/TeFiY9bX45zv1ECsMwW5qQ3YUN+EmZ5gOrw0l5FJufu/cv75KO1nDyOiv7f2qjGLhWl7x/ozh3\n",
       "VzMefjnGCtiw2PrQNJG++Y6PFIWESpBqqz5Uhq3J3/5c1mpsiqtnmTr0x61zc0/YBHMMPuXii97r\n",
       "+nkJhNSeKdWLi/WcaDW0jt2eABde957XxcEQK4vH9PI8fGsBEaVN+Mltl6O6NO3GODPqPkg0k/NU\n",
       "1lFXC1Dqg5m/F5rn8H+SfitZ0Aj7vq9RColmrI+11hlmp69vcSgIkrGXy8knl3riI10Qc9Ae2RS1\n",
       "VUBSAZNc2D+aw+OW55UxL3XfTx3b3eh83o3fuoDgeQNZDrGkjdaHnfiDykrgNs+woumtiMlDvzgO\n",
       "FkDwNKTFqiykvPv4fnpcnIK6ogh9RbeLB0h3Ql1Mjo6Mse0mGbD2nkF/IDr0rmKKpLChIAMFV3hc\n",
       "vrh+HXli3bWU2doQFvun1Nii8esUfSwgZrSxj86VYCJ+OT4dMeiQqKJspRrR3Oe2Q8XRHMbqhXia\n",
       "KC367BEfYtdW1zL5iavHeMx/RcxvgWxr1/RsLvO7AXjFi5ZczuMBZA3n8dzYn0+h5uXBl/oxJpYp\n",
       "G+SwuP/KFpdEQS4ANArz0KLTGZETETNqc6smzl5LRB/WkmtjqOhP2rfYckbkzNsWI5x+g6LsGYVk\n",
       "dZub6CFZ3Ui53tFkMn/panDKgvqRAfRrg5oo7878Z+LmOr8goPJsTkxPsSZWUQeTeBI5frD3jFaX\n",
       "W8452Y5+X9ZDcYrC9PJg6mvjKv7LxhDLYXpJSW6/dSrhhI8sJjY4xTpK/PDsVHWE841pN1xtXDuO\n",
       "xenhRV6EgL6dFbcaSLsqaPiWeO5/gZPR0YZ1YoUBoN/pSJ5y3LwLfUXQAAAcT8M3V+yF9qCauzNF\n",
       "FlRlfHd9EB+zCy2Bi3FF06JA/mWUym2VA2j9YZD/lpOA0Kws0uq+eodVzm8sji+REFg27wotqO0p\n",
       "BTqpa/DdmyIlaXjcIhg+N1ZmZIDTxWVvOlZtmvqVFPd2TwhiCT4f8HwCP0orKRkoAUmiRUhQmDQn\n",
       "73fHg1M5CMHj8tkqFr0K6LOvFkq6GmYHpCRxFUJ2jC8jfEqir2FAyFRWV7aaZkL97kDA1c/rJ6IG\n",
       "u0KlKRso7/FU0PICIEeKjBVYB6Pv9ITrWZFLBQGvYT2t5niLq8dPNUTExWPbKc8bcOtDvZi0hpk/\n",
       "iXOdswQJipGOAIVWisAHuW2kfKTMSPIFcDgpwyHUd9tsfAshtZ+gxDyFF6Bt1w89WXdbdyj/yh2T\n",
       "2kpVZiPZtx1kpE9X8VzY5h6nJLaq0uIn5ps6IxQC0iXv2ckvwUBe+lu7yKpWbXCGV0ORiHw2VTIv\n",
       "yNBkjcJfgxnMxsiWQl7s+EPsurbshtTqRV43xb2FBkJKlPIFaNT63zXRh9ibUso4/xEGMw3JFp23\n",
       "QGTLY1LrJEFyjsMSGasGC0UTmdED2rX8pjqgS7AFWA5JPuL24KzaunVFbmQ8mUA2Bl8CP5ievPGO\n",
       "4VP70tjceleCb+6HDktpfzUlht7pAUBDk0N9NSo+V+9Te5N1e06o941JdZToVlFAYL5PjBgTGNuM\n",
       "VSw6rGAzgMDtv/3ddT7QQD/3u4nTt2EZhXgbHN8QD4wtwPnM4GHJ2KyPcLHxRcZ4CaHE3ICgRRlS\n",
       "qtzrHjISycRkLs2xv/eOmy/eDLcVMO9JIXKmK4OGwbscHF0fv0OC0YK2I0cIpqwiCqKHx9/X8HgU\n",
       "TA/ckI2cY94rwXNxla7v4t12NpaJBskT1qQgi6jxdpVUGeDBiUehksBrmvi0Y1gnQ4ptcDYIiVSc\n",
       "7//QVYZ6FpTq5aWD9ijoQ+9GIUW8T7JZVf2frQGeu6oWjcaNX4HX9MaXaqp0PWIHYPzb6zMCShah\n",
       "MZvY7nnVrqDWtr7nPorIki4QXB/8PQxzu1IAFachFZL01OLDYiuhfTdLkZDtek0Qk4GcaalrfPMN\n",
       "oEUN0fg4SeocQNga7GWwS3nteY4+KYVp7KmxTB8hQj88mihcWiJjHtIIJBAHU9MlqP46QOeTUDHw\n",
       "zInTIH4Fhe1oUFR0XumJwxlfY0ZRL8zljHp6dY/XtvYp+QIxNFoDq0EBzzrv6G/r7P5gBwW4UCG9\n",
       "l190ylLNcKAKa2HXH98JauCRFB1C97bjGnb/xXT1E3G0nEo6/2xN286c+PtsZNCBpb8Yu2gwI8o9\n",
       "3ktBscZIxQtgNvNew5PJrXGTt88gYkKARxi1DlFsmwZPI29nXv6JCGzp37txgzDPLlCUilfkERa7\n",
       "yXbLusCnjd5l+I6LHqdGGd6UfhIIBkoyjqnCiLsPHh46RE7UDLhjFPQMAphVmhuAWrVPMji3PNy8\n",
       "1OpL8QiNj2nWcTuEaUTMRvQ6m2icY5zbvThbgfi1vcXwZixBq/LyZGrR2SA126OW0XUt+cJ5XIJ2\n",
       "H3Qdh+mPj+LQLW9Nqte4gT3qvhlBRI2Nl4RuA79U3K+m+Qn2Nr3fpemVD8doiyfgnTE91TqLhUU1\n",
       "mI6J95UaCApMDA63aeitojQMFN9ICYGNyuGAIsBYUZMVRKYju3VcqZLRaHEk6u5UI6hm693mgJl2\n",
       "9rmWxeUqStiHLcyI8K6M+zORHfQKd3VnB7qw61zl/wTUp4Smu29xF0fr6VFNgARWKPfn0t40bncI\n",
       "AzL+ngUhoe5jw/0yFUAUMV2a10DEy7GoXur/akzd7sjqe9/bYO0Dfp29pZ2mG66C07sYB9Bu0TSO\n",
       "s5lOgL90/YD1HKDBgsEkaHOj+kHMKlWKqN+Iv3TnoSU6Bpf39Tw9OLYb5R+P3lino14TI5S/S2ZN\n",
       "N6w3M3PI7KUNDwPu3/dzc31HQvE15o0NH1humUEvt7kcKDyquBjrIL+FixH3WAK8QXoopMA0s75W\n",
       "WGlZ78vft7olh367FVUMB+6QCvukMvRacxcft787FisNZaCmaxcsgPs6SzupTHU/2maQDiPwVP3w\n",
       "+yzlm1I7UleAaw70FU0aU0MhGcTEzr0RUI4kTQWCz2nRW9OZGD9AmjEArK1gNxsRBUfHyPabQBEj\n",
       "vWhlMXvNHMQSX+JiK5oRVqk3e+iQzJFwiL8k0HNGUUFkmdHaNrkLiqeGKPvvd1cXHKBYTbPU63Jy\n",
       "0P2bXdZVhMLAQs7NoTi/ZwILZgbqkhBcwu6YsEgQnC69h1Cf9WAZvF+yUoz0GmGgh7gwKzs3VPv8\n",
       "IxIqyzrKVnPN1afgx5Qa1qQdhvewJ6uYlPFd17pB/OhXl8WjwV/1J5ctwcTJR683A7T72yQrHMjK\n",
       "3WrI8gLwaMod+wa43/mI3QKqOBozX6GF1qKn83qGMU6xAbX6o3RqW2AS4gEvQEglGgT9w8tB2jzS\n",
       "qRXFsS6UTrQfaVKeXujlb8AK+BcZo4YDF7Ncvdxs/CacmlhCbjGgkAT+KhGedVMiO9Dm8aA3dIwZ\n",
       "ERvgSIWc6QOEqm+kc7lh4cVk+Bko3xXHZWcbI1eH7TOzZWWsGX9uaUv1eBO8Ty1IqfRagrshSAxc\n",
       "KjEOdJV+KK6cadYlBgR5l1z8GwT1Rid8p6H8bK/OL/0uthjFIgSywlOHgheCfcs4loBvuHmzMBxX\n",
       "Z0UU+vv8WFNYLovIqRglaHobgsY2cFjtt3EaMHKKHSzU4uyS5wtyCZnFfezYkODcGorZkvZTTXMh\n",
       "ox3h1i0d3sQFeDd/s+q1Pt7m1JxmQY2FZt1ek7XjaxjILZ5/0IbR+sRBmxAO9dJJSw4Jot47fUJk\n",
       "kR14VaCak7J8sFQay1PPlrovJqQDM0lgZoga6KQOimQWviyTlGwy3Loi0weHtXNeLPGk4l2pzd2D\n",
       "RDmzRqg78LpoqWQhOPp0w7qX+AEFuZZ1tvHpfJxigwGUqV9IeoV10GdL7MWkt/AIm8juwI6mhULk\n",
       "BK2BTahrJChXzDIiZnKTMaGRiY/U85ioKSiV6kW6Re4M5MB/brAX4TY1XD0X61pnrFx3jfeP48vv\n",
       "fQp4baOo2r314TKvtKeFA7CIUmBIGGADjugXwUe8PCvNo5Sdcp1abbGlbt+OfuqvdB1GetKX+Tfo\n",
       "4WAuHP2p7f+fzhoIuFbhpABH/zA/Vrl4/xEzHqNvVR3ificzhg4JkKgKQh6K1llQGuoVQwnVtvae\n",
       "tbfRAc/WeOnl8lzYaBt4PMMZg1hnSF+O+S5UstUEk1kBO3I+1hMCi/KpAYJHvPXGsDXyDOYp7xB+\n",
       "H/dIA9tCRHWow3HzBmNMSOERMOABuS3Qes7kI/aa6ytQzZNc9qs5oGnbcJW/7XlYJKLIsKSbr5Tj\n",
       "dvxH61qQUcuut/QDwi/iDH4i5j0nY8fLA7Xi8XuhFnYcjAB30GdhcaTPohYNW7bVMm844QWlXypW\n",
       "fxSkaS0WMN4CzsOrMt4FMEf0Zg91jg3eaA3pS/Ku++we39SSBO7QtFqQqPY/4b9hoMwTX6laL2kd\n",
       "c+N9EnxfmEHKZT5+d71wPa5um2ZRv5/TmQpCSHzge0E1U4zRI0hiEp5dPaypQcglacXwfrIIpiM7\n",
       "hrX1NodTVG7yYU/PeZleZVNc+e2szdGgT/q37/Jv9urkdrc84dPIi4nMM4KFioFOmf7kLZP46ytE\n",
       "u8zvBZePd3qhvRpXi0ywimWLGZoi0NlePh4SZCUZ35bYkymjKKk0ATuaqUvLQWxsJkoRXyQF/5h8\n",
       "QVulHiOb7qg1Fqvvrm4tFtn51QksBNpXtC5TEO5VJqtWsifFu5UsACfIlivEPsJNuvTHuZrtMGb7\n",
       "hB9/qrjHZQSDF2zrsCdjUiMjtvgw3sr6Mk+j/NHNP5SEkKcnta3xwvYTsJ8I3k3e1LTkfjzXtHgV\n",
       "VVh5kksSYPYo6wBzgO+iB4b6m1sZfqY0vt2Wn5XC1hBWsi46YqxfOYY05YjAK9CL6hCJi1NRRBeS\n",
       "Wm/Tsy+3QjBbBg1IyxyVWpyCE10Pfo8HbRMhA+vDaLMAgxlVazV/CLsMYzIbS5DDFij45r7MKB1n\n",
       "srIp/mKZTAMORQX3i9M1XkgaoMiGqE/UXNTb4QpNgEI9wC5pe2cGh121lpzpIH2ozloW3VtZeAGZ\n",
       "A6Mvvvm382Jo39v1jmTmBEVRlxjfLASlzxhGLKHXZk1z5ltUlYwXISlNrZA4C0KDZrTBCjvmb7x+\n",
       "7qkf2Wy02Q6GX6eEu5S61xVgWHF7lMFIm+G1AX0tMYlJM/zzJbfUhVfiOSHLRCJAqFnx30JLqLOx\n",
       "EEDtF6TK2gC+baE3YrFK/P7JmyGXMRCrAPapEFEkceIGYo1Mifu3ra2PskVEx0602l9Pb72MBKC3\n",
       "a+ZrzfV+otZqHCB2fMuqfNW3Pbu5IT304ymfO2AE243Tn/vyfM5t+wBPOIlMg02aKK4sZQ7ubDXS\n",
       "2mular3AIJzPd1MtKjk+24AAH5qE0XxiA9yaZJlIWab+7oH/rIsEjbXLmx5sd6VL8q8pMqBfDeSG\n",
       "Wq8HfqLEzGe+1E5emszkTQHoCvQR24BLA4m6pFh+XC7vpTzugTJ13lWYe5oX1ra3/q5uoFYnJUO5\n",
       "0y23k2ECbcXDCy9Rk66TKHOz/rbSaghvexp6KTByMYHBp6E0kKqiuE8wqtuEx1gkB8dYe1IPXzzM\n",
       "Ub/kFbxwrCTpdyJiDF0HtjPbpemF6oUgSZ8+BikHEzjJs623GA0E3GOikVUTzg9vQK7LbOHdt3fA\n",
       "oP2VgEY7Hy7aC3VDTFl34eTh887Z839TkoqbWoMv2Jnbi1E1xgYmG2cD/aNio4DzfLQDmfCSA9nQ\n",
       "pFmyetS72aZz9n5q4F18D0HIxl68rPHWvAigGRMCITYS/D+hlsTgyjwi6ifJs1n7Jz6zjG4CIlbW\n",
       "8oQTxFM9uYE/LC7hXZ+pNPEoQR7JMpW1JnbrBqSNlujF6qvrR6g6EZksi2y7iJSVHgzX22XTvFRE\n",
       "tbv2mzXJjpF/SbVGlFIcelvTbp+z2ZcMpRd7W0GCSWev2VJBaUVsIHe4gAhzSj0127AcI/EAACTu\n",
       "qQAAAhdBmiFsQ//+qZYAIj8xMyxzoAnOuSa+tuwgUvRjOmT52vTWIZ8ZlsC/W5+0HgwG6osluXFp\n",
       "10OnfKuaHtvrPnvWRpMEepsT83LHtjzNcuxvcv5fGulMkf3BqCG7Mm4wajN/yZopIlcNHduAXrpj\n",
       "nn1mmaXsXdbeePhQNnJLeD7zL2znjtSG7r6tPK9jAAVsnKBWsXuYiP5mu+WnCGJoDUHTNy+1VB1R\n",
       "I3wwZb8kr9sXFn6RGHmLSouOFdKANud9o6oM1810r2MUyTVQFMx4dG5Ky/lUVGZArTmbvY8/+R45\n",
       "omJunjT2eMdvzQSU+jobbe5UN0c1FHDgoE10I+GNPcl8MzXj1pecnU4OdY7H3WLGju03KR7LVuuP\n",
       "yM9yjLKiJS4z9aIwFZDt3Fve1JYbUPE09YLegWcl3cx5pZylugAckNa/C+PzaIFYEVdElJuVsziK\n",
       "iOUOgWPAzBGpkr5t8skX6YJvfoNjzh9b6YdtGqQLFC1nN+6YjjYOkFgzgKUeHTA8XpHxpOVwTxra\n",
       "sjtmEDStF9HfE7M6NVAs1+Y1M7Zx2GTf9TjXimvY/3gAkjPhPnt4RUbrv/yDBb0lawntSUbCAN0s\n",
       "KtsbXAWGzMqAZApNJVlxVk7E3mSpL3JKbbLDAIS9oZNb4wIvqeKdvKqGur3PJQEbuC5JAAADAAAZ\n",
       "QAAASi4QGT1epxuSEnMKFtZLJM2RTX2OTZ7AAAAC2kGaQjwhkymEO//+qZYAAA+uz/gs19wAt1CJ\n",
       "W97zpxGcoRl+9g1mjknGW/qQlJfNhpC6F1ZckbaXxPm2kFEIkGsgfER3GXLZZkvQ9FzdHCYEAri+\n",
       "4GVzT+dNpfOL03Q+rEUNZE3wVMLvMOpzhum7Oj4p3mQ2CyBP3fGsba3kD84+ZD0cNVV5z9M2XU1j\n",
       "BzgHwY+FfNGEJwT2j8M3A7HVN48P/KR+/75Il5g5+GmV3J+X9iq5R35QUwTuZ1bZYVURN9Vu0Sjq\n",
       "exI5eyu3EokwsxUW+XI26fYRfpb3BdPCNPfE4JreNfH9OYC+0nzsDKyfxD/O1qchKaBjm4hpfd6c\n",
       "W9GPXtrknytmRgksZ/K4U/a7f6NVRGiuArEJB9qLBvW7k0X9+4emH5TsENRtM5Uv2r2HHq2EzFo7\n",
       "PbD24mVdm6/cqC/AeIMRdzFu1QJbfAalRrLGlG6w6j8tkMspPIP+cAK0aSUGHwP7VvSNe61IOEzu\n",
       "3K30iAZRydepnq6Yfw9pyLezGbz26HOarEiw9qbjRxKyESyNwGHpD8hz3Yqfah8Ajjvc7Aoaf6IN\n",
       "z1VUTg13cWRyiQOaLvn8bGOOHhaAdJ3Tl08co7n9QQh1JyDcgThGyl4VvLdpi3ZIJpPMGxfQTK0g\n",
       "FTsXyLOTZoyHAGF/NSySElG2E8LKldXvp3LCQUgXnnNNgqkhg80xYJ/2NYxJjBMr2WYyLfyH8rAO\n",
       "olZBV/+ja97/6JLz55i0ovaKXIOG6KgWgeimvtTOA8cma6iuhU21mdXSZmgRTJYTDETLfuhJmbI9\n",
       "BBV4bn2vQfv6JjxVJ5//MRSEOZRk3G+GvJZUJI5Iw5cDPBV8B8kqHetUD4udGOqAZRLGcTPPvFvx\n",
       "/MCBHTBTA5grgvdIV+ckH/rjqN9FK6kgPvPwYRnZQLb7m0W2OHLty8lzj5AV92rfc7qUlYbGgLa/\n",
       "pC8+cNrkjJhRewIPwBo9UqgAMCEAAAQCQZpjSeEPJlMCG//+p4QAAFq1QANEVHOEbG40FkAuP89p\n",
       "t2mmapUSXjoy8I4FHp2IS/hFwUBda5LulzodhjbzuEM8PnLHjRoOcfL6K5KSWYAPtxWsmR0JepYx\n",
       "ki/1Czl3ZOC4JXzupoO/nWxnPugmEJt1M5QfShmLJY4FzSckbdDu0OszuIM5B5ufaOGTrfFJuD97\n",
       "++cN6iJA8W79oczhooF1fH/zRa+NrLbc3tPaByNDp1DfBPf17u7usNgUzTo9ROMRg/W1EAnZn9zf\n",
       "3HmBLk7FZcGrRGLm2zZm9ot6Ajj0E5/0YZJ9SLdxaZNa0BMlqb/dnv+OVqIwYjbpAO3h66jlzn5K\n",
       "DJQXQ5w0grikJkNjARrL/+XQ5S2eCsDXDydGFUAVxGaWMc+LpLdDWKlHsx23oJMEjuVbbEDAr4En\n",
       "xwjBQ75QHFiQ9XCAGVVXpSGEfp7PlSUNy7ugNGfVHuEGGi1zbB/8gvHKT6x7jiCJGM12lwXUJMtB\n",
       "Bo+mdHMcHXQY43ITNquTrYAsYFW9aQ115VANMCbuUZxKmsl/4hsIF4Pe+kdruVOHllQQEzIzptCl\n",
       "/G1R5vVb5nOA1EazxWLMdAhKDxi61dsQTFOAAo65kfSKeOVhcKMxp3hHsL3aurjlFxWi+tjEB2pP\n",
       "UCijoOoTm+2xaeWPixuCDLdiUPknn1a4bHwbeUsoCZhD67enyBb3e2+lzmRBQK7AXQo0TytWApKS\n",
       "Wm90zo4RAPl74lWKKacMVxCP7/W5yFs97BWtDFfMebzLXLLB4YmF3B1fcfqWCpauz0Qn5uqbtiqs\n",
       "fplTYvxAfvCt3VfA7pWzGH/g16XHdhrWY0pb2czzmmr9ig6edaeMPSxud/GLjrW1to0YxCt3Dssq\n",
       "5KrzK4fLYAWHg5rBdujURq7EwUoG0/B1iJNiQcWZJQzKCS36cbgBtfC1hlbulxpsOhvLh/q/qfjq\n",
       "JreWycAmWjhz+EyGhAagGByTFhLJxKc9YVoveVCne1J4TBTDOiiKYcME7iAdtFBKCMrEN/o1xbck\n",
       "OVySNJlqTAk/N8kxYIK29Sf0MzXOfCcnG9fj7MVeh90eAJLuz0A48Rwg2ecLs/fASbmOYTES7drE\n",
       "EifyPv1q8mIL7+H7/sG5RG8yKNkMqOAVX71SXy1TRskCeWNefD4+VIg48HUG3UkjH89mUhK/eFvg\n",
       "XmktGZ5DMBEBORfGM8IGaSat4/GvO1DyuTvI6aloy983F3Wzonfvrr6G/OhWemOndpWyMex4M7aK\n",
       "WzKLPLqf+ps60jXQcdWCdFwxw2PZ3tM56chdVa2k8tuxVg6EAyQUoh1H1iUZD0gDxRnAQfkJHdxj\n",
       "ASntHVfSmuJ81TxNwU8mpbiIYGdLACmgAAAC2kGahEnhDyZTAh///qmWAAC8cLfuOvVFABD9nhcr\n",
       "0UKYwKy924ysONi1c0FfI3BefN6RhEnkKw2g+LUWAx8/S4nC1aRbOH/11Px3/dsL3DCFj8rDGdnj\n",
       "7uSQxWpOLbzCS3NN+tJUOn1BAjKX5o2tjGCRnuEcLAT4ZjhSxU8ui4VoPs9upw3JSg8o71OL3JVN\n",
       "22wpbvgx9DOMro76wkWqbIeKgtf6UcX4vk5CGj7q7/+iFuJ+xUM2CWmMHu/XOf+TsBpq7Aq16j04\n",
       "NbP4oWlOBJjT9UjMZlpGh6Jm2hYTjQQHQ/3t9T1aXRxO394AriWQk2BHVtpPtpbEJn7t8kXqdD4p\n",
       "W9GHc3lhDX9/hlj+ZQpmJ66b/THZWTX5855qmVdrnAthDxQFNdzwL8SY+uINOPiCNiKGyC9AjkVi\n",
       "GGQ3UBWHzV98K20OjdB5Px0s3/gE95AO2193Hm9ohbP2N85EtfPNbqpCm8HRIORktD9DGG5sdWOh\n",
       "BmcpTnQkEqbDgvtmk96kj9loJ7PeyAYhld1IpTcW/vdgoG4DYZZnSo0GmMTi74uYa8acgZJubeZP\n",
       "MPGJ06oviAGjclP9I19AIqKT/5MM2skvnC2l2QY4cLDSfvt3LQooezZ7+rG7Oane3FlCk4z51735\n",
       "0fgxyeyGaLDfZKaHHn4zbWfPOQWyV2+59sAP0JW3kZAnmKaub5jQ29EWx7dlx+fo+WxcM+DYPTgS\n",
       "vl2vdrl1AfKNFwxXF+QHYKUueV7eQMj6FeeJeo0ncXTSzhfuQ8fVB7Q8Sj1zqOfLndU0BIbBWRhh\n",
       "lrJvimo6nv/9dvmpVVJlKLar2mqjraky0vrcHiCRXk8bk/MHQHOr5kZLJcrLvSc0RRYNzM/dLEZV\n",
       "RqhhHptpbPRA6Fh0L1rzRvszI/4Er6zIOPocvxmSSMu1IlbgxYbIDiaBe7WjOlp1o3a9oAH31+KO\n",
       "oXGYA4zjXUEAAAMBxbwg7oEAAAGrQZqlSeEPJlMCCH/+qlUAAG8ofAAHSvOSpHYKkmnXUkY0H/o7\n",
       "exwp8c6koubiu7Tj7l4yhFOTHHWSvnm/Jpb2KXWajXEBj3KN/YtG4lpkkTPyTPsxpu8znbs59mtx\n",
       "bv0s/oNFN5WeMxLgy3q/W1fe3Z87QL3C921PG8vt9iY8bQhD2qBRtVf9ufrSfr1xHASrKxgnV6Rp\n",
       "kyp3PE1Rup0SVsDWS1XCYCzrc8EUNGmcAPVieC0Cav6WhgZXZClLfKkcNg1XSkD1SRdNVV151nRi\n",
       "FPQrG6z7KBglOzCE2p6WSDgPrngJJ+AOwoXbNBIFEpZNBf6Ru3daU26/ksHkyPVBS6+YrZyeuLVW\n",
       "m4HE0BviztBRu/3wJ/a/FTwj1cJg0wvliHB1jzPoTa1JwbNBndSx0H78tyjsgZD8QDn56ayrIGb3\n",
       "UIbibsHAUKC2LmKTvKd05uRJ9sZk4keAduiR8cO1SvZxeSUJTC4suEkKevzmqQkjpTa4xqIxTGnr\n",
       "n+6Y/r06A3Aa2nFjtqhFBGi26GdtUP5K1W1UI6TUavhvrdoHCV4eXYtr2pSMGodB9wAAAdpBmsZJ\n",
       "4Q8mUwIIf/6qVQAA7+0v4fQhSABzl5YQcSRlfYFWQizHCrn6BjybtXOyfYzhf3NKO7C79YTBoT6K\n",
       "uY/m+oAWQu2QrFtxbfEO4ilcmhO5pah4ciR5UiWUs0Oo2mk+gaJCEo+JWy/qF4QJK5Vbmu23In4a\n",
       "3wqfcA6kqdu9JSEcKYtZX8Lb/B8HqSFrNjDgbF8e4phxzeRI5kH7g5vN770SPN7G7FEpRuYW/I2Z\n",
       "tEcW31INEoxIZIuoMP3IeX8dW9597fmueKfPjbP9VE1rSZqph15qcsa1sX8Ljr89dOEcaD7gJe0A\n",
       "XIA8PNaXQuud5laPsIWH3Mngg3yMYawtZuPjOfUZzOQB5kLn8qsBsbCEZ9qTMlyMO85wCG27Nh7/\n",
       "wPvnYyLgEQ+xbbG/H4qpu7LqWqjF1sGrwEIMT1VFwXnCc39f7tTFQKbTm/4620GPw44RJeSd+wov\n",
       "lskFLi8ZUsOtC+JjHlot1FOq73HOgBY/rvybR2KJVh8Zh1jipshCpH2ztttfL2i4C7jzwv37zdFW\n",
       "F3ybkQu1otRrEi0Hg8LQvv/GmCdInfUX+WpJEKH3f0g7r+2tWWqyf7zYAeDJVbYtoJskuBUlEUQt\n",
       "WJQAFyFCE9VjbnteB3UAAAHBQZrnSeEPJlMCCP/+tSqAASBti/eAKmZiXjf+n/pcPsbXIS1WtWBx\n",
       "BhwinXQ1i86A0hhf713v6wxqdXOCONSHRREQP7NbPmZzdGCQltr+OumgvbiUj2a+vgDUHZ52Ohv5\n",
       "KL9HX/WiT76G6uO/HEixgBkJ9iXoSnxmuLdaE7gqz+DC0xLAyxfgSSv/8zkG7dDz3JU1Hm5kBX+0\n",
       "7Dm5ec9hkbs9Kq5gbxRhw0B2ZfoqZ2RGrDKRFYu+kbXgx6b9qqwz4s4GA5aHv/crpO7A5j991/pm\n",
       "8Ot+6zNJStHYHXYQa23J8KvDVMqqA5+rcOkV3fuozTwIq2TjZ2KQCdyxV2ao36uwOuJYdyNBwu+J\n",
       "+PMjqx8uOizcWZUQlFWitw0SaWKz0PNsvVKVxv3i6OOIBqgHQbM+DsgBHss15rZiQKZ4PC0UQHu1\n",
       "u1R7A2VLPWT+welofCO0puKr6md4zDnwr36MOdbwny5SlPB0WvjajHhsmejvEY1f8FTR5YcxTN14\n",
       "7Qq6cZfQ1O5SYhorrGVu1yENvpkNgcGccM8Tsx223xI6e4VK7RN04DWtwlH1rj1MBtjVd5bYFhBA\n",
       "AAADAAADAErcsTcAAAIfQZsJSeEPJlMFETwR//61KoABMf78W/VtQUBEWTUtYHNtmtABHDF6KxKd\n",
       "NZWYmUSNK8yB2rpfqU9Zpj8UmQ4ZZBhOtp+SKOE0AjU32a3enTNt/e7ZNBQe+87+yI62Tvvt2JgR\n",
       "n+kvkbpn0NAfy226ESXl4MX+9qHSCUe8iOkb/pO6R/FmObJ45CoQbyHdTnhMWFqXIwZA4OCF59L3\n",
       "rEsUfM2CDyJRCCnkPqtosSYrUUU54uEm6qfdf1oJSSLBs6RtyaltMY/n2Kj4FaHWmZGRlJMgitfM\n",
       "zQSqgR4DuMfglQpVAG++y42Ns7hNy1Lwr9hDksfWEW+xJ8Jf5GSP3Eo/zyl/Yo+1lT/HUrELoLhX\n",
       "3vlQNifdG8pezwJRcmx1NB3CpnzbVflq+NkbXd00Q0XogHdaEW68tiz8kx5nPS0l96m0/b//q68F\n",
       "uQSRAXv4jmMFsbHL60HJ0u0rHeUOZWJ9UEXfZRbCDRe7cGrBmQVtW/wcw9VmQqFAtig38Qjdgtt7\n",
       "F/L7tOuG3vQUtSIdVq8X+wIw8XUjwRe9un278jwJds3BoSLgjFcVnMg2ZXlZtAmwTLXsacSyzHQO\n",
       "dzdb5gzRfowaX2ar2Eegfxv15wrFy1fQtvXq2l9ttkmtGOyjf2Cy8Tv6guF0BnyinJJkF6pFSePS\n",
       "7Y74snnjbnAYgx7nn8M4ai5OHJfaWgDZ6tHj1N6+zhMob6zACPbjUInQOBZQAAAAvAGfKGpDfwAP\n",
       "4Z/ni882P/aD2CJOuGlb+QRmaVFJi52f8SoZJ0FsBO00rzI3LG63XjZTVEHemIqJ/fC/H7pXfl5L\n",
       "swKigRsM80lGk8MoqwtH+zWaqi8kLN3FbgFenGEbfzTavfZgAh+rZ92cg/a4z1vQYfleXiynsFBA\n",
       "ASGZj5XIxmqmoIYPBZEwIClRbZYQDcuSD63ooEq+T0LC7NFatpL9CmOagH935MbFiSwBw7bAK9pw\n",
       "aTCiq5NuAB8wAAAESkGbLUnhDyZTAgh//qpVAAUnxN4ALpR8lSOwUyftFmT5ip/uHK3cVozJgGNJ\n",
       "MtijuNTkeKyQAZg32PtznORIdaKb1720ip5nLiAghfG2ZuDxUFnF7OP9KZLlNvZRo5l2t6Qc9fWm\n",
       "8GfMHUE+EOwmAwAZxuWONpYqRoxo3JHO4vaolz/O5bfzYDELutH51RWGtx42fLUToVqq6XMdyx0q\n",
       "o7VoC+DYFlZ5/gGFfZko5il1XOoN5b1b9NcIl4Vi0fP++sNs5nu+0g0fSfPMq8Pt9IZkpGoio2iv\n",
       "xqoFgQ5GFXlFDWlZyEc8KyUws6Pt1xunGQR8cgtAJ5xZo/uWXQEUwOgMsok6TLaQfqrrwMfh4nbw\n",
       "4b838zJT+atInx5jT9UuXh5iLaZkTOs4wGV3EW4RM2mN3q5NPZTuZ7Y7JphBTCO+SzX6zje8gLQn\n",
       "gebO0vWyEx7dj1QxR+4mIRqj1XzIP/NxvqaxDW4p75OKfsEyGe2KAz8ARB4/lH4Ev61c3QRcT/PL\n",
       "erW2GmE+fDHJgMzMzi1dw3jcoBFtRNhq19q/boAiCkO9MaFVxN6Py+x1M1p2AO81zuxq8b5H1P6d\n",
       "1od5Xg+uqwLFLoBolAguBfEPjQ8PHQW6Mv1NosTCsDLxdkW6Iy8wTN3GKGfSNvhH5QPZahIfGf2R\n",
       "55kefUJ7i4BQkw8RyxlrqfZPYtMCluZSJqvzutXUflaVqv8PLZTtvBEZDDrQKtrPaI7A/YDWwsP/\n",
       "WIMHjZAft0b+KBhRae8FYbBjm2G+o4SsUilNTmnr6Ap+pKNFFPIqg/GanvPXAEaHpNq9cF8SLel0\n",
       "evGQpyuVWo0zjqQt25E8p4Y17ikCmugW2QsJf7cAOkfxeIvdOEwwETLBMaqQfIYmDX2/jVFLO3q0\n",
       "9KOrZlR8MkpcHl9iuUd4yr9xnj0GkXTwkOSAgFj+gQPo8v4oLPqUbfpTxPh47zYvdT6JNdG8lfFB\n",
       "ai8AvTDx2Lc0hcvib4N5FgnSGA6a/G2Lqglx3xzLQeneOkc1Qf6k73ZPbGpWG9GMR8fyHDX8yPz/\n",
       "FETFlq+sLCWy7BbyVxAd4UxHuH/vamCvPtQHKjzg1MSgRRgKqoANSrA7yCZiQucs0+KddIWh4/9g\n",
       "NnFPndy9vfdoRmGX2BRLbDr9iWqrclRQX36uJOeuTx7ZeT1jcr1f5+hBcU/rY4h8j40oujS78uRu\n",
       "bUOlVj5AD339oyu0Bl6IJT5eRwqBzrtiAZB/bWR+WPkRt1t5TfNizCcPpjxAtf1a/ItEUTXytwbz\n",
       "YdKsf///k+8LX45Yezd2R4sCeEj6Ff/J6OAzzhZw9qrNCxHYNF0jcRZJCHu0qFPegdc8de0lYhWH\n",
       "OYXXOXm9ZgBAJMeQWJF1nF0nXVE2TiAm7AIrla8DFtkA8uaF1TFrSekPVaFTtILu4HoyqIEV1wtU\n",
       "HWdhx/7KPDpBSbxEnBK+V+4hSaS84aJjDZxCgwAAAmRBn0tFETw7/wALcuARZzu72cgAnb4SkfpI\n",
       "4GE/+ZlCuAyOO+f13Bj9DAsqSOrjVDUXAUBn3sswEUuS3oZmQJopmb3FIaf99MKGm49lqw2DPpuE\n",
       "kB02UgX7dTfU4T185cVNBAgEBm63zOfZjM7chEaelfuNEp6mVOfZ/ThguL5w9rNu9CpkXJjlx4dr\n",
       "AyEKGsNTVUisvtf/5nrke9F57imdmprhbSKV+IQV6xjFkG5VT/jowNHdqUP3DcgsJ8B4r6WuWr0T\n",
       "o2IebhPmoAK4zlGlvJUkyHlHxJER4wiGqJwHA1CcIGr2VYBrr6GyZ5dk61+ffoJwrDo/nmIY02yX\n",
       "hcCO+NktAGMxprfFm6LezRCxqJwGlmKykSuWiEH84wxM1PljHeIMiqANHDeAUse9ROca3iej3x2x\n",
       "xGTSnwJ1pTTwCaVTTXPlNGdjxxHp3zCy/yMXwNgL2fdI/c5Iu9KMcLDt3eUlisFzji+L9T5nuuaw\n",
       "ncCSr2UUadpqWW5+6FIzgtaNbr6YAaVQeuWe5N1F/EUx6YUXkrTEOOXP70cGuvybNN+PmZn683ov\n",
       "jNH1/+mT2d4bpkEC581jzbQTgnmdRns3r47S9mNYUMT8+MC3ps7UsPzlwT99PJr3i1miaBer/YO6\n",
       "VhDTf+Y6039Wv9wXyYz4aBMG8fXpTEGLWAxXVJhjx4M09+jfBRkBwjdzO4Shn1xLy5AYOzu2Uhpg\n",
       "9679Y1je8TKwPR8YLgESqew5qHf7Zp0TXpN8PyEknkU/T/xFpK0rdG5O4JJ75L4XW1mDrTP+tIC+\n",
       "LvSLacMZ2UcNqEbPJ3IACDgAAAEdAZ9qdEN/AA2CD0ZoFcqYgA+O6gdPL0b/bOtQEpfxUYyUJBb+\n",
       "2+TpLJ+FAvDcTHSGH+ewyGdbh3HvrGJfdvJpUbQVlr7i0Q2kThwnAS/h+gZUUZk5vNAEMPTuOB2z\n",
       "K1u5grhbyRXH0RExyhL2unvq1aHk5PcU/mOvbZmuXQi+179aLpIbgzPxPoW7SLgJ+wFNFd1DWCf7\n",
       "CvSwk5f0BCv9vXJmH/YIiRNp9pBszr3SrR4MExMkz6NqTM3rlgEHGY1fa9YxwRCm/zZ/M65sh99C\n",
       "WpPnEPOwwo6EBza5BdtXDHuZGbAD6v4azuOMCiX1rYTxA2CTB0agGzgBIQfp1KnaxnLWNFgQuoDQ\n",
       "S19DvIfGurGqEd3oNzyAMYTyn0AQAAACBAGfbGpDfwAOKpJoXOMPdjY6NmCgATaRA7A1ua5mOiJV\n",
       "J22xT+B/mwU3bI3i03vDwDJu0xVw5UqtjSfFP0CBV1wJ/Ha7eBFkdme//aMOKW9vRjcM+Wcd7xbE\n",
       "UwMuOJ/FCcdycNYfqdy7Jkl6sUpe/I+WLyBaVdQQsCNqqNKq1Bp9bS00SAGnVoejKKZ4QV8EqvYa\n",
       "84Scpqh/HOtt640o+M8nKgOASr7+V850xfS/KARDoytDQjfulbxspO1ej21fOFi2zjpJol0ajSqF\n",
       "At3zD7Y2IIOkooiP2uVEmxQJ2nP8TYUzwSwyj1lhHhznDxbLsYbDMSlJw4SAmYUL6H9VsbphsIuQ\n",
       "r5m/gBxjKK82KctcZhGBPmywYnMcSeVLTK6wymW5mMqw9EMW7/k4XN5nFAVofoKFskdo+SCN0Ljg\n",
       "VVsuNRDpE7LjeoHO0rhdrzYGA2Qr/nyI+GIPE+fhywUTnKnGSwvMpmxK+H1GCkc8vqgkDSWtL4Pl\n",
       "BfWJKIbRZc76LWIWXNlfM+zqV2hdU54fq2EU0th50DMUGN57gWWmt13xVJGdrNQ5khSRd3EjET6h\n",
       "6Yp1h1ettccTdyKC5L8XVeRlfEGR5O0E4YtaXpA1ZbQQGexjqjcRWCOgZEve0QPL2J+C1eBHP1hr\n",
       "Os10a6dwmOUXMSZUAPDlbHLYZdJtA92uQNgCewAABDdBm3BJqEFomUwIIf/+qlUABW+87DCHo/sT\n",
       "KR4H4qZFlcBrFLyohtyJNZr1FcguzhRVXqxBspNIs6rMnvxUXIMyfH6Cn7PV+NeZd0+EjKkF/42I\n",
       "oADq5vJbn24ZruOCd014r8gGfCrLYDq3nEykMCzyGy7rx4fgel7SrjvehQfpaxBUR6QNvWJapG0Y\n",
       "fT2gSN4ngMO84aO/thW7bUM7UFmwDPRHDaDUu88PvkinPyciU5JJfReR9LlyD6c7Wpn2kriaHrTP\n",
       "idX9qOxxum8KNVzt8+1Z4F3vhE4JkSkXTTm99/jgtHZUW2zLEbhbyzZV/ycXhy8JVPcbqxM/bTwN\n",
       "3urK/1nOg4D+Gq+EZiT+o524j5BVNrRvSWlmN6urZx2OBOoGRKVlW1mANoztt4xvvIPNBBuITs5V\n",
       "SBR000Q6JStlE1H9Vg5gNjaB3c/WIudb2XqYwACdSZtTdavRc6G3+0kns6udXTrL+2uZ4Jv2fb79\n",
       "QyaHKMSAtb/JA2ZUyH5iJe68kFPIGtMvMz4sv8zjMZhHybqzWQAe+9M8tRkAN2qeDIo1eb9gCXVB\n",
       "h/DoyDu3jLq8URiv7Z+hfdPrA/G6EVvHcF6BJkjLYpyRInBB0abl9WHUssMXVXeNhtbx+jLRT7pE\n",
       "mxNbjiEtFBUQ9ySNhVJSAok97sdL4i6uopuoWw7SzHT4mNhF6nVJZU4/wdq58dJI4kLxsUzf0iVo\n",
       "aVAnhpuoaFQ5vLAVz+NOnDI7PuqMagFqVJK0xRZDh5w8DiDVrDKTkF7+ONgZbK+6wkvKo4CxcGUl\n",
       "sntLBmI56SFar2QftZIWymG+Z0SFimSa1aGjqQg/9wyA/9NysAMGVGUL455ujndY0gvzPbwe8Xn8\n",
       "G8dnupQRFdSnjDL4tqBc2skIWLwWZKddKGeIsw4Cy4TSxiJcBBbwDFdY5L1p6uaFKbNoEwnaOT2v\n",
       "YfKDgiDenbh2ceIAM323isGeKbSM1XBQzSB/maKIaNySCYAswYIgBiE5LxOsysK+sTL1NQyF58yL\n",
       "hZMuiMufX41sP8aEvRusrp88W/YFZHtes5Ew73k5Dii7wGQHAWdMp9GNTpVSI+No44OX+hVYH+oR\n",
       "p+fILal72dHvDR07plqxTzukHdn65fw9Hyp4j/gA5f6cUg7YhWOcDfxOwbC/XAFQm+R+cm3NvAeV\n",
       "ANv99KrojmbddfV20kTSKXpzRWt0e0gbkJ3e/pHwsEMss3zQ80mykh0AOg8dm8C/P9Z8p15/mwlE\n",
       "fByACss4Qynsv4h04wkE8G1Z30Ryfy/Of2iAVJDuEgv7LiWU1JdQRaFx8yva+n8t0nwbFATixcyO\n",
       "adv/g9OVHs094c61Dr8CJV8d4nrZqpOjHLdcKuIF4l9P8IZtEiK1gD6YOdVRLiHp/sX7+YSaQDSx\n",
       "gWvDl6TCh64jA6308drRuwJBO/6Y2LR2ouMZIQAAAfhBn45FESw3/wAP4pXWsEZm7tc2oIoIACVN\n",
       "verT5fWk1zTkTe6Wf/GwUE+bjfiKfbNfQmJWMhtFcBcjmXxQeg/KwSXZkFlscBE1v4aJopdI5/K3\n",
       "cJwh8cS9khRPESQj9jDgEy3u1sgK5p2uh2Uhomaam8ixTsBovM5OWq/qf1j79He/F+rS9L+kk3Jv\n",
       "cZJ5gWoz514TZPBfo4OGE67HSrKMiRI0ValeScEHmfVvOVWJWWiicyU+TU5PxLaj2+MUy5iCzTRc\n",
       "7AQ5JI+at0zpGF7+gfGJ763fD5jQiLziTEWGch9hgFnLxasGHnnnw+3arpbKTeyV6a3JxKYCkyXP\n",
       "Bn778BvLXYXt2qyoUep0PFfqT+ifWqxFkd5MUI4nU0s7dcRZiRfFJJDympxYP8tu8kMu7h0FsTD3\n",
       "g/uOsNzL9QaRCprMGsUv1v+QU4/skgL77PSd4OyOd7XHrAqZsV7XmYOEWuio1asqy+bTD6X9wga/\n",
       "fwgP42R3QFoCvsjPHeGKmZJr0387+eQTvIxTwK4rXYZtDDaa6OLFKqjyISvFNxN2I1DJLp9T/c0m\n",
       "YTuynORvapcva5Qnl/2BOcFAHsRsV5ZPvuJJYg+XFXFfaK+QGudhE40FMlpKNfCzIeIP2UaGrvE4\n",
       "conpzrgh4Ib7RcKjAHa9LWj+KCInBlUAAAE0AZ+vakN/AA/gKIZTJUyJqwW8AGot+ssIFLv20wll\n",
       "u63x7Qu1wgg41iKmsD+xqS7qAlmpLNvGbBtYDidH1/+E9o7w2vvsvrmLHu2tpzq/iE0mAsNW1Kxm\n",
       "QHJHPpINZtWqD5+0loVCwBtAliguANp3Ob57LV2GATcHiblbXqtvZZ/TEMXYZuGLRz7Sfvxm8W+R\n",
       "uksyN2+hdgAI34yP31UYIK/aoAL8+jkajCIeIeYhWfXxVfAYlcSICfRetnJJD2R/70mRoYCjAJFO\n",
       "9eTT00mq0IQ0RkMKphTTe8BIZAmOl07mktgcjjQkwF8RpfqbCN0VbfeG9Z6dZ7nBxopku7XtXcrk\n",
       "jJSCo09TvIOn4E9rvP+mqJ3JYdCknc6ywlDt++VPBEW8VqnX0tACTiaMyAkTaBIQl4AAAARFQZuz\n",
       "SahBbJlMCCH//qpVAAVxjYyx4AHyzo082+wOZwp2QKmqaqAbAlwyKR+1A4PTnX88xXfYCZ80ZW2y\n",
       "REEsK8Owr9VubcoLD2ROVaS8067Al79i0hx5mucX8L+MBRPEv5TgoHiLeCm7UPAZviVLH98xn5Ef\n",
       "pj5TeZEVUS7ovkzZ8bIwZ4iNr3CyEx05URMif9elb8HfYWE16F9gDCvz0wt1yOv2UZMLI/djuLvh\n",
       "aWnbY/Gzxyd9kjzRiCdIqDaXB7sYzERnZu+nUqmalEScrk94ZzDAV/CM16SwjADkAgqlhOOc1Tgq\n",
       "qlTQ+iW3IEGp3g6ZHX/fShgjiit3Fqb7lmGxlklXVaD9ts9J4ISoiPzYKna9Ap8dM82yAUxq7nhL\n",
       "1u31likuIgllz5wULY5bEl1qP7TR7fq92XMvI6U9/OWWyZnYG5Opft5gTsw5JwSbSVj0Gq/XB3zY\n",
       "jqmv3N8PuYBWL1UAb3+E+LQ0D3Ye/KXS3ZC4CMG7B449fqRNLjnJZoxB3+uvma1zFpeAwf+yK6gq\n",
       "spbk/0f78FpT6yNgvgRdZ5ByTXTp7/8JUw/g8KAO36FZKVkLFDoXhgnDm+YNkxBj44f3p3ZeAqXr\n",
       "FWIHO7OBq/bjQs1z2BcRewE3dxcNYr99dkbDU6JBQdgnYZXMYm8NuU0zrks3s+SObbZUVDxy6qTx\n",
       "EfMfRNSOfoy7xyQ93KVZnGKODi4nHDL5HWbqfob3VlGtdCM9VVKIF/iwL77HVV39A0FPS2Ilz4+p\n",
       "xJfO553vHJbT8jm9QA+SxEOisU3U+94Rex5LjXIUbgdnYzHkJsGLojePAo63yC5YvEq+w1X/R5rs\n",
       "4Frl1o36a47EhNsGE3QmyJ1e0DpitdUy6jwXcXrmzk/0OMGPzfmRf8mQKUsvK5PCkUi2YFggpEdA\n",
       "7fgzw4b1Q7WgrksNtxrq//M63t3kWZoZ3HuNTRVxjC8+PMvrOWCpEm3nNWXud4C2ZPlA/8L6+tj5\n",
       "Kc+uv4bm4x0rYWpGz+gO4qM3OhdhMYuzneqUt4Aeg5G9msT0Nr5pqUiSo1moLI7AqkYDds9+pfAg\n",
       "6+Y9HRsrBYJj2id28ECFWZLtxS+XRu0aPpfjLei2lZEYiao2i7LoCU2A4fB1QyENeIGlnnH5jSi3\n",
       "UGEECJuWlzxhwRw8w96wwalJIuyKpU6VWeEbJWwHOK9FrXt+6iP1iW5sqlqwOTmss7LGjjh0UVJz\n",
       "qYppgn4qjRqtewLq6e9wJ3G5tmu1nW4Sephh4Qatu1ZIer67OhMdDeei0eJGGa5J0DTg4MG18d9k\n",
       "+6dLA9jl26A4w4SPFAvfSupWoOW/2tyOxYASLmjUDS6XsREgo7RbNArGnObzmgmxPJPrIYlkHJ24\n",
       "V1iR10Li2HsiOrhgcQ/mlnvy5BE8AndEWyPl+3M5MjTgFv5iYMP9KZlJDUlmy/69RPDtm919DHQt\n",
       "VocgBy5o/gAAAWBBn9FFFSw3/wAP4aBOH8fdzJDBdReXg5MAJT1i08vQghpg/O55hGtufDQR2cfG\n",
       "qhldeD6KCCWPrNhplHpVJdKQBrRx8DlPmLCyUaMxJWbNeKQAuhFa7tnkaWwFhe/6/cWnZXu5JF1u\n",
       "wgmPxhwMuVyXzcv9UdunxMtC78g0Nde35bRgJmITZhjBfEZn8aptjWgpe+c9tPsv+Dpx2OJRl4RC\n",
       "qtD9POxcJV+Lg7gJWb0wdB3yu3+vgq3h9ou7r/MXnPLrXF8e4BM+TYSD2jCKtkScq9uvKGOdh2FP\n",
       "uoT58tO/31XQArMiH1tdWYNi9R6HzQiBaiIbAjs/p6396uOqawpPcz4FEVvB+Y0Dvm6ImXKY/gq/\n",
       "lfaoBI+N7MeF9eFvXu0XlyyWCxggukqueqDJReUrf8Rav5i/ySFts329k0IkaEYwqxEJxQzpI87b\n",
       "G6CDETFKLXbHxtHABTPxspwDbk0nAAAA+QGf8mpDfwAP4CicwGcOkkqFLY3N0w5+VyeoAUwqJuQc\n",
       "sYFTyqNGYVp1zsFfZog1TZdeRZLD+D+sQPpK/OkVmVGyZKLaoMNK1QiY3ES08a16mZf9zl6JcUL7\n",
       "DRlJfRHJtPB0yFxu0UrkL0YFr9sP1DvBiX2n8G9h4iT8M34aTIcFFG0tBlXMowGonuz0dMky/EDc\n",
       "2pRPxEsBW0Ybb87gmUmX7U7BPTamU8QT/SaZYDXFEYLJ266fBnLZ4YBXIoi1S5uv1gonPQDnMlVV\n",
       "Qdzx4vKGmfww0LHHzi+a5dAWKnSkfod0Hl4W8jet6CB0wIkYcG+i6ntWv5ABqwAAAp1Bm/RJqEFs\n",
       "mUwIIf/+qlUABXAxJdKArejt6tz0IxXrpYwS0EhUOPoGc2dAkGqbyTCp2E9NVkuzakYAjCZJKCnx\n",
       "QhnMhyjSFUtGFecUaD5Q+6FPGS6mFI0WxVDElmr8sSxH2o5R5j04qR2mCorm80tpCU9R52KZQ35N\n",
       "SiQ6tZh1BmtnKg/6SDXRek2XCKtEROc3enffEREwt1TrwwkAl0LM+lIEU5J0A95ld3nJINpsZZaB\n",
       "sFYwwjxO0P1oC7ScpoJNtOjZvuUhuUHlRLCfWm7dAhiheJCxDnKO+48QyiNL6h31AlKxaSGBBh7r\n",
       "Qw6b+E+GqX2Bv5EJ2w2d5pXWZr0DXBkSV3V2LN4hzcFT60dqz818m63xQnYllV9z06XpSurf97wm\n",
       "heSn1gKUlHG26CcYBzzKBu/IWu4swfZ8kcdAI+SJHjqJuNLK3Yd5RpwIqkGvTrSH7YCe+xEez07y\n",
       "Wy02Kyw/FWuM561Ur9ZdzXffNJSbq6qX+mp0GYDwDKI8SHmZzIvkDozGbIeC7iMS4AW8a2DaLN1i\n",
       "hadfqs+xsyvJRgX17qvfRsBHOZjsglQEvmSoWuYayjUEtKbZo25tkTtsn4boefJFjKR5RYL6caEm\n",
       "iS745QUOfAgwA8n4ahq/TacnWiDBNvsddOxk8ERXWnfapbn3+jwNTMIqW20173qByJ5PPXW16EX5\n",
       "+L4BzxL1kt1ZaI2l5SbKhgtfAcwqdILULT9fYIvy/fln26t+WtykpruJI0bdyXbZY59zuG2WuTHu\n",
       "bcd8ReWGFF0F50Bw+cahr5DhPos38EPoMQxnuIsXARECvzZe/SJh5T9r2vwcdURDLJlWaOUTWMQ0\n",
       "qEu2L7lKJPdliQn4xCRTUAHehT5B9DlSZZ6/OS/5OJngaoAAAAIvQZoVSeEKUmUwIIf//qpVAAVy\n",
       "tl1YwFUOL5zXJRipYb6tWo7ECWAPWb68YRRODXInDlbafNAvum9fDCE/3lyxv/4yXwpR5zDWrZZw\n",
       "CZ2sY8GV7xiPW15mBUmtgGGTJVh5wV/1jORKOr+fHy1THjTqZLnkq2gzCNBtGAsSjCT95QeHpTPp\n",
       "URc7mYjSRBFkMQqfNSolstfeI1aQVh70cbbxprcn8YwLqaHl9mJVvY/Z+vND9loamsjWqtCm2DEL\n",
       "cgnFpUYvDY/DkknZI8qRylt8ERPjCN8ZrKQVhKynV+v+LRx1YaIeWNRnUbL+YyhHbfghzjrkb9w9\n",
       "Zhckp9uDP3dGEJLgN0ivWCjHGpBoWx5HM6l9sMbupDQNxzWeo03N5z3S8QeYu5c9IJMeiVQUc048\n",
       "K8c4kyHK+7I8u9pEy0Y6UHR1QqBz7oQYV7sICHo06P8VgJydxS2aha5uRrK+UyCf4dNOMxu36vu+\n",
       "AjuvIVZGhApL+sO/Iaaj9HyTlrGjmOtNBCnGLrI+Ui6IGwENGA7bz5YZNe6Oj5JBmDatWMcoAKKH\n",
       "cBAFFShwb5SsD2kDcnJeIlH5Pd+8/rvSX/xcAiC3/zYFi/yQ3xq4XM+E3t8OzN6ueywvtlv9oVFy\n",
       "MUQy+KdJBeNFbbyQdiOT4GWBCBY6LGtT0LZvFr3+kLIZnxGV/1KefGT9v5epGi5gcp5QIy4d8dUm\n",
       "4lrPI739BMZC+i1Bu4m3s0APPaECsaNy1ebV+wAAAcVBmjZJ4Q6JlMCCP/61KoACuEAON9poAj1n\n",
       "JPzWsvL8CRFLHL+MNx2lZhaCguwphEHRJCdyNYh7MqIWO8ucgmtNPs67U1hHgyU1DeGlVvtrTipx\n",
       "BohEcdXVV7S2u48UnyIPWhoUWLvghVNsJ/oVfWG698bEk8T0gDEtV/oSWC+MRc6NB1+Fi9nSUmzG\n",
       "JP7+GaEeGDhOAC5lvKpAK87mxyJmhEpGHNQ1CactpsswP664YHC6Li80nlX/FAVb7ooNRjSwO0/P\n",
       "CFPQ4QQDajdZQ+4IoPNVDwNlBHgC8A+VWsrvxU1FWJq62sf/eT6kBv+hGwRkY2z8Xx3EexpnB+aK\n",
       "xgXmQ8DnwFnYEDkRtSPK6n+NcH5iRRNuVXpIeC+BpRTc5A19mbyiKMdCke0OegAXKvdPMlxoE17a\n",
       "6zMDOgfPvSZTwjPXF+BYJ5zXbphAHdX0ogoxUDUctdP1qTk2NYwd0ZDVU1cbN+yqnuEqOrbllefC\n",
       "GcdEnvFlN4cov6B5kPBJv+i37VJBOOnFsO+U7ghDlfvqD9LdJwTrZj0RnbmKeg0DVPfnXnNVEAsf\n",
       "nnY5gsVfr/mnaV/0zg5NRM00Bl0Hxuqf9kCSemwAAAK+QZpaSeEPJlMCCP/+tSqAArfmowA2kBqf\n",
       "wAB96TYs+VAtNGVuRnpkzw02D6+0ulEJqohsxwy0OV45Ry/uY6UOQMcGpkU67+KV2RXtIq9dqNTL\n",
       "PPdWLdEIXn7thgcxTRnSQJQ65bB16kIL3FoAJqBmhZkiHTNolF/zLc/1cOuGCu8pcYHm4rF3Uz4h\n",
       "s0Jbhqe69Yfmv8axruNypyWFgeet5hhp+QApwUOqrM4HcLKT48nSN9AO+vWlsl3gYK0hMDpclXGh\n",
       "DeAOHM6fFae/sTtTHQlVt1pDkpOe+YtnbrJlJJqafInTKPIWeMSSJQm4ObTZEgvUnEYBBExdjY+M\n",
       "b22Dx9V+NiFbBN5KZj+2x4c+RLnOJlM2gRgw7gXVaSOL2pxfv5xUXQYDcX8cXY2lw/u8yAZKaBs5\n",
       "0unLb618NzOumrGoDb2rm3suQR+2MM58qZwbyYNdxO/TnNDGHcVltLsdr1NkCqOZAKzcTSCt5ZZY\n",
       "gSxcHRBI5S3+b/3YkcwxndpD3KlXtFTwipWfVGsDcScxhtyMXOd5UPUsGR534ANInJPtdwCe6Jqw\n",
       "KbXEHWHu7ScFtXlns6eM0C2iV7HGxPA98qzFpzpZlN34PwS+2QMLBsRNLFBVwoDhNYMFndRXJk88\n",
       "QCmPbRyaWmmHNDWgZW8/EECpTE5uZXZwR3jDfQI8etE7AV1YIz710JfA2yOZCCZCrIgF/ka8CuGC\n",
       "C41eBQ+YKSXwA4HQKl0AkW2OH5cIesdHF+YP1WSSsGoimzsE/FRR7c8ywkf/Fm0WENFNksS0EZ7+\n",
       "Ee3qLa/Lg6JAcXqi3K2if+qusrarDRtn8LW8gEjNomsj1SSdl69V6g/TXkvpaOxibPqwWvAnwLU/\n",
       "tDarxW+URa2HLsbcgRFRAAcK3Nf4fx7ceyet0egtBi/JnkL9QExaYX7j3fyidf0oFJShAAAArEGe\n",
       "eEURPDv/AAty4BjeQkHnFWblGAEg8zQbpz6Vdo8nsrITxuh7POh37c1qqgBQSFYDhMU8Y4Wt2pt+\n",
       "MMWPoRBZFK22Kgx7cyLuSgE5k4UfMgKC9hvhQ3ZMswvtVcDPFaNf8s3jxMGkaFHvQFg4eAgGfzQZ\n",
       "a7VrfpklTqPFa+chMvuti0htR1SA26l8Vb66Czoc5WP/XQ0x+TyMKEUPy5bNe1O4LrGQe+wAUEEA\n",
       "AABSAZ6XdEN/AA/iiqTk3BGMIBthnhtwlDGe+Mz5NABtP5PdW03aUvRQEMdKpRJqTUr8wtDlI3zE\n",
       "PIOJluA+3UAyrwGv29rUcWihrPEwVQHIAAA2YAAAACsBnplqQ38AD+AonLTbAUS7ViYR3B8a8Y4f\n",
       "i0jRPeHExHAKyEzZi28MAB4RAAABR0GankmoQWiZTAgj//61KoACuLqKTFXxhDLMmAFtI0pkkEHW\n",
       "7Gauim0FOVIEcyKs2jcygO8x9N0PDxlMS1BBEaJCmNQqgZr4OFE4WX28NFSN4lMV340i4ElW3+Mf\n",
       "rV72yFGhE7PN8vnpZeC88fi7bDR2tiSabFZANuEpNPQFLrNf/ww3hR4Pq2swwMXWpaH4x/XDxDGi\n",
       "GGxzcP08g5R0t/n5LiWeyJz7aBcvqgbPPxpNO4OmVYV8IFLplUI5bBFY082f4MddtHkr5awbf7Ty\n",
       "Pb/QuVg5umQ0MjDlcbWynKAMNANah5N7Mv6h8lWGbPEbQFrIX1xKjG24BBfSxLYFDyC/63Mhzqrt\n",
       "gcyy5YMIZxN0hJvp3juvauOyAGCUeSLCc/7qiFnScZuLkshi4WBpWInIRgb3Dwr68YM4vfso3SUC\n",
       "3ZOtwtXSQAAAAFVBnrxFESw7/wALcuAZcWEwPaUE+UuwAD+JywbyzyKWFyGnBbVFWcjvzyEiAZYu\n",
       "R8fxoWbi080PmwK2V/f3FfniH7ErOIb6sxeP+vwvvu6tSn5QoANrAAAANgGe23RDfwAP4oqkCVat\n",
       "ESYI9cHXrY4zMS0qMFWjrqRzvkC7Ezo9jSo5D9FYM0AJ+wlNAAAj4QAAACkBnt1qQ38AD+An2Qgi\n",
       "eX34Zh3ZENOTeoVGm0w0FqqHaTuUhEmStoAEXAAAAM1BmsJJqEFsmUwIIf/+qlUABXA1RISJOIAb\n",
       "FWKBVQGlWItJR7DjEiKPQUd3F9QLsVuH92pBtqyWpgkm2or3Lejf90Y3ym7ULe76ufKBncAhYh9w\n",
       "LSSxf1iRNQOKLUppOsTQ/K1lLXvCAr2feKtkw37N6Q2Kvzwcm+0NCMUeW3DCI3lc9p9btRCqQeqI\n",
       "ZnW2VmJXZyO6X1hl2jSX8TmesBS+1omlT7oBR8BekMamxSTU4CY2P7JvEXNP2K1LZxtGqLL1JeP2\n",
       "qQ1QC5iMbLWAAAAANEGe4EUVLDv/AAty4BlBy6pQPU9IxoDtjEHxWGMi7CnwN6Zxns0kZYMFkhA2\n",
       "D251Zz8ABD0AAAAgAZ8fdEN/AA4mnnQeRN8EXsMVpiZyY0fsZckB1RoADKgAAAAbAZ8BakN/AAfE\n",
       "ohcSA66s0V9ehheNNcgQACghAAAAbkGbBkmoQWyZTAh3//6plgAVK9S6oMdE/cAE7IxqstIDSieC\n",
       "JDlxK5wR/KopvcN4cMtTtFy8K5JEYkP8o52pgpgiXOpNXoq+yJ5SeH+QtV7yPiAextDKNkcHLVgl\n",
       "BVxoAxpGBCP7YSQNJbbvABnwAAAAJEGfJEUVLDv/AAtzhg9Sr7trAgOqXjkk35v9LIDW0m/qTAAb\n",
       "MQAAAB0Bn0N0Q38AB8NPFwoYCmjlgnLMgyweN/ifQADWgQAAAB0Bn0VqQ38ADoFEa62LoagoPORO\n",
       "lC3jpt9iiQAFBQAAABZBm0dJqEFsmUwIb//+p4QAAAMAACbhAAAEt21vb3YAAABsbXZoZAAAAAAA\n",
       "AAAAAAAAAAAAA+gAAA+gAAEAAAEAAAAAAAAAAAAAAAABAAAAAAAAAAAAAAAAAAAAAQAAAAAAAAAA\n",
       "AAAAAAAAQAAAAAAAAAAAAAAAAAAAAAAAAAAAAAAAAAAAAAAAAAIAAAPhdHJhawAAAFx0a2hkAAAA\n",
       "AwAAAAAAAAAAAAAAAQAAAAAAAA+gAAAAAAAAAAAAAAAAAAAAAAABAAAAAAAAAAAAAAAAAAAAAQAA\n",
       "AAAAAAAAAAAAAAAAQAAAAAH0AAABkAAAAAAAJGVkdHMAAAAcZWxzdAAAAAAAAAABAAAPoAAACAAA\n",
       "AQAAAAADWW1kaWEAAAAgbWRoZAAAAAAAAAAAAAAAAAAAKAAAAKAAVcQAAAAAAC1oZGxyAAAAAAAA\n",
       "AAB2aWRlAAAAAAAAAAAAAAAAVmlkZW9IYW5kbGVyAAAAAwRtaW5mAAAAFHZtaGQAAAABAAAAAAAA\n",
       "AAAAAAAkZGluZgAAABxkcmVmAAAAAAAAAAEAAAAMdXJsIAAAAAEAAALEc3RibAAAALRzdHNkAAAA\n",
       "AAAAAAEAAACkYXZjMQAAAAAAAAABAAAAAAAAAAAAAAAAAAAAAAH0AZAASAAAAEgAAAAAAAAAAQAA\n",
       "AAAAAAAAAAAAAAAAAAAAAAAAAAAAAAAAAAAAAAAAABj//wAAADJhdmNDAWQAFv/hABlnZAAWrNlA\n",
       "gDPn4QAAAwABAAADABQPFi2WAQAGaOvjyyLAAAAAHHV1aWRraEDyXyRPxbo5pRvPAyPzAAAAAAAA\n",
       "ABhzdHRzAAAAAAAAAAEAAAAoAAAEAAAAABRzdHNzAAAAAAAAAAEAAAABAAAA+GN0dHMAAAAAAAAA\n",
       "HQAAAAgAAAgAAAAAAQAADAAAAAABAAAEAAAAAAEAABQAAAAAAQAACAAAAAABAAAAAAAAAAEAAAQA\n",
       "AAAAAQAAEAAAAAACAAAEAAAAAAEAABAAAAAAAgAABAAAAAADAAAIAAAAAAEAABQAAAAAAQAACAAA\n",
       "AAABAAAAAAAAAAEAAAQAAAAAAQAAFAAAAAABAAAIAAAAAAEAAAAAAAAAAQAABAAAAAABAAAUAAAA\n",
       "AAEAAAgAAAAAAQAAAAAAAAABAAAEAAAAAAEAABQAAAAAAQAACAAAAAABAAAAAAAAAAEAAAQAAAAA\n",
       "AQAACAAAAAAcc3RzYwAAAAAAAAABAAAAAQAAACgAAAABAAAAtHN0c3oAAAAAAAAAAAAAACgAABTD\n",
       "AAACGwAAAt4AAAQGAAAC3gAAAa8AAAHeAAABxQAAAiMAAADAAAAETgAAAmgAAAEhAAACCAAABDsA\n",
       "AAH8AAABOAAABEkAAAFkAAAA/QAAAqEAAAIzAAAByQAAAsIAAACwAAAAVgAAAC8AAAFLAAAAWQAA\n",
       "ADoAAAAtAAAA0QAAADgAAAAkAAAAHwAAAHIAAAAoAAAAIQAAACEAAAAaAAAAFHN0Y28AAAAAAAAA\n",
       "AQAAACwAAABidWR0YQAAAFptZXRhAAAAAAAAACFoZGxyAAAAAAAAAABtZGlyYXBwbAAAAAAAAAAA\n",
       "AAAAAC1pbHN0AAAAJal0b28AAAAdZGF0YQAAAAEAAAAATGF2ZjU3LjcxLjEwMA==\n",
       "\">\n",
       "  Your browser does not support the video tag.\n",
       "</video>"
      ],
      "text/plain": [
       "<matplotlib.animation.FuncAnimation at 0x7f1921b43190>"
      ]
     },
     "execution_count": 12,
     "metadata": {},
     "output_type": "execute_result"
    }
   ],
   "source": [
    "fig = plt.figure(dpi = 100, figsize = (5, 4))\n",
    "plt.scatter(x, y)\n",
    "predicted_line, = plt.plot(x, line(a_guess, b_guess, x))\n",
    "plt.close()\n",
    "\n",
    "def animate(i):\n",
    "    predicted_line.set_ydata(line(a_guess, b_guess, x))\n",
    "    for i in range(10): take_an_sgd_step()\n",
    "    return predicted_line,\n",
    "\n",
    "sgd_animation = animation.FuncAnimation(fig, animate, np.arange(0, 40), interval = 100)\n",
    "sgd_animation"
   ]
  },
  {
   "cell_type": "code",
   "execution_count": null,
   "metadata": {
    "collapsed": true
   },
   "outputs": [],
   "source": []
  }
 ],
 "metadata": {
  "kernelspec": {
   "display_name": "Python 2",
   "language": "python",
   "name": "python2"
  }
 },
 "nbformat": 4,
 "nbformat_minor": 2
}
